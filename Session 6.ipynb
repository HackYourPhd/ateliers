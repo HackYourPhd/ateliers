{
 "cells": [
  {
   "cell_type": "markdown",
   "metadata": {},
   "source": [
    "#Ouverture de Fichier "
   ]
  },
  {
   "cell_type": "code",
   "execution_count": 11,
   "metadata": {
    "collapsed": false
   },
   "outputs": [
    {
     "name": "stdout",
     "output_type": "stream",
     "text": [
      "\"Height\",\"Weight\",\"Age\",\"Gender\",\"Smokes\",\"Alcohol\",\"Exercise\",\"Ran\",\"Pulse1\",\"Pulse2\",\"Year\"\n",
      "\n",
      "\"173\",\"57\",\"18\",\"2\",\"2\",\"1\",\"2\",\"2\",\"86\",\"88\",\"93\"\n",
      "\n",
      "\"179\",\"58\",\"19\",\"2\",\"2\",\"1\",\"2\",\"1\",\"82\",\"150\",\"93\"\n",
      "\n",
      "\"167\",\"62\",\"18\",\"2\",\"2\",\"1\",\"1\",\"1\",\"96\",\"176\",\"93\"\n",
      "\n",
      "\"195\",\"84\",\"18\",\"1\",\"2\",\"1\",\"1\",\"2\",\"71\",\"73\",\"93\"\n",
      "\n",
      "\"173\",\"64\",\"18\",\"2\",\"2\",\"1\",\"3\",\"2\",\"90\",\"88\",\"93\"\n",
      "\n",
      "\"184\",\"74\",\"22\",\"1\",\"2\",\"1\",\"3\",\"1\",\"78\",\"141\",\"93\"\n",
      "\n",
      "\"162\",\"57\",\"20\",\"2\",\"2\",\"1\",\"2\",\"2\",\"68\",\"72\",\"93\"\n",
      "\n",
      "\"169\",\"55\",\"18\",\"2\",\"2\",\"1\",\"2\",\"2\",\"71\",\"77\",\"93\"\n",
      "\n",
      "\"164\",\"56\",\"19\",\"2\",\"2\",\"1\",\"1\",\"2\",\"68\",\"68\",\"93\"\n",
      "\n"
     ]
    }
   ],
   "source": [
    "with open (\"Atelier_6/ms212.csv\", \"r\") as datafile:\n",
    "    lines_read=0\n",
    "    for line in datafile:\n",
    "        print(line)\n",
    "        lines_read +=1\n",
    "        if lines_read >=10:\n",
    "            break\n",
    "        "
   ]
  },
  {
   "cell_type": "code",
   "execution_count": 13,
   "metadata": {
    "collapsed": false
   },
   "outputs": [
    {
     "name": "stdout",
     "output_type": "stream",
     "text": [
      "['\"173\"', '\"179\"', '\"167\"']\n"
     ]
    }
   ],
   "source": [
    "heights =[]\n",
    "weights = []\n",
    "\n",
    "\n",
    "with open (\"Atelier_6/ms212.csv\", \"r\") as datafile:\n",
    "    for line_number, line in enumerate(datafile):\n",
    "        if line_number ==0:\n",
    "            continue\n",
    "        values = line.split(\",\")\n",
    "        heights.append(values[0])\n",
    "        weights.append(values[1])\n",
    "print(heights[0:3])\n",
    "        "
   ]
  },
  {
   "cell_type": "code",
   "execution_count": 26,
   "metadata": {
    "collapsed": false
   },
   "outputs": [
    {
     "name": "stdout",
     "output_type": "stream",
     "text": [
      "2\n"
     ]
    }
   ],
   "source": [
    "import csv \n",
    "with open(\"Atelier_6/DISCOVER-1.csv\", \"r\") as datafile:\n",
    "    csv_reader = csv.DictReader(datafile, delimiter=\",\", quotechar='\"')\n",
    "    for line in csv_reader:\n",
    "        print(line['id'])\n",
    "        if csv_reader.line_num >=3:\n",
    "            break"
   ]
  },
  {
   "cell_type": "code",
   "execution_count": null,
   "metadata": {
    "collapsed": true
   },
   "outputs": [],
   "source": [
    "print(data[0],)"
   ]
  }
 ],
 "metadata": {
  "kernelspec": {
   "display_name": "Python 3",
   "language": "python",
   "name": "python3"
  },
  "language_info": {
   "codemirror_mode": {
    "name": "ipython",
    "version": 3
   },
   "file_extension": ".py",
   "mimetype": "text/x-python",
   "name": "python",
   "nbconvert_exporter": "python",
   "pygments_lexer": "ipython3",
   "version": "3.4.3"
  }
 },
 "nbformat": 4,
 "nbformat_minor": 0
}
