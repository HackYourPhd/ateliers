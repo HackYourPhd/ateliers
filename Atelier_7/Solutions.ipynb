{
 "cells": [
  {
   "cell_type": "markdown",
   "metadata": {},
   "source": [
    "# Introduction to Matplotlib\n",
    "## ... with the #PanamaPapers\n",
    "Here we are using the dataset \"sunday_times_panama_data_light.csv\" which is the first ~1000 rows of the one released by the Sunday Times, accessible [here](https://cdn.rawgit.com/times/data/master/sunday_times_panama_data.zip). \n",
    "\n",
    "Warning: the .CSV file must be converted in UTF-8\n",
    "> iconv -f iso-8859-1 -t utf-8 < sunday_times_panama_data.csv > sunday_times_panama_data_utf-8.csv\n",
    ">\n",
    "> head -n 1007 sunday_times_panama_data_utf-8.csv > sunday_times_panama_data_utf-8_light.csv"
   ]
  },
  {
   "cell_type": "code",
   "execution_count": 1,
   "metadata": {
    "collapsed": true
   },
   "outputs": [],
   "source": [
    "import pandas as pd"
   ]
  },
  {
   "cell_type": "code",
   "execution_count": 2,
   "metadata": {
    "collapsed": false
   },
   "outputs": [],
   "source": [
    "data = pd.read_csv('sunday_times_panama_data_utf-8_light.csv', encoding='utf-8')"
   ]
  },
  {
   "cell_type": "code",
   "execution_count": 3,
   "metadata": {
    "collapsed": false
   },
   "outputs": [
    {
     "ename": "OSError",
     "evalue": "File b'sunday_times_panama_data/sunday_times_panama_data.csv' does not exist",
     "output_type": "error",
     "traceback": [
      "\u001b[0;31m---------------------------------------------------------------------------\u001b[0m",
      "\u001b[0;31mOSError\u001b[0m                                   Traceback (most recent call last)",
      "\u001b[0;32m<ipython-input-3-488a34b38e82>\u001b[0m in \u001b[0;36m<module>\u001b[0;34m()\u001b[0m\n\u001b[1;32m      3\u001b[0m \u001b[0mfilename\u001b[0m \u001b[0;34m=\u001b[0m \u001b[0;34m'sunday_times_panama_data.csv'\u001b[0m\u001b[0;34m\u001b[0m\u001b[0m\n\u001b[1;32m      4\u001b[0m data = pd.read_csv(os.path.join(folder, filename),\n\u001b[0;32m----> 5\u001b[0;31m                    \u001b[0mencoding\u001b[0m\u001b[0;34m=\u001b[0m\u001b[0;34m'iso-8859-1'\u001b[0m\u001b[0;34m,\u001b[0m\u001b[0;34m\u001b[0m\u001b[0m\n\u001b[0m\u001b[1;32m      6\u001b[0m                    )#nrows=1007)\n",
      "\u001b[0;32m/Users/celyagruson-daniel/anaconda/lib/python3.4/site-packages/pandas/io/parsers.py\u001b[0m in \u001b[0;36mparser_f\u001b[0;34m(filepath_or_buffer, sep, dialect, compression, doublequote, escapechar, quotechar, quoting, skipinitialspace, lineterminator, header, index_col, names, prefix, skiprows, skipfooter, skip_footer, na_values, na_fvalues, true_values, false_values, delimiter, converters, dtype, usecols, engine, delim_whitespace, as_recarray, na_filter, compact_ints, use_unsigned, low_memory, buffer_lines, warn_bad_lines, error_bad_lines, keep_default_na, thousands, comment, decimal, parse_dates, keep_date_col, dayfirst, date_parser, memory_map, float_precision, nrows, iterator, chunksize, verbose, encoding, squeeze, mangle_dupe_cols, tupleize_cols, infer_datetime_format, skip_blank_lines)\u001b[0m\n\u001b[1;32m    472\u001b[0m                     skip_blank_lines=skip_blank_lines)\n\u001b[1;32m    473\u001b[0m \u001b[0;34m\u001b[0m\u001b[0m\n\u001b[0;32m--> 474\u001b[0;31m         \u001b[0;32mreturn\u001b[0m \u001b[0m_read\u001b[0m\u001b[0;34m(\u001b[0m\u001b[0mfilepath_or_buffer\u001b[0m\u001b[0;34m,\u001b[0m \u001b[0mkwds\u001b[0m\u001b[0;34m)\u001b[0m\u001b[0;34m\u001b[0m\u001b[0m\n\u001b[0m\u001b[1;32m    475\u001b[0m \u001b[0;34m\u001b[0m\u001b[0m\n\u001b[1;32m    476\u001b[0m     \u001b[0mparser_f\u001b[0m\u001b[0;34m.\u001b[0m\u001b[0m__name__\u001b[0m \u001b[0;34m=\u001b[0m \u001b[0mname\u001b[0m\u001b[0;34m\u001b[0m\u001b[0m\n",
      "\u001b[0;32m/Users/celyagruson-daniel/anaconda/lib/python3.4/site-packages/pandas/io/parsers.py\u001b[0m in \u001b[0;36m_read\u001b[0;34m(filepath_or_buffer, kwds)\u001b[0m\n\u001b[1;32m    248\u001b[0m \u001b[0;34m\u001b[0m\u001b[0m\n\u001b[1;32m    249\u001b[0m     \u001b[0;31m# Create the parser.\u001b[0m\u001b[0;34m\u001b[0m\u001b[0;34m\u001b[0m\u001b[0m\n\u001b[0;32m--> 250\u001b[0;31m     \u001b[0mparser\u001b[0m \u001b[0;34m=\u001b[0m \u001b[0mTextFileReader\u001b[0m\u001b[0;34m(\u001b[0m\u001b[0mfilepath_or_buffer\u001b[0m\u001b[0;34m,\u001b[0m \u001b[0;34m**\u001b[0m\u001b[0mkwds\u001b[0m\u001b[0;34m)\u001b[0m\u001b[0;34m\u001b[0m\u001b[0m\n\u001b[0m\u001b[1;32m    251\u001b[0m \u001b[0;34m\u001b[0m\u001b[0m\n\u001b[1;32m    252\u001b[0m     \u001b[0;32mif\u001b[0m \u001b[0;34m(\u001b[0m\u001b[0mnrows\u001b[0m \u001b[0;32mis\u001b[0m \u001b[0;32mnot\u001b[0m \u001b[0;32mNone\u001b[0m\u001b[0;34m)\u001b[0m \u001b[0;32mand\u001b[0m \u001b[0;34m(\u001b[0m\u001b[0mchunksize\u001b[0m \u001b[0;32mis\u001b[0m \u001b[0;32mnot\u001b[0m \u001b[0;32mNone\u001b[0m\u001b[0;34m)\u001b[0m\u001b[0;34m:\u001b[0m\u001b[0;34m\u001b[0m\u001b[0m\n",
      "\u001b[0;32m/Users/celyagruson-daniel/anaconda/lib/python3.4/site-packages/pandas/io/parsers.py\u001b[0m in \u001b[0;36m__init__\u001b[0;34m(self, f, engine, **kwds)\u001b[0m\n\u001b[1;32m    564\u001b[0m             \u001b[0mself\u001b[0m\u001b[0;34m.\u001b[0m\u001b[0moptions\u001b[0m\u001b[0;34m[\u001b[0m\u001b[0;34m'has_index_names'\u001b[0m\u001b[0;34m]\u001b[0m \u001b[0;34m=\u001b[0m \u001b[0mkwds\u001b[0m\u001b[0;34m[\u001b[0m\u001b[0;34m'has_index_names'\u001b[0m\u001b[0;34m]\u001b[0m\u001b[0;34m\u001b[0m\u001b[0m\n\u001b[1;32m    565\u001b[0m \u001b[0;34m\u001b[0m\u001b[0m\n\u001b[0;32m--> 566\u001b[0;31m         \u001b[0mself\u001b[0m\u001b[0;34m.\u001b[0m\u001b[0m_make_engine\u001b[0m\u001b[0;34m(\u001b[0m\u001b[0mself\u001b[0m\u001b[0;34m.\u001b[0m\u001b[0mengine\u001b[0m\u001b[0;34m)\u001b[0m\u001b[0;34m\u001b[0m\u001b[0m\n\u001b[0m\u001b[1;32m    567\u001b[0m \u001b[0;34m\u001b[0m\u001b[0m\n\u001b[1;32m    568\u001b[0m     \u001b[0;32mdef\u001b[0m \u001b[0m_get_options_with_defaults\u001b[0m\u001b[0;34m(\u001b[0m\u001b[0mself\u001b[0m\u001b[0;34m,\u001b[0m \u001b[0mengine\u001b[0m\u001b[0;34m)\u001b[0m\u001b[0;34m:\u001b[0m\u001b[0;34m\u001b[0m\u001b[0m\n",
      "\u001b[0;32m/Users/celyagruson-daniel/anaconda/lib/python3.4/site-packages/pandas/io/parsers.py\u001b[0m in \u001b[0;36m_make_engine\u001b[0;34m(self, engine)\u001b[0m\n\u001b[1;32m    703\u001b[0m     \u001b[0;32mdef\u001b[0m \u001b[0m_make_engine\u001b[0m\u001b[0;34m(\u001b[0m\u001b[0mself\u001b[0m\u001b[0;34m,\u001b[0m \u001b[0mengine\u001b[0m\u001b[0;34m=\u001b[0m\u001b[0;34m'c'\u001b[0m\u001b[0;34m)\u001b[0m\u001b[0;34m:\u001b[0m\u001b[0;34m\u001b[0m\u001b[0m\n\u001b[1;32m    704\u001b[0m         \u001b[0;32mif\u001b[0m \u001b[0mengine\u001b[0m \u001b[0;34m==\u001b[0m \u001b[0;34m'c'\u001b[0m\u001b[0;34m:\u001b[0m\u001b[0;34m\u001b[0m\u001b[0m\n\u001b[0;32m--> 705\u001b[0;31m             \u001b[0mself\u001b[0m\u001b[0;34m.\u001b[0m\u001b[0m_engine\u001b[0m \u001b[0;34m=\u001b[0m \u001b[0mCParserWrapper\u001b[0m\u001b[0;34m(\u001b[0m\u001b[0mself\u001b[0m\u001b[0;34m.\u001b[0m\u001b[0mf\u001b[0m\u001b[0;34m,\u001b[0m \u001b[0;34m**\u001b[0m\u001b[0mself\u001b[0m\u001b[0;34m.\u001b[0m\u001b[0moptions\u001b[0m\u001b[0;34m)\u001b[0m\u001b[0;34m\u001b[0m\u001b[0m\n\u001b[0m\u001b[1;32m    706\u001b[0m         \u001b[0;32melse\u001b[0m\u001b[0;34m:\u001b[0m\u001b[0;34m\u001b[0m\u001b[0m\n\u001b[1;32m    707\u001b[0m             \u001b[0;32mif\u001b[0m \u001b[0mengine\u001b[0m \u001b[0;34m==\u001b[0m \u001b[0;34m'python'\u001b[0m\u001b[0;34m:\u001b[0m\u001b[0;34m\u001b[0m\u001b[0m\n",
      "\u001b[0;32m/Users/celyagruson-daniel/anaconda/lib/python3.4/site-packages/pandas/io/parsers.py\u001b[0m in \u001b[0;36m__init__\u001b[0;34m(self, src, **kwds)\u001b[0m\n\u001b[1;32m   1070\u001b[0m         \u001b[0mkwds\u001b[0m\u001b[0;34m[\u001b[0m\u001b[0;34m'allow_leading_cols'\u001b[0m\u001b[0;34m]\u001b[0m \u001b[0;34m=\u001b[0m \u001b[0mself\u001b[0m\u001b[0;34m.\u001b[0m\u001b[0mindex_col\u001b[0m \u001b[0;32mis\u001b[0m \u001b[0;32mnot\u001b[0m \u001b[0;32mFalse\u001b[0m\u001b[0;34m\u001b[0m\u001b[0m\n\u001b[1;32m   1071\u001b[0m \u001b[0;34m\u001b[0m\u001b[0m\n\u001b[0;32m-> 1072\u001b[0;31m         \u001b[0mself\u001b[0m\u001b[0;34m.\u001b[0m\u001b[0m_reader\u001b[0m \u001b[0;34m=\u001b[0m \u001b[0m_parser\u001b[0m\u001b[0;34m.\u001b[0m\u001b[0mTextReader\u001b[0m\u001b[0;34m(\u001b[0m\u001b[0msrc\u001b[0m\u001b[0;34m,\u001b[0m \u001b[0;34m**\u001b[0m\u001b[0mkwds\u001b[0m\u001b[0;34m)\u001b[0m\u001b[0;34m\u001b[0m\u001b[0m\n\u001b[0m\u001b[1;32m   1073\u001b[0m \u001b[0;34m\u001b[0m\u001b[0m\n\u001b[1;32m   1074\u001b[0m         \u001b[0;31m# XXX\u001b[0m\u001b[0;34m\u001b[0m\u001b[0;34m\u001b[0m\u001b[0m\n",
      "\u001b[0;32mpandas/parser.pyx\u001b[0m in \u001b[0;36mpandas.parser.TextReader.__cinit__ (pandas/parser.c:3173)\u001b[0;34m()\u001b[0m\n",
      "\u001b[0;32mpandas/parser.pyx\u001b[0m in \u001b[0;36mpandas.parser.TextReader._setup_parser_source (pandas/parser.c:5912)\u001b[0;34m()\u001b[0m\n",
      "\u001b[0;31mOSError\u001b[0m: File b'sunday_times_panama_data/sunday_times_panama_data.csv' does not exist"
     ]
    }
   ],
   "source": [
    "import os\n",
    "folder = 'sunday_times_panama_data'\n",
    "filename = 'sunday_times_panama_data.csv'\n",
    "data = pd.read_csv(os.path.join(folder, filename),\n",
    "                   encoding='iso-8859-1',\n",
    "                   )#nrows=1007)"
   ]
  },
  {
   "cell_type": "code",
   "execution_count": 11,
   "metadata": {
    "collapsed": false
   },
   "outputs": [
    {
     "data": {
      "text/html": [
       "<div>\n",
       "<table border=\"1\" class=\"dataframe\">\n",
       "  <thead>\n",
       "    <tr style=\"text-align: right;\">\n",
       "      <th></th>\n",
       "      <th>company_url</th>\n",
       "      <th>company_name</th>\n",
       "      <th>officer_position_es</th>\n",
       "      <th>officer_position_en</th>\n",
       "      <th>officer_name</th>\n",
       "      <th>inc_date</th>\n",
       "      <th>dissolved_date</th>\n",
       "      <th>updated_date</th>\n",
       "      <th>company_type</th>\n",
       "      <th>mf_link</th>\n",
       "    </tr>\n",
       "  </thead>\n",
       "  <tbody>\n",
       "    <tr>\n",
       "      <th>0</th>\n",
       "      <td>https://opencorporates.com/companies/pa/100056</td>\n",
       "      <td>OVERSEAS FINANCIAL AND INSURANCE SERVICES</td>\n",
       "      <td>agent</td>\n",
       "      <td>Legal agent</td>\n",
       "      <td>JURGEN MOSSACK</td>\n",
       "      <td>1982-11-09</td>\n",
       "      <td>1990-01-05</td>\n",
       "      <td>2016-03-17 08:19:25</td>\n",
       "      <td>SOCIEDAD ANONIMA\\r</td>\n",
       "      <td>1</td>\n",
       "    </tr>\n",
       "    <tr>\n",
       "      <th>1</th>\n",
       "      <td>https://opencorporates.com/companies/pa/100056</td>\n",
       "      <td>OVERSEAS FINANCIAL AND INSURANCE SERVICES</td>\n",
       "      <td>presidente</td>\n",
       "      <td>President/Chairman</td>\n",
       "      <td>JURGEN MOSSACK</td>\n",
       "      <td>1982-11-09</td>\n",
       "      <td>1990-01-05</td>\n",
       "      <td>2016-03-17 08:19:25</td>\n",
       "      <td>SOCIEDAD ANONIMA\\r</td>\n",
       "      <td>1</td>\n",
       "    </tr>\n",
       "    <tr>\n",
       "      <th>2</th>\n",
       "      <td>https://opencorporates.com/companies/pa/100056</td>\n",
       "      <td>OVERSEAS FINANCIAL AND INSURANCE SERVICES</td>\n",
       "      <td>tesorero</td>\n",
       "      <td>Treasurer</td>\n",
       "      <td>JURGEN MOSSACK</td>\n",
       "      <td>1982-11-09</td>\n",
       "      <td>1990-01-05</td>\n",
       "      <td>2016-03-17 08:19:25</td>\n",
       "      <td>SOCIEDAD ANONIMA\\r</td>\n",
       "      <td>1</td>\n",
       "    </tr>\n",
       "    <tr>\n",
       "      <th>3</th>\n",
       "      <td>https://opencorporates.com/companies/pa/100056</td>\n",
       "      <td>OVERSEAS FINANCIAL AND INSURANCE SERVICES</td>\n",
       "      <td>secretario</td>\n",
       "      <td>Secretary</td>\n",
       "      <td>DIVA ARGELIS PATINO DE DONADO</td>\n",
       "      <td>1982-11-09</td>\n",
       "      <td>1990-01-05</td>\n",
       "      <td>2016-03-17 08:19:25</td>\n",
       "      <td>SOCIEDAD ANONIMA\\r</td>\n",
       "      <td>1</td>\n",
       "    </tr>\n",
       "    <tr>\n",
       "      <th>4</th>\n",
       "      <td>https://opencorporates.com/companies/pa/100056</td>\n",
       "      <td>OVERSEAS FINANCIAL AND INSURANCE SERVICES</td>\n",
       "      <td>director</td>\n",
       "      <td>Director</td>\n",
       "      <td>JURGEN MOSSACK</td>\n",
       "      <td>1982-11-09</td>\n",
       "      <td>1990-01-05</td>\n",
       "      <td>2016-03-17 08:19:25</td>\n",
       "      <td>SOCIEDAD ANONIMA\\r</td>\n",
       "      <td>1</td>\n",
       "    </tr>\n",
       "    <tr>\n",
       "      <th>5</th>\n",
       "      <td>https://opencorporates.com/companies/pa/100056</td>\n",
       "      <td>OVERSEAS FINANCIAL AND INSURANCE SERVICES</td>\n",
       "      <td>director</td>\n",
       "      <td>Director</td>\n",
       "      <td>DIVA ARGELIS PATINO DE DONADO</td>\n",
       "      <td>1982-11-09</td>\n",
       "      <td>1990-01-05</td>\n",
       "      <td>2016-03-17 08:19:25</td>\n",
       "      <td>SOCIEDAD ANONIMA\\r</td>\n",
       "      <td>1</td>\n",
       "    </tr>\n",
       "    <tr>\n",
       "      <th>6</th>\n",
       "      <td>https://opencorporates.com/companies/pa/100056</td>\n",
       "      <td>OVERSEAS FINANCIAL AND INSURANCE SERVICES</td>\n",
       "      <td>director</td>\n",
       "      <td>Director</td>\n",
       "      <td>IVETTE CAMPOS</td>\n",
       "      <td>1982-11-09</td>\n",
       "      <td>1990-01-05</td>\n",
       "      <td>2016-03-17 08:19:25</td>\n",
       "      <td>SOCIEDAD ANONIMA\\r</td>\n",
       "      <td>0</td>\n",
       "    </tr>\n",
       "    <tr>\n",
       "      <th>7</th>\n",
       "      <td>https://opencorporates.com/companies/pa/100056</td>\n",
       "      <td>OVERSEAS FINANCIAL AND INSURANCE SERVICES</td>\n",
       "      <td>suscriptor</td>\n",
       "      <td>Shareholder</td>\n",
       "      <td>JURGEN MOSSACK</td>\n",
       "      <td>1982-11-09</td>\n",
       "      <td>1990-01-05</td>\n",
       "      <td>2016-03-17 08:19:25</td>\n",
       "      <td>SOCIEDAD ANONIMA\\r</td>\n",
       "      <td>1</td>\n",
       "    </tr>\n",
       "    <tr>\n",
       "      <th>8</th>\n",
       "      <td>https://opencorporates.com/companies/pa/100056</td>\n",
       "      <td>OVERSEAS FINANCIAL AND INSURANCE SERVICES</td>\n",
       "      <td>suscriptor</td>\n",
       "      <td>Shareholder</td>\n",
       "      <td>DIVA ARGELIS PATINO DE DONADO</td>\n",
       "      <td>1982-11-09</td>\n",
       "      <td>1990-01-05</td>\n",
       "      <td>2016-03-17 08:19:25</td>\n",
       "      <td>SOCIEDAD ANONIMA\\r</td>\n",
       "      <td>1</td>\n",
       "    </tr>\n",
       "    <tr>\n",
       "      <th>9</th>\n",
       "      <td>https://opencorporates.com/companies/pa/100056</td>\n",
       "      <td>OVERSEAS FINANCIAL AND INSURANCE SERVICES</td>\n",
       "      <td>representante</td>\n",
       "      <td>Representative</td>\n",
       "      <td>EL PRESIDENTE, EN SU AUSENCIA EL TESORERO O EL...</td>\n",
       "      <td>1982-11-09</td>\n",
       "      <td>1990-01-05</td>\n",
       "      <td>2016-03-17 08:19:25</td>\n",
       "      <td>SOCIEDAD ANONIMA\\r</td>\n",
       "      <td>0</td>\n",
       "    </tr>\n",
       "  </tbody>\n",
       "</table>\n",
       "</div>"
      ],
      "text/plain": [
       "                                      company_url  \\\n",
       "0  https://opencorporates.com/companies/pa/100056   \n",
       "1  https://opencorporates.com/companies/pa/100056   \n",
       "2  https://opencorporates.com/companies/pa/100056   \n",
       "3  https://opencorporates.com/companies/pa/100056   \n",
       "4  https://opencorporates.com/companies/pa/100056   \n",
       "5  https://opencorporates.com/companies/pa/100056   \n",
       "6  https://opencorporates.com/companies/pa/100056   \n",
       "7  https://opencorporates.com/companies/pa/100056   \n",
       "8  https://opencorporates.com/companies/pa/100056   \n",
       "9  https://opencorporates.com/companies/pa/100056   \n",
       "\n",
       "                                company_name officer_position_es  \\\n",
       "0  OVERSEAS FINANCIAL AND INSURANCE SERVICES               agent   \n",
       "1  OVERSEAS FINANCIAL AND INSURANCE SERVICES          presidente   \n",
       "2  OVERSEAS FINANCIAL AND INSURANCE SERVICES            tesorero   \n",
       "3  OVERSEAS FINANCIAL AND INSURANCE SERVICES          secretario   \n",
       "4  OVERSEAS FINANCIAL AND INSURANCE SERVICES            director   \n",
       "5  OVERSEAS FINANCIAL AND INSURANCE SERVICES            director   \n",
       "6  OVERSEAS FINANCIAL AND INSURANCE SERVICES            director   \n",
       "7  OVERSEAS FINANCIAL AND INSURANCE SERVICES          suscriptor   \n",
       "8  OVERSEAS FINANCIAL AND INSURANCE SERVICES          suscriptor   \n",
       "9  OVERSEAS FINANCIAL AND INSURANCE SERVICES       representante   \n",
       "\n",
       "  officer_position_en                                       officer_name  \\\n",
       "0         Legal agent                                     JURGEN MOSSACK   \n",
       "1  President/Chairman                                     JURGEN MOSSACK   \n",
       "2           Treasurer                                     JURGEN MOSSACK   \n",
       "3           Secretary                      DIVA ARGELIS PATINO DE DONADO   \n",
       "4            Director                                     JURGEN MOSSACK   \n",
       "5            Director                      DIVA ARGELIS PATINO DE DONADO   \n",
       "6            Director                                      IVETTE CAMPOS   \n",
       "7         Shareholder                                     JURGEN MOSSACK   \n",
       "8         Shareholder                      DIVA ARGELIS PATINO DE DONADO   \n",
       "9      Representative  EL PRESIDENTE, EN SU AUSENCIA EL TESORERO O EL...   \n",
       "\n",
       "     inc_date dissolved_date         updated_date        company_type  mf_link  \n",
       "0  1982-11-09     1990-01-05  2016-03-17 08:19:25  SOCIEDAD ANONIMA\\r        1  \n",
       "1  1982-11-09     1990-01-05  2016-03-17 08:19:25  SOCIEDAD ANONIMA\\r        1  \n",
       "2  1982-11-09     1990-01-05  2016-03-17 08:19:25  SOCIEDAD ANONIMA\\r        1  \n",
       "3  1982-11-09     1990-01-05  2016-03-17 08:19:25  SOCIEDAD ANONIMA\\r        1  \n",
       "4  1982-11-09     1990-01-05  2016-03-17 08:19:25  SOCIEDAD ANONIMA\\r        1  \n",
       "5  1982-11-09     1990-01-05  2016-03-17 08:19:25  SOCIEDAD ANONIMA\\r        1  \n",
       "6  1982-11-09     1990-01-05  2016-03-17 08:19:25  SOCIEDAD ANONIMA\\r        0  \n",
       "7  1982-11-09     1990-01-05  2016-03-17 08:19:25  SOCIEDAD ANONIMA\\r        1  \n",
       "8  1982-11-09     1990-01-05  2016-03-17 08:19:25  SOCIEDAD ANONIMA\\r        1  \n",
       "9  1982-11-09     1990-01-05  2016-03-17 08:19:25  SOCIEDAD ANONIMA\\r        0  "
      ]
     },
     "execution_count": 11,
     "metadata": {},
     "output_type": "execute_result"
    }
   ],
   "source": [
    "data.head(10)"
   ]
  },
  {
   "cell_type": "code",
   "execution_count": 10,
   "metadata": {
    "collapsed": false
   },
   "outputs": [
    {
     "data": {
      "text/plain": [
       "99"
      ]
     },
     "execution_count": 10,
     "metadata": {},
     "output_type": "execute_result"
    }
   ],
   "source": [
    "\n",
    "#companies = data.company_name.str.upper().unique()\n",
    "companies = data['company_name']\n",
    "str_companies = companies.str.upper()\n",
    "unique_companies = set(str_companies)\n",
    "len(unique_companies)"
   ]
  },
  {
   "cell_type": "code",
   "execution_count": 13,
   "metadata": {
    "collapsed": false
   },
   "outputs": [
    {
     "data": {
      "text/plain": [
       "306"
      ]
     },
     "execution_count": 13,
     "metadata": {},
     "output_type": "execute_result"
    }
   ],
   "source": [
    "persons = data.officer_name.str.upper().unique()\n",
    "len(persons)"
   ]
  },
  {
   "cell_type": "code",
   "execution_count": 14,
   "metadata": {
    "collapsed": false,
    "scrolled": true
   },
   "outputs": [
    {
     "name": "stdout",
     "output_type": "stream",
     "text": [
      "JURGEN MOSSACK :  74\n",
      "DIVA ARGELIS PATINO DE DONADO :  50\n",
      "IVETTE CAMPOS :  19\n",
      "EL PRESIDENTE, EN SU AUSENCIA EL TESORERO O EL SECRETARIO :  47\n",
      "FRANCOIS CARDIS :  1\n",
      "JEAN FRANCKEN :  1\n",
      "FRANCOIS DEMAGE :  1\n",
      "RAMON FONSECA MORA :  8\n",
      "ALFREDO FONSECA ZAMORA :  11\n",
      "LETICIA MONTOYA MORAN :  8\n"
     ]
    }
   ],
   "source": [
    "for person in persons[:10]:\n",
    "    mask = data.officer_name.str.upper()==person\n",
    "    data_select = data[mask]\n",
    "    print(person,': ',len(data_select.company_name.unique()))"
   ]
  },
  {
   "cell_type": "code",
   "execution_count": null,
   "metadata": {
    "collapsed": true
   },
   "outputs": [],
   "source": []
  },
  {
   "cell_type": "code",
   "execution_count": null,
   "metadata": {
    "collapsed": false,
    "scrolled": true
   },
   "outputs": [],
   "source": [
    "for name in data.officer_name.unique()[:3]:\n",
    "    print(name, (data.officer_name==name).sum())"
   ]
  },
  {
   "cell_type": "code",
   "execution_count": null,
   "metadata": {
    "collapsed": false
   },
   "outputs": [],
   "source": [
    "len(data[data.officer_name=='JURGEN MOSSACK'].company_name.unique())"
   ]
  },
  {
   "cell_type": "code",
   "execution_count": null,
   "metadata": {
    "collapsed": true
   },
   "outputs": [],
   "source": [
    "from datetime import datetime\n",
    "\n",
    "def days_between(d1, d2):\n",
    "    if d1[4]=='-': \n",
    "        d1 = datetime.strptime(d1, \"%Y-%m-%d\")\n",
    "    else:\n",
    "        d1 = datetime.strptime(d1, \"%Y/%m/%d\")\n",
    "    if d2[4]=='-': \n",
    "        d2 = datetime.strptime(d2, \"%Y-%m-%d\")\n",
    "    else:\n",
    "        d2 = datetime.strptime(d2, \"%Y/%m/%d\")\n",
    "    return abs((d2 - d1).days)"
   ]
  },
  {
   "cell_type": "code",
   "execution_count": null,
   "metadata": {
    "collapsed": false
   },
   "outputs": [],
   "source": [
    "duree = []\n",
    "for company in data.company_name.unique()[:3]:\n",
    "    print(company)\n",
    "    subdata = data[data.company_name==company]\n",
    "    d1 = subdata.iloc[0].inc_date\n",
    "    d2 = subdata.iloc[0].dissolved_date\n",
    "    if d2 == '0000-00-00':\n",
    "        d2 = subdata.iloc[0].updated_date[:10]\n",
    "    print(d1, d2, days_between(d1, d2))\n",
    "    duree.append(days_between(d1, d2))"
   ]
  },
  {
   "cell_type": "code",
   "execution_count": null,
   "metadata": {
    "collapsed": true
   },
   "outputs": [],
   "source": [
    "duree = []\n",
    "for company in data.company_name.unique():\n",
    "    subdata = data[data.company_name==company]\n",
    "    d1 = subdata.iloc[0].inc_date\n",
    "    d2 = subdata.iloc[0].dissolved_date\n",
    "    if d2 == '0000-00-00':\n",
    "        d2 = subdata.iloc[0].updated_date[:10]\n",
    "    duree.append(days_between(d1, d2))"
   ]
  },
  {
   "cell_type": "code",
   "execution_count": null,
   "metadata": {
    "collapsed": true
   },
   "outputs": [],
   "source": [
    "import matplotlib.pyplot as plt"
   ]
  },
  {
   "cell_type": "code",
   "execution_count": null,
   "metadata": {
    "collapsed": false
   },
   "outputs": [],
   "source": [
    "# Premier test\n",
    "plt.figure()"
   ]
  },
  {
   "cell_type": "code",
   "execution_count": null,
   "metadata": {
    "collapsed": false
   },
   "outputs": [],
   "source": [
    "# Oui car il faut dire tout à un ordinateur ...\n",
    "plt.figure()\n",
    "plt.show()"
   ]
  },
  {
   "cell_type": "code",
   "execution_count": null,
   "metadata": {
    "collapsed": true
   },
   "outputs": [],
   "source": [
    "# Et pour voir tout ça directement dans son iPython notebook... magie!\n",
    "%matplotlib inline"
   ]
  },
  {
   "cell_type": "code",
   "execution_count": null,
   "metadata": {
    "collapsed": false
   },
   "outputs": [],
   "source": [
    "# Et voilà!\n",
    "plt.figure()\n",
    "plt.show()"
   ]
  },
  {
   "cell_type": "code",
   "execution_count": null,
   "metadata": {
    "collapsed": false
   },
   "outputs": [],
   "source": [
    "# C'est mieux avec quelque chose dedans...\n",
    "plt.figure()\n",
    "plt.plot([0,1],[2,3])\n",
    "plt.show()"
   ]
  },
  {
   "cell_type": "code",
   "execution_count": null,
   "metadata": {
    "collapsed": false
   },
   "outputs": [],
   "source": [
    "# Retour au Panama Papers\n",
    "plt.figure()\n",
    "plt.hist([(data.officer_name==name).sum() for name in data.officer_name.unique()])\n",
    "plt.show()"
   ]
  },
  {
   "cell_type": "code",
   "execution_count": null,
   "metadata": {
    "collapsed": false
   },
   "outputs": [],
   "source": [
    "plt.figure()\n",
    "plt.hist(duree)\n",
    "plt.xticks(range(0,16000,360*5),range(0,45,5), rotation='vertical')\n",
    "plt.show()"
   ]
  },
  {
   "cell_type": "code",
   "execution_count": null,
   "metadata": {
    "collapsed": false
   },
   "outputs": [],
   "source": [
    "positions = data.officer_position_en.unique()\n",
    "posNum = []\n",
    "for pos in positions:\n",
    "    print(pos, (data.officer_position_en==pos).sum())\n",
    "    posNum.append((data.officer_position_en==pos).sum())"
   ]
  },
  {
   "cell_type": "code",
   "execution_count": null,
   "metadata": {
    "collapsed": false
   },
   "outputs": [],
   "source": [
    "plt.bar(range(len(positions)),posNum)\n",
    "plt.xticks(range(len(positions)),positions, rotation='vertical')\n",
    "plt.show()"
   ]
  },
  {
   "cell_type": "code",
   "execution_count": null,
   "metadata": {
    "collapsed": false
   },
   "outputs": [],
   "source": [
    "import numpy as np\n",
    "plt.figure()\n",
    "plt.bar(range(len(positions)),posNum)\n",
    "plt.xticks(np.arange(len(positions))+0.5,positions, rotation='vertical')\n",
    "plt.show()"
   ]
  },
  {
   "cell_type": "code",
   "execution_count": null,
   "metadata": {
    "collapsed": false
   },
   "outputs": [],
   "source": [
    "idx = np.argsort(posNum)\n",
    "plt.bar(range(len(positions)),np.array(posNum)[idx])\n",
    "plt.xticks(np.arange(len(positions))+0.5,positions[idx], rotation='vertical')\n",
    "plt.ylabel('# of individuals')\n",
    "plt.xlabel('Position in the company')\n",
    "plt.title('Demography in the Panama Papers')\n",
    "plt.show()"
   ]
  },
  {
   "cell_type": "code",
   "execution_count": null,
   "metadata": {
    "collapsed": false
   },
   "outputs": [],
   "source": [
    "plt.xkcd()\n",
    "plt.figure(figsize=[20,10])\n",
    "plt.bar(range(len(positions)),np.array(posNum)[idx])\n",
    "plt.xticks(np.arange(len(positions))+0.5,positions[idx], rotation='vertical')\n",
    "plt.title('Demography of the Panama Papers')\n",
    "plt.ylabel('# of people')\n",
    "plt.xlabel('Positions in the company')\n",
    "plt.xlim([0,len(positions)])\n",
    "#plt.grid()\n",
    "plt.show()"
   ]
  },
  {
   "cell_type": "code",
   "execution_count": null,
   "metadata": {
    "collapsed": false
   },
   "outputs": [],
   "source": [
    "plt.xkcd()\n",
    "plt.figure()\n",
    "plt.figure(figsize=[20,10])\n",
    "plt.hist(duree,100)\n",
    "plt.ylabel('# of companies')\n",
    "plt.xlabel('Years')\n",
    "plt.xticks(range(0,20000,360*5),range(0,56,5), rotation='vertical')\n",
    "plt.xlim([0, 360*50])\n",
    "plt.title('Life expectancy of the companies in the Panama Papers')\n",
    "plt.show()"
   ]
  }
 ],
 "metadata": {
  "kernelspec": {
   "display_name": "Python 3",
   "language": "python",
   "name": "python3"
  },
  "language_info": {
   "codemirror_mode": {
    "name": "ipython",
    "version": 3
   },
   "file_extension": ".py",
   "mimetype": "text/x-python",
   "name": "python",
   "nbconvert_exporter": "python",
   "pygments_lexer": "ipython3",
   "version": "3.4.3"
  }
 },
 "nbformat": 4,
 "nbformat_minor": 0
}
