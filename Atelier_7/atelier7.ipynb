{
 "cells": [
  {
   "cell_type": "markdown",
   "metadata": {},
   "source": [
    "# Introduction to Matplotlib\n",
    "## ... with the #PanamaPapers\n",
    "Here we are using the dataset \"sunday_times_panama_data_light.csv\" which is the first ~1000 rows of the one released by the Sunday Times, accessible [here](https://cdn.rawgit.com/times/data/master/sunday_times_panama_data.zip). \n",
    "\n",
    "Warning: the .CSV file must be converted in UTF-8\n",
    "> iconv -f iso-8859-1 -t utf-8 < sunday_times_panama_data.csv > sunday_times_panama_data_utf-8.csv\n",
    ">\n",
    "> head -n 1007 sunday_times_panama_data_utf-8.csv > sunday_times_panama_data_utf-8_light.csv"
   ]
  },
  {
   "cell_type": "code",
   "execution_count": 1,
   "metadata": {
    "collapsed": true
   },
   "outputs": [],
   "source": [
    "import pandas as pd"
   ]
  },
  {
   "cell_type": "code",
   "execution_count": 110,
   "metadata": {
    "collapsed": false
   },
   "outputs": [],
   "source": [
    "data = pd.read_csv('data/sunday_times_panama_data_utf-8_light.csv', encoding='utf-8')"
   ]
  },
  {
   "cell_type": "code",
   "execution_count": 28,
   "metadata": {
    "collapsed": false
   },
   "outputs": [],
   "source": [
    "import os\n",
    "folder = 'data'\n",
    "filename = 'sunday_times_panama_data_light.csv'\n",
    "data = pd.read_csv(os.path.join(folder, filename),\n",
    "                   encoding='iso-8859-1',\n",
    "                   ) # for reading the first 1007 rows add this parameter: nrows=1007"
   ]
  },
  {
   "cell_type": "code",
   "execution_count": 29,
   "metadata": {
    "collapsed": false
   },
   "outputs": [
    {
     "data": {
      "text/html": [
       "<div>\n",
       "<table border=\"1\" class=\"dataframe\">\n",
       "  <thead>\n",
       "    <tr style=\"text-align: right;\">\n",
       "      <th></th>\n",
       "      <th>company_url</th>\n",
       "      <th>company_name</th>\n",
       "      <th>officer_position_es</th>\n",
       "      <th>officer_position_en</th>\n",
       "      <th>officer_name</th>\n",
       "      <th>inc_date</th>\n",
       "      <th>dissolved_date</th>\n",
       "      <th>updated_date</th>\n",
       "      <th>company_type</th>\n",
       "      <th>mf_link</th>\n",
       "    </tr>\n",
       "  </thead>\n",
       "  <tbody>\n",
       "    <tr>\n",
       "      <th>0</th>\n",
       "      <td>https://opencorporates.com/companies/pa/100056</td>\n",
       "      <td>OVERSEAS FINANCIAL AND INSURANCE SERVICES</td>\n",
       "      <td>agent</td>\n",
       "      <td>Legal agent</td>\n",
       "      <td>JURGEN MOSSACK</td>\n",
       "      <td>1982-11-09</td>\n",
       "      <td>1990-01-05</td>\n",
       "      <td>2016-03-17 08:19:25</td>\n",
       "      <td>SOCIEDAD ANONIMA\\r</td>\n",
       "      <td>1</td>\n",
       "    </tr>\n",
       "  </tbody>\n",
       "</table>\n",
       "</div>"
      ],
      "text/plain": [
       "                                      company_url  \\\n",
       "0  https://opencorporates.com/companies/pa/100056   \n",
       "\n",
       "                                company_name officer_position_es  \\\n",
       "0  OVERSEAS FINANCIAL AND INSURANCE SERVICES               agent   \n",
       "\n",
       "  officer_position_en    officer_name    inc_date dissolved_date  \\\n",
       "0         Legal agent  JURGEN MOSSACK  1982-11-09     1990-01-05   \n",
       "\n",
       "          updated_date        company_type  mf_link  \n",
       "0  2016-03-17 08:19:25  SOCIEDAD ANONIMA\\r        1  "
      ]
     },
     "execution_count": 29,
     "metadata": {},
     "output_type": "execute_result"
    }
   ],
   "source": [
    "data.head(1)"
   ]
  },
  {
   "cell_type": "code",
   "execution_count": 40,
   "metadata": {
    "collapsed": false
   },
   "outputs": [
    {
     "data": {
      "text/plain": [
       "41616"
      ]
     },
     "execution_count": 40,
     "metadata": {},
     "output_type": "execute_result"
    }
   ],
   "source": [
    "companies = data.company_name.str.upper().unique()\n",
    "len(companies)"
   ]
  },
  {
   "cell_type": "code",
   "execution_count": 41,
   "metadata": {
    "collapsed": false
   },
   "outputs": [
    {
     "data": {
      "text/plain": [
       "37348"
      ]
     },
     "execution_count": 41,
     "metadata": {},
     "output_type": "execute_result"
    }
   ],
   "source": [
    "persons = data.officer_name.str.upper().unique()\n",
    "len(persons)"
   ]
  },
  {
   "cell_type": "code",
   "execution_count": null,
   "metadata": {
    "collapsed": false,
    "scrolled": true
   },
   "outputs": [],
   "source": [
    "%%time\n",
    "companiesNum = []\n",
    "positionsNum = []\n",
    "for person in persons[:10]:\n",
    "    data_select = data.loc[data.officer_name.str.upper()==person]\n",
    "    print(person,': ',len(data_select.company_name.unique()))\n",
    "    companiesNum.append(len(data_select.company_name.unique()))\n",
    "    positionsNum.append(len(data_select))"
   ]
  },
  {
   "cell_type": "code",
   "execution_count": 66,
   "metadata": {
    "collapsed": false
   },
   "outputs": [],
   "source": [
    "companiesNumTmp=companiesNum\n",
    "positionsNumTmp=positionsNum\n",
    "personsTmp = persons[:len(companiesNum)]"
   ]
  },
  {
   "cell_type": "code",
   "execution_count": 70,
   "metadata": {
    "collapsed": false
   },
   "outputs": [],
   "source": [
    "df = pd.DataFrame({'name':personsTmp,'positions':positionsNumTmp,'companies':companiesNumTmp})"
   ]
  },
  {
   "cell_type": "code",
   "execution_count": 75,
   "metadata": {
    "collapsed": false,
    "scrolled": true
   },
   "outputs": [
    {
     "name": "stderr",
     "output_type": "stream",
     "text": [
      "/Users/kwisatz/anaconda/envs/py35/lib/python3.5/site-packages/ipykernel/__main__.py:1: FutureWarning: sort(columns=....) is deprecated, use sort_values(by=.....)\n",
      "  if __name__ == '__main__':\n"
     ]
    },
    {
     "data": {
      "text/html": [
       "<div>\n",
       "<table border=\"1\" class=\"dataframe\">\n",
       "  <thead>\n",
       "    <tr style=\"text-align: right;\">\n",
       "      <th></th>\n",
       "      <th>companies</th>\n",
       "      <th>name</th>\n",
       "      <th>positions</th>\n",
       "    </tr>\n",
       "  </thead>\n",
       "  <tbody>\n",
       "    <tr>\n",
       "      <th>12</th>\n",
       "      <td>15604</td>\n",
       "      <td>MOSSACK FONSECA &amp; CO</td>\n",
       "      <td>15609</td>\n",
       "    </tr>\n",
       "    <tr>\n",
       "      <th>78</th>\n",
       "      <td>13981</td>\n",
       "      <td>BUFETE MF &amp; CO</td>\n",
       "      <td>13983</td>\n",
       "    </tr>\n",
       "    <tr>\n",
       "      <th>24</th>\n",
       "      <td>10945</td>\n",
       "      <td>LETICIA MONTOYA</td>\n",
       "      <td>24398</td>\n",
       "    </tr>\n",
       "    <tr>\n",
       "      <th>21</th>\n",
       "      <td>10557</td>\n",
       "      <td>FRANCIS PEREZ</td>\n",
       "      <td>24299</td>\n",
       "    </tr>\n",
       "    <tr>\n",
       "      <th>1016</th>\n",
       "      <td>9253</td>\n",
       "      <td>EL REPRESENTANTE LEGAL DE LA SOCIEDAD LO ES EL...</td>\n",
       "      <td>9253</td>\n",
       "    </tr>\n",
       "    <tr>\n",
       "      <th>597</th>\n",
       "      <td>8166</td>\n",
       "      <td>VERNA DE NELSON</td>\n",
       "      <td>16253</td>\n",
       "    </tr>\n",
       "    <tr>\n",
       "      <th>596</th>\n",
       "      <td>8047</td>\n",
       "      <td>JAQUELINE ALEXANDER</td>\n",
       "      <td>17521</td>\n",
       "    </tr>\n",
       "    <tr>\n",
       "      <th>791</th>\n",
       "      <td>7199</td>\n",
       "      <td>YVETTE ROGERS</td>\n",
       "      <td>19727</td>\n",
       "    </tr>\n",
       "    <tr>\n",
       "      <th>595</th>\n",
       "      <td>6077</td>\n",
       "      <td>CARMEN WONG</td>\n",
       "      <td>12181</td>\n",
       "    </tr>\n",
       "    <tr>\n",
       "      <th>26</th>\n",
       "      <td>5929</td>\n",
       "      <td>KATIA SOLANO</td>\n",
       "      <td>12870</td>\n",
       "    </tr>\n",
       "    <tr>\n",
       "      <th>1178</th>\n",
       "      <td>5141</td>\n",
       "      <td>GEORGE ALLEN</td>\n",
       "      <td>10515</td>\n",
       "    </tr>\n",
       "    <tr>\n",
       "      <th>4532</th>\n",
       "      <td>4981</td>\n",
       "      <td>CHESWICK INC</td>\n",
       "      <td>4981</td>\n",
       "    </tr>\n",
       "    <tr>\n",
       "      <th>4533</th>\n",
       "      <td>4961</td>\n",
       "      <td>EASTSHORE INC</td>\n",
       "      <td>4961</td>\n",
       "    </tr>\n",
       "    <tr>\n",
       "      <th>1</th>\n",
       "      <td>4667</td>\n",
       "      <td>DIVA ARGELIS PATINO DE DONADO</td>\n",
       "      <td>7301</td>\n",
       "    </tr>\n",
       "    <tr>\n",
       "      <th>25</th>\n",
       "      <td>4476</td>\n",
       "      <td>MARTA EDGHILL</td>\n",
       "      <td>8953</td>\n",
       "    </tr>\n",
       "    <tr>\n",
       "      <th>0</th>\n",
       "      <td>4335</td>\n",
       "      <td>JURGEN MOSSACK</td>\n",
       "      <td>10477</td>\n",
       "    </tr>\n",
       "    <tr>\n",
       "      <th>376</th>\n",
       "      <td>4259</td>\n",
       "      <td>HERCIBELLE GONZALEZ</td>\n",
       "      <td>9018</td>\n",
       "    </tr>\n",
       "    <tr>\n",
       "      <th>161</th>\n",
       "      <td>4203</td>\n",
       "      <td>YENNY MARTINEZ</td>\n",
       "      <td>7843</td>\n",
       "    </tr>\n",
       "    <tr>\n",
       "      <th>583</th>\n",
       "      <td>3518</td>\n",
       "      <td>VIANCA SCOTT</td>\n",
       "      <td>10357</td>\n",
       "    </tr>\n",
       "    <tr>\n",
       "      <th>29</th>\n",
       "      <td>3410</td>\n",
       "      <td>EL PRESIDENTE PUDIENDO TAMBIEN EJERCER ESE CAR...</td>\n",
       "      <td>3410</td>\n",
       "    </tr>\n",
       "    <tr>\n",
       "      <th>4140</th>\n",
       "      <td>3368</td>\n",
       "      <td>DUBRO LIMITED S.A</td>\n",
       "      <td>3368</td>\n",
       "    </tr>\n",
       "    <tr>\n",
       "      <th>4141</th>\n",
       "      <td>3345</td>\n",
       "      <td>ALIATOR S.A</td>\n",
       "      <td>3345</td>\n",
       "    </tr>\n",
       "    <tr>\n",
       "      <th>11</th>\n",
       "      <td>3262</td>\n",
       "      <td>EL PRESIDENTE</td>\n",
       "      <td>3262</td>\n",
       "    </tr>\n",
       "    <tr>\n",
       "      <th>373</th>\n",
       "      <td>2934</td>\n",
       "      <td>JOSE JAIME MELENDEZ</td>\n",
       "      <td>5524</td>\n",
       "    </tr>\n",
       "    <tr>\n",
       "      <th>3</th>\n",
       "      <td>2916</td>\n",
       "      <td>EL PRESIDENTE, EN SU AUSENCIA EL TESORERO O EL...</td>\n",
       "      <td>2916</td>\n",
       "    </tr>\n",
       "    <tr>\n",
       "      <th>163</th>\n",
       "      <td>2711</td>\n",
       "      <td>YAKELINE PEREZ</td>\n",
       "      <td>7275</td>\n",
       "    </tr>\n",
       "    <tr>\n",
       "      <th>165</th>\n",
       "      <td>2376</td>\n",
       "      <td>EL PRESIDENTE, PUDIENDO TAMBIEN EJERCER ESE CA...</td>\n",
       "      <td>2376</td>\n",
       "    </tr>\n",
       "    <tr>\n",
       "      <th>209</th>\n",
       "      <td>2293</td>\n",
       "      <td>CORNELIO MCKAY</td>\n",
       "      <td>7446</td>\n",
       "    </tr>\n",
       "    <tr>\n",
       "      <th>1553</th>\n",
       "      <td>2252</td>\n",
       "      <td>GISELLE OCAMPO</td>\n",
       "      <td>3976</td>\n",
       "    </tr>\n",
       "    <tr>\n",
       "      <th>598</th>\n",
       "      <td>2251</td>\n",
       "      <td>RICARDO SAMANIEGO</td>\n",
       "      <td>3910</td>\n",
       "    </tr>\n",
       "    <tr>\n",
       "      <th>...</th>\n",
       "      <td>...</td>\n",
       "      <td>...</td>\n",
       "      <td>...</td>\n",
       "    </tr>\n",
       "    <tr>\n",
       "      <th>3245</th>\n",
       "      <td>1</td>\n",
       "      <td>DON M. COSGRAVE</td>\n",
       "      <td>1</td>\n",
       "    </tr>\n",
       "    <tr>\n",
       "      <th>3243</th>\n",
       "      <td>1</td>\n",
       "      <td>BRIAN BALLEINE</td>\n",
       "      <td>2</td>\n",
       "    </tr>\n",
       "    <tr>\n",
       "      <th>3286</th>\n",
       "      <td>1</td>\n",
       "      <td>YOUSSIF FADEL ALSABAH</td>\n",
       "      <td>2</td>\n",
       "    </tr>\n",
       "    <tr>\n",
       "      <th>3242</th>\n",
       "      <td>1</td>\n",
       "      <td>JOHN JAMES MOREL ORCHARD</td>\n",
       "      <td>2</td>\n",
       "    </tr>\n",
       "    <tr>\n",
       "      <th>3241</th>\n",
       "      <td>1</td>\n",
       "      <td>CAMELA DERISE GLEAN</td>\n",
       "      <td>1</td>\n",
       "    </tr>\n",
       "    <tr>\n",
       "      <th>3239</th>\n",
       "      <td>1</td>\n",
       "      <td>EDGARDO E, DIAZ</td>\n",
       "      <td>2</td>\n",
       "    </tr>\n",
       "    <tr>\n",
       "      <th>3236</th>\n",
       "      <td>1</td>\n",
       "      <td>FELICITY ANNE KELLER</td>\n",
       "      <td>1</td>\n",
       "    </tr>\n",
       "    <tr>\n",
       "      <th>3235</th>\n",
       "      <td>1</td>\n",
       "      <td>CHRISTOPHER JOHN PALMER</td>\n",
       "      <td>1</td>\n",
       "    </tr>\n",
       "    <tr>\n",
       "      <th>3234</th>\n",
       "      <td>1</td>\n",
       "      <td>VIVIENNEEDITH SHARPLES</td>\n",
       "      <td>1</td>\n",
       "    </tr>\n",
       "    <tr>\n",
       "      <th>3233</th>\n",
       "      <td>1</td>\n",
       "      <td>JOHN WELLIAM HULL BROWN</td>\n",
       "      <td>1</td>\n",
       "    </tr>\n",
       "    <tr>\n",
       "      <th>3256</th>\n",
       "      <td>1</td>\n",
       "      <td>LINDA K. MACMASTER SUPLENTE</td>\n",
       "      <td>1</td>\n",
       "    </tr>\n",
       "    <tr>\n",
       "      <th>3257</th>\n",
       "      <td>1</td>\n",
       "      <td>ALFRED BOREL</td>\n",
       "      <td>2</td>\n",
       "    </tr>\n",
       "    <tr>\n",
       "      <th>3259</th>\n",
       "      <td>1</td>\n",
       "      <td>STEPHAN POPPER</td>\n",
       "      <td>2</td>\n",
       "    </tr>\n",
       "    <tr>\n",
       "      <th>3260</th>\n",
       "      <td>1</td>\n",
       "      <td>ALAN T: ROBERTSON</td>\n",
       "      <td>2</td>\n",
       "    </tr>\n",
       "    <tr>\n",
       "      <th>3285</th>\n",
       "      <td>1</td>\n",
       "      <td>BADER RODAN</td>\n",
       "      <td>2</td>\n",
       "    </tr>\n",
       "    <tr>\n",
       "      <th>3284</th>\n",
       "      <td>1</td>\n",
       "      <td>ANTOS JERZY GLOGOWSKI</td>\n",
       "      <td>2</td>\n",
       "    </tr>\n",
       "    <tr>\n",
       "      <th>3282</th>\n",
       "      <td>1</td>\n",
       "      <td>ANA MOREA ESCOBAR</td>\n",
       "      <td>1</td>\n",
       "    </tr>\n",
       "    <tr>\n",
       "      <th>3281</th>\n",
       "      <td>1</td>\n",
       "      <td>JOHN HAROLD L.HATTONEDGE</td>\n",
       "      <td>1</td>\n",
       "    </tr>\n",
       "    <tr>\n",
       "      <th>3278</th>\n",
       "      <td>1</td>\n",
       "      <td>NICK CUTTIFORD</td>\n",
       "      <td>1</td>\n",
       "    </tr>\n",
       "    <tr>\n",
       "      <th>3277</th>\n",
       "      <td>1</td>\n",
       "      <td>REINALDO ROSSI</td>\n",
       "      <td>2</td>\n",
       "    </tr>\n",
       "    <tr>\n",
       "      <th>3276</th>\n",
       "      <td>1</td>\n",
       "      <td>EDMUND LIONEL BENDELOW</td>\n",
       "      <td>1</td>\n",
       "    </tr>\n",
       "    <tr>\n",
       "      <th>3275</th>\n",
       "      <td>1</td>\n",
       "      <td>ANNA SAKALLI</td>\n",
       "      <td>1</td>\n",
       "    </tr>\n",
       "    <tr>\n",
       "      <th>3274</th>\n",
       "      <td>1</td>\n",
       "      <td>AMER HADI SAEED</td>\n",
       "      <td>1</td>\n",
       "    </tr>\n",
       "    <tr>\n",
       "      <th>3273</th>\n",
       "      <td>1</td>\n",
       "      <td>ALI HADI</td>\n",
       "      <td>2</td>\n",
       "    </tr>\n",
       "    <tr>\n",
       "      <th>3272</th>\n",
       "      <td>1</td>\n",
       "      <td>LOUAI HADY</td>\n",
       "      <td>2</td>\n",
       "    </tr>\n",
       "    <tr>\n",
       "      <th>3270</th>\n",
       "      <td>1</td>\n",
       "      <td>LETICIA MONTOJA MORAU</td>\n",
       "      <td>1</td>\n",
       "    </tr>\n",
       "    <tr>\n",
       "      <th>3266</th>\n",
       "      <td>1</td>\n",
       "      <td>J E BULL</td>\n",
       "      <td>1</td>\n",
       "    </tr>\n",
       "    <tr>\n",
       "      <th>3263</th>\n",
       "      <td>1</td>\n",
       "      <td>MARIO BENBASSAT</td>\n",
       "      <td>3</td>\n",
       "    </tr>\n",
       "    <tr>\n",
       "      <th>3262</th>\n",
       "      <td>1</td>\n",
       "      <td>ELIAS ZILKHA</td>\n",
       "      <td>2</td>\n",
       "    </tr>\n",
       "    <tr>\n",
       "      <th>3493</th>\n",
       "      <td>1</td>\n",
       "      <td>SHOU LUM CHEN</td>\n",
       "      <td>1</td>\n",
       "    </tr>\n",
       "  </tbody>\n",
       "</table>\n",
       "<p>6987 rows × 3 columns</p>\n",
       "</div>"
      ],
      "text/plain": [
       "      companies                                               name  positions\n",
       "12        15604                               MOSSACK FONSECA & CO      15609\n",
       "78        13981                                     BUFETE MF & CO      13983\n",
       "24        10945                                    LETICIA MONTOYA      24398\n",
       "21        10557                                      FRANCIS PEREZ      24299\n",
       "1016       9253  EL REPRESENTANTE LEGAL DE LA SOCIEDAD LO ES EL...       9253\n",
       "597        8166                                    VERNA DE NELSON      16253\n",
       "596        8047                                JAQUELINE ALEXANDER      17521\n",
       "791        7199                                      YVETTE ROGERS      19727\n",
       "595        6077                                        CARMEN WONG      12181\n",
       "26         5929                                       KATIA SOLANO      12870\n",
       "1178       5141                                       GEORGE ALLEN      10515\n",
       "4532       4981                                       CHESWICK INC       4981\n",
       "4533       4961                                      EASTSHORE INC       4961\n",
       "1          4667                      DIVA ARGELIS PATINO DE DONADO       7301\n",
       "25         4476                                      MARTA EDGHILL       8953\n",
       "0          4335                                     JURGEN MOSSACK      10477\n",
       "376        4259                                HERCIBELLE GONZALEZ       9018\n",
       "161        4203                                     YENNY MARTINEZ       7843\n",
       "583        3518                                       VIANCA SCOTT      10357\n",
       "29         3410  EL PRESIDENTE PUDIENDO TAMBIEN EJERCER ESE CAR...       3410\n",
       "4140       3368                                  DUBRO LIMITED S.A       3368\n",
       "4141       3345                                        ALIATOR S.A       3345\n",
       "11         3262                                      EL PRESIDENTE       3262\n",
       "373        2934                                JOSE JAIME MELENDEZ       5524\n",
       "3          2916  EL PRESIDENTE, EN SU AUSENCIA EL TESORERO O EL...       2916\n",
       "163        2711                                     YAKELINE PEREZ       7275\n",
       "165        2376  EL PRESIDENTE, PUDIENDO TAMBIEN EJERCER ESE CA...       2376\n",
       "209        2293                                     CORNELIO MCKAY       7446\n",
       "1553       2252                                     GISELLE OCAMPO       3976\n",
       "598        2251                                  RICARDO SAMANIEGO       3910\n",
       "...         ...                                                ...        ...\n",
       "3245          1                                    DON M. COSGRAVE          1\n",
       "3243          1                                     BRIAN BALLEINE          2\n",
       "3286          1                              YOUSSIF FADEL ALSABAH          2\n",
       "3242          1                           JOHN JAMES MOREL ORCHARD          2\n",
       "3241          1                                CAMELA DERISE GLEAN          1\n",
       "3239          1                                    EDGARDO E, DIAZ          2\n",
       "3236          1                               FELICITY ANNE KELLER          1\n",
       "3235          1                            CHRISTOPHER JOHN PALMER          1\n",
       "3234          1                             VIVIENNEEDITH SHARPLES          1\n",
       "3233          1                            JOHN WELLIAM HULL BROWN          1\n",
       "3256          1                        LINDA K. MACMASTER SUPLENTE          1\n",
       "3257          1                                       ALFRED BOREL          2\n",
       "3259          1                                     STEPHAN POPPER          2\n",
       "3260          1                                  ALAN T: ROBERTSON          2\n",
       "3285          1                                        BADER RODAN          2\n",
       "3284          1                              ANTOS JERZY GLOGOWSKI          2\n",
       "3282          1                                  ANA MOREA ESCOBAR          1\n",
       "3281          1                           JOHN HAROLD L.HATTONEDGE          1\n",
       "3278          1                                     NICK CUTTIFORD          1\n",
       "3277          1                                     REINALDO ROSSI          2\n",
       "3276          1                             EDMUND LIONEL BENDELOW          1\n",
       "3275          1                                       ANNA SAKALLI          1\n",
       "3274          1                                    AMER HADI SAEED          1\n",
       "3273          1                                           ALI HADI          2\n",
       "3272          1                                         LOUAI HADY          2\n",
       "3270          1                              LETICIA MONTOJA MORAU          1\n",
       "3266          1                                           J E BULL          1\n",
       "3263          1                                    MARIO BENBASSAT          3\n",
       "3262          1                                       ELIAS ZILKHA          2\n",
       "3493          1                                      SHOU LUM CHEN          1\n",
       "\n",
       "[6987 rows x 3 columns]"
      ]
     },
     "execution_count": 75,
     "metadata": {},
     "output_type": "execute_result"
    }
   ],
   "source": [
    "df.sort('companies',ascending=False)"
   ]
  },
  {
   "cell_type": "code",
   "execution_count": 82,
   "metadata": {
    "collapsed": false
   },
   "outputs": [
    {
     "data": {
      "text/html": [
       "<div>\n",
       "<table border=\"1\" class=\"dataframe\">\n",
       "  <thead>\n",
       "    <tr style=\"text-align: right;\">\n",
       "      <th></th>\n",
       "      <th>company_url</th>\n",
       "      <th>company_name</th>\n",
       "      <th>officer_position_es</th>\n",
       "      <th>officer_position_en</th>\n",
       "      <th>officer_name</th>\n",
       "      <th>inc_date</th>\n",
       "      <th>dissolved_date</th>\n",
       "      <th>updated_date</th>\n",
       "      <th>company_type</th>\n",
       "      <th>mf_link</th>\n",
       "    </tr>\n",
       "  </thead>\n",
       "  <tbody>\n",
       "    <tr>\n",
       "      <th>524719</th>\n",
       "      <td>https://opencorporates.com/companies/pa/89653</td>\n",
       "      <td>BLAIRMORE HOLDINGS, INC.</td>\n",
       "      <td>director</td>\n",
       "      <td>Director</td>\n",
       "      <td>IAN D. CAMERON</td>\n",
       "      <td>1982-05-04</td>\n",
       "      <td>0000-00-00</td>\n",
       "      <td>2016-04-06 19:57:16</td>\n",
       "      <td>SOCIEDAD ANONIMA\\r</td>\n",
       "      <td>0</td>\n",
       "    </tr>\n",
       "  </tbody>\n",
       "</table>\n",
       "</div>"
      ],
      "text/plain": [
       "                                          company_url  \\\n",
       "524719  https://opencorporates.com/companies/pa/89653   \n",
       "\n",
       "                    company_name officer_position_es officer_position_en  \\\n",
       "524719  BLAIRMORE HOLDINGS, INC.            director            Director   \n",
       "\n",
       "          officer_name    inc_date dissolved_date         updated_date  \\\n",
       "524719  IAN D. CAMERON  1982-05-04     0000-00-00  2016-04-06 19:57:16   \n",
       "\n",
       "              company_type  mf_link  \n",
       "524719  SOCIEDAD ANONIMA\\r        0  "
      ]
     },
     "execution_count": 82,
     "metadata": {},
     "output_type": "execute_result"
    }
   ],
   "source": [
    "data.loc[data.officer_name.str.contains('CAMERON')]"
   ]
  },
  {
   "cell_type": "code",
   "execution_count": null,
   "metadata": {
    "collapsed": true
   },
   "outputs": [],
   "source": [
    "index = np.argsort(np.array(counts))"
   ]
  },
  {
   "cell_type": "code",
   "execution_count": null,
   "metadata": {
    "collapsed": true
   },
   "outputs": [],
   "source": [
    "persons[index][:10]"
   ]
  },
  {
   "cell_type": "code",
   "execution_count": null,
   "metadata": {
    "collapsed": false,
    "scrolled": true
   },
   "outputs": [],
   "source": [
    "for name in data.officer_name.unique()[:3]:\n",
    "    print(name, (data.officer_name==name).sum())"
   ]
  },
  {
   "cell_type": "code",
   "execution_count": null,
   "metadata": {
    "collapsed": false
   },
   "outputs": [],
   "source": [
    "len(data[data.officer_name=='JURGEN MOSSACK'].company_name.unique())"
   ]
  },
  {
   "cell_type": "code",
   "execution_count": 83,
   "metadata": {
    "collapsed": true
   },
   "outputs": [],
   "source": [
    "from datetime import datetime\n",
    "\n",
    "def days_between(d1, d2):\n",
    "    if d1[4]=='-': \n",
    "        d1 = datetime.strptime(d1, \"%Y-%m-%d\")\n",
    "    else:\n",
    "        d1 = datetime.strptime(d1, \"%Y/%m/%d\")\n",
    "    if d2[4]=='-': \n",
    "        d2 = datetime.strptime(d2, \"%Y-%m-%d\")\n",
    "    else:\n",
    "        d2 = datetime.strptime(d2, \"%Y/%m/%d\")\n",
    "    return abs((d2 - d1).days)"
   ]
  },
  {
   "cell_type": "code",
   "execution_count": 84,
   "metadata": {
    "collapsed": false
   },
   "outputs": [
    {
     "name": "stdout",
     "output_type": "stream",
     "text": [
      "OVERSEAS FINANCIAL AND INSURANCE SERVICES\n",
      "1982-11-09 1990-01-05 2614\n",
      "PEPINO CORPORATION\n",
      "1982-11-09 1991-01-21 2995\n",
      "SOCIETE THS DE COMMERCE, S.A.\n",
      "1982-11-09 2016-03-17 12182\n"
     ]
    }
   ],
   "source": [
    "duree = []\n",
    "for company in data.company_name.unique()[:3]:\n",
    "    print(company)\n",
    "    subdata = data[data.company_name==company]\n",
    "    d1 = subdata.iloc[0].inc_date\n",
    "    d2 = subdata.iloc[0].dissolved_date\n",
    "    if d2 == '0000-00-00':\n",
    "        d2 = subdata.iloc[0].updated_date[:10]\n",
    "    print(d1, d2, days_between(d1, d2))\n",
    "    duree.append(days_between(d1, d2))"
   ]
  },
  {
   "cell_type": "code",
   "execution_count": 85,
   "metadata": {
    "collapsed": true
   },
   "outputs": [],
   "source": [
    "duree = []\n",
    "for company in data.company_name.unique():\n",
    "    subdata = data[data.company_name==company]\n",
    "    d1 = subdata.iloc[0].inc_date\n",
    "    d2 = subdata.iloc[0].dissolved_date\n",
    "    if d2 == '0000-00-00':\n",
    "        d2 = subdata.iloc[0].updated_date[:10]\n",
    "    duree.append(days_between(d1, d2))"
   ]
  },
  {
   "cell_type": "code",
   "execution_count": 86,
   "metadata": {
    "collapsed": true
   },
   "outputs": [],
   "source": [
    "import matplotlib.pyplot as plt"
   ]
  },
  {
   "cell_type": "code",
   "execution_count": 87,
   "metadata": {
    "collapsed": false,
    "scrolled": true
   },
   "outputs": [
    {
     "data": {
      "text/plain": [
       "<matplotlib.figure.Figure at 0x114e650f0>"
      ]
     },
     "execution_count": 87,
     "metadata": {},
     "output_type": "execute_result"
    }
   ],
   "source": [
    "# Premier test\n",
    "plt.figure()"
   ]
  },
  {
   "cell_type": "code",
   "execution_count": 88,
   "metadata": {
    "collapsed": false
   },
   "outputs": [],
   "source": [
    "# Oui car il faut dire tout à un ordinateur ...\n",
    "plt.figure()\n",
    "plt.show()"
   ]
  },
  {
   "cell_type": "code",
   "execution_count": 89,
   "metadata": {
    "collapsed": true
   },
   "outputs": [],
   "source": [
    "# Et pour voir tout ça directement dans son iPython notebook... magie!\n",
    "%matplotlib inline"
   ]
  },
  {
   "cell_type": "code",
   "execution_count": 90,
   "metadata": {
    "collapsed": false
   },
   "outputs": [
    {
     "data": {
      "text/plain": [
       "<matplotlib.figure.Figure at 0x11429df28>"
      ]
     },
     "metadata": {},
     "output_type": "display_data"
    }
   ],
   "source": [
    "# Et voilà!\n",
    "plt.figure()\n",
    "plt.show()"
   ]
  },
  {
   "cell_type": "code",
   "execution_count": 108,
   "metadata": {
    "collapsed": false
   },
   "outputs": [
    {
     "data": {
      "image/png": "[encoded data removed]",
      "text/plain": [
       "<matplotlib.figure.Figure at 0x114215710>"
      ]
     },
     "metadata": {},
     "output_type": "display_data"
    }
   ],
   "source": [
    "# C'est mieux avec quelque chose dedans...\n",
    "plt.figure(figsize=[20,10])\n",
    "plt.plot([0,0.5,1,1.5,2],[2,3.5,4,5,2],'o-',color='red')\n",
    "plt.xlim([-1, 3])\n",
    "plt.ylim([0, 7])\n",
    "plt.title('Mon super plot!')\n",
    "plt.savefig('test.pdf', dpi=600, facecolor='w', edgecolor='w',\n",
    "        orientation='portrait', papertype=None, format=None,\n",
    "        transparent=False, bbox_inches=None, pad_inches=0.1,\n",
    "        frameon=None)"
   ]
  },
  {
   "cell_type": "code",
   "execution_count": 130,
   "metadata": {
    "collapsed": false
   },
   "outputs": [
    {
     "data": {
      "text/plain": [
       "<matplotlib.axes._subplots.AxesSubplot at 0x115453908>"
      ]
     },
     "execution_count": 130,
     "metadata": {},
     "output_type": "execute_result"
    },
    {
     "data": {
      "image/png": "[encoded data removed]",
      "text/plain": [
       "<matplotlib.figure.Figure at 0x115440b38>"
      ]
     },
     "metadata": {},
     "output_type": "display_data"
    }
   ],
   "source": [
    "# Retour au Panama Papers\n",
    "plt.figure()\n",
    "plt.hist([(data.officer_name==name).sum() for name in data.officer_name.unique()],20)\n",
    "plt.show()"
   ]
  },
  {
   "cell_type": "code",
   "execution_count": null,
   "metadata": {
    "collapsed": true
   },
   "outputs": [],
   "source": [
    "# Note: pandas permets aussi de faire des plots directement\n",
    "pd.value_counts(data.officer_name)[:10].plot(kind='bar')"
   ]
  },
  {
   "cell_type": "code",
   "execution_count": 113,
   "metadata": {
    "collapsed": false
   },
   "outputs": [
    {
     "name": "stdout",
     "output_type": "stream",
     "text": [
      "Legal agent 100\n",
      "President/Chairman 95\n",
      "Treasurer 96\n",
      "Secretary 97\n",
      "Director 301\n",
      "Shareholder 195\n",
      "Representative 82\n",
      "Vice-President 19\n",
      "Undersecretary 10\n",
      "Director/Vice-president 2\n",
      "Director/President 3\n",
      "Director/Secretary 1\n",
      "Director/Treasurer 3\n",
      "Authorised signatory 1\n",
      "Undertreasurer 2\n"
     ]
    }
   ],
   "source": [
    "# Qu'en est-il des postes tenus dans les entreprises?\n",
    "positions = data.officer_position_en.unique()\n",
    "posNum = []\n",
    "for pos in positions:\n",
    "    print(pos, (data.officer_position_en==pos).sum())\n",
    "    posNum.append((data.officer_position_en==pos).sum())"
   ]
  },
  {
   "cell_type": "code",
   "execution_count": 114,
   "metadata": {
    "collapsed": false
   },
   "outputs": [
    {
     "data": {
      "image/png": "[encoded data removed]",
      "text/plain": [
       "<matplotlib.figure.Figure at 0x1141f24e0>"
      ]
     },
     "metadata": {},
     "output_type": "display_data"
    }
   ],
   "source": [
    "# Avec Matplotlib\n",
    "plt.bar(range(len(positions)),posNum)\n",
    "plt.xticks(range(len(positions)),positions, rotation='vertical')\n",
    "plt.show()"
   ]
  },
  {
   "cell_type": "code",
   "execution_count": 115,
   "metadata": {
    "collapsed": false
   },
   "outputs": [
    {
     "data": {
      "image/png": "[encoded data removed]",
      "text/plain": [
       "<matplotlib.figure.Figure at 0x115510a20>"
      ]
     },
     "metadata": {},
     "output_type": "display_data"
    }
   ],
   "source": [
    "# Centrons les noms sur l'axe des abscises\n",
    "import numpy as np\n",
    "plt.figure()\n",
    "plt.bar(range(len(positions)),posNum)\n",
    "plt.xticks(np.arange(len(positions))+0.5,positions, rotation='vertical')\n",
    "plt.show()"
   ]
  },
  {
   "cell_type": "code",
   "execution_count": 116,
   "metadata": {
    "collapsed": false
   },
   "outputs": [
    {
     "data": {
      "image/png": "[encoded data removed]",
      "text/plain": [
       "<matplotlib.figure.Figure at 0x11423bd68>"
      ]
     },
     "metadata": {},
     "output_type": "display_data"
    }
   ],
   "source": [
    "# On réordonne le tout ...\n",
    "idx = np.argsort(posNum)\n",
    "plt.bar(range(len(positions)),np.array(posNum)[idx])\n",
    "plt.xticks(np.arange(len(positions))+0.5,positions[idx], rotation='vertical')\n",
    "plt.ylabel('# of individuals')\n",
    "plt.xlabel('Position in the company')\n",
    "plt.title('Demography in the Panama Papers')\n",
    "plt.show()"
   ]
  },
  {
   "cell_type": "code",
   "execution_count": null,
   "metadata": {
    "collapsed": false
   },
   "outputs": [],
   "source": [
    "# Avec un peu plus d'ornements ...\n",
    "plt.xkcd()\n",
    "plt.figure(figsize=[20,10])\n",
    "plt.bar(range(len(positions)),np.array(posNum)[idx])\n",
    "plt.xticks(np.arange(len(positions))+0.5,positions[idx], rotation='vertical')\n",
    "plt.title('Demography of the Panama Papers')\n",
    "plt.ylabel('# of people')\n",
    "plt.xlabel('Positions in the company')\n",
    "plt.xlim([0,len(positions)])\n",
    "plt.grid()\n",
    "plt.show()"
   ]
  },
  {
   "cell_type": "code",
   "execution_count": null,
   "metadata": {
    "collapsed": false
   },
   "outputs": [],
   "source": [
    "# Regardons maintenant l'aspect durée des companies\n",
    "plt.figure()\n",
    "plt.hist(duree)\n",
    "plt.xticks(range(0,16000,360*5),range(0,45,5), rotation='vertical')\n",
    "plt.show()"
   ]
  },
  {
   "cell_type": "code",
   "execution_count": null,
   "metadata": {
    "collapsed": false
   },
   "outputs": [],
   "source": [
    "# Avec un peu plus d'ornements ...\n",
    "plt.xkcd()\n",
    "plt.figure()\n",
    "plt.figure(figsize=[20,10])\n",
    "plt.hist(duree,100)\n",
    "plt.ylabel('# of companies')\n",
    "plt.xlabel('Years')\n",
    "plt.xticks(range(0,20000,360*5),range(0,56,5), rotation='vertical')\n",
    "plt.xlim([0, 360*50])\n",
    "plt.title('Life expectancy of the companies in the Panama Papers')\n",
    "plt.show()"
   ]
  },
  {
   "cell_type": "code",
   "execution_count": 151,
   "metadata": {
    "collapsed": false
   },
   "outputs": [
    {
     "data": {
      "image/png": "[encoded data removed]",
      "text/plain": [
       "<matplotlib.figure.Figure at 0x1154089e8>"
      ]
     },
     "metadata": {},
     "output_type": "display_data"
    }
   ],
   "source": [
    "# Calculons la loi de puissance des panama papers!\n",
    "h,b = np.histogram(positionsNumTmp,100)\n",
    "\n",
    "plt.figure()\n",
    "plt.loglog(b[:-1],h)\n",
    "plt.show()"
   ]
  },
  {
   "cell_type": "code",
   "execution_count": 163,
   "metadata": {
    "collapsed": false
   },
   "outputs": [
    {
     "data": {
      "text/plain": [
       "LinregressResult(slope=-0.77602747681668727, intercept=7.1105969621393506, rvalue=-0.89933377612492926, pvalue=4.9299313425590901e-13, stderr=0.066699678364131224)"
      ]
     },
     "execution_count": 163,
     "metadata": {},
     "output_type": "execute_result"
    }
   ],
   "source": [
    "from scipy.stats import linregress\n",
    "bl = np.log(b[:-1])\n",
    "gl = np.log(h)\n",
    "\n",
    "linregress(bl[np.isfinite(gl)],gl[np.isfinite(gl)])"
   ]
  }
 ],
 "metadata": {
  "kernelspec": {
   "display_name": "Python 2",
   "language": "python",
   "name": "python2"
  },
  "language_info": {
   "codemirror_mode": {
    "name": "ipython",
    "version": 2
   },
   "file_extension": ".py",
   "mimetype": "text/x-python",
   "name": "python",
   "nbconvert_exporter": "python",
   "pygments_lexer": "ipython2",
   "version": "2.7.11"
  }
 },
 "nbformat": 4,
 "nbformat_minor": 0
}
