{
 "cells": [
  {
   "cell_type": "markdown",
   "metadata": {
    "deletable": true,
    "editable": true
   },
   "source": [
    "# Web Mining\n"
   ]
  },
  {
   "cell_type": "code",
   "execution_count": 25,
   "metadata": {
    "collapsed": false,
    "deletable": true,
    "editable": true
   },
   "outputs": [
    {
     "ename": "SyntaxError",
     "evalue": "invalid syntax (<ipython-input-25-ba001276d91e>, line 3)",
     "output_type": "error",
     "traceback": [
      "\u001b[0;36m  File \u001b[0;32m\"<ipython-input-25-ba001276d91e>\"\u001b[0;36m, line \u001b[0;32m3\u001b[0m\n\u001b[0;31m    1. Introduction\u001b[0m\n\u001b[0m                  ^\u001b[0m\n\u001b[0;31mSyntaxError\u001b[0m\u001b[0;31m:\u001b[0m invalid syntax\n"
     ]
    }
   ],
   "source": [
    "Sommaire\n",
    "\n",
    "1. Introduction\n",
    "\n",
    "* Principes techniques\n",
    "* Cadre légal\n",
    "\n",
    "2. Page web statique\n",
    "\n",
    "* Les différentes étapes\n",
    "* Exercice: xkcd\n",
    "\n",
    "3. Crawl\n",
    "\n",
    "* Les différentes étapes\n",
    "* Demonstration: marmiton.org\n",
    "\n",
    "4. Pages web dynamiques\n",
    "\n",
    "* Prérequis\n",
    "* Différentes étapes\n",
    "* Démonstration: remplir un formulaire\n",
    "* Démonstration: clicker, scroller"
   ]
  },
  {
   "cell_type": "markdown",
   "metadata": {
    "deletable": true,
    "editable": true
   },
   "source": [
    "## Introduction\n",
    "\n",
    "### Qu'est ce que le webmining?\n",
    "\n",
    "Le web mining (en français: extraction et fouille des données issues du web) est une **technique** d'extraction et de mise en valeur des données appliquées au web.\n",
    "\n",
    "Le principe est simple:\n",
    "* collecter des données en ligne (principalement des pages web)\n",
    "* pour constituer des bases de données\n",
    "* afin de les explorer par la suite.\n",
    "\n",
    "\n",
    "### Principes techniques\n",
    "\n",
    "Le webmining est donc une technique qui repose sur les technologies du web et qui rentre dans la catégorie de l'extraction et analyse de données (Text and Data Mining).\n",
    "\n",
    "Les principales opérations consistent à:\n",
    "-   se connecter à une page web et charger le html (load, connect) dans le cas de page statique c'est une opération  simple, dans le cas de page dynamique c'est une autre paire de manches...\n",
    "-   parcourir la page et extraire les informations cibles   (celles qui nous intéressent: ce qui implique d'avoir identifiés au préalalble les informations qui nous intéresse dans la page soit les balises )\n",
    "- les stocker dans un fichier ou une base de données en les organisant selon ce qui nous arrange pour l'analyse\n",
    "- analyser le résultat de cette extraction. Ici plein de techniques s'appliquent en fonction de l'analyse qu'on veut en faire.\n",
    "  - La première des choses à faire est une **analyse statistique**: on a besoin de vérifier que les données sont complètes et consistantes. La phase classique de mise en cohérence des données\n",
    "  - Une évitable phase de nettoyage est à prévoir: d'expérience, 90% du travail du \"data miner\" est de nettoyer les données, prévoir donc une longue phase qui s'ordonne selon la règle des 80% 20%.\n",
    "  - Ensuite en fonction de l'hypothèse de départ, on mobilise des techniques différentes d'analyse text mining, extraction d'entités nommées, analyses de cooccurence, graphes de relations, classification, etc...\n",
    "\n",
    "### Cadre légal\n",
    "\n",
    "Un petit rappel du cadre légal, le webmining est une technique d'extraction et de mise en valeur de données issues du web elle s'inscrit donc dans le cadre légal du TDM (Text and Data mining).\n",
    "\n",
    "La pratique du text and data mining est complexe. Plusieurs choses à prendre en compte:\n",
    "- législation sur le droit d'auteur et le copyright\n",
    "- législation sur les données à caractère personnels\n",
    "- droit des bases de données et données publiques\n",
    "- législation sur les systèmes informatiques et Internet\n",
    "A ces legislations s'ajoute une clause encore en débat sur l'exception de recherche, débattue lors de la loi pour une république numérique dont les amemdements acceptés sont en vigueur depuis Janvier 2017.\n",
    "\n",
    "##### Droit d'auteur et copyright\n",
    "- Le site en question est soumis au **droit d'auteur**, son accès libre sur Internet ne garantit pas que vous ayez le droit de reproduire tout et partie du site.\n",
    "La réglementation en vigueur est donc soumise à celle du droit d'auteur et au code de la propriété intellectuelle.\n",
    "\n",
    "D'un point de vue technique, votre adresse IP peut être bloquée par l'administrateur du site si vos appels sont trop insistants (banned) et que l'administrateur évalue que vos appels sont une menace pour la stabilité de son service (et oui on peut imaginer que cela s'apparente à une attaque par déni de service et que vous êtes un mechant pirate...)\n",
    "\n",
    "D'un point de vue légal, une demande officielle doit être faite au site en question. En pratique (et c'est MAL), on utilise plein de techniques de pirate pour que nous verrons rapidement à la fin.\n",
    "\n",
    "##### Réglementation du TDM\n",
    "\n",
    "Selon la loi française, le TDM est soumis à une déclaration préalable à la CNIL qui implique de déclarer:\n",
    "\n",
    "- la **nature des données** que vous collectez: données à caractère privé ou non. Si ces données sont à caractère privé un ensemble d'impératif de sécurité sont à mettre en place en conformité avec les recommandation de la CNIL (chiffrement, accès regulé aux données).\n",
    "\n",
    "- le mode de collecte et de **stockage de ses données** :\n",
    "tout comme pour une newsletter ou une inscription à un service, l'utilisateur concerné doit savoir quels usages vont être faire et on doit lui donner un moyen de se désincrire (l'optout est désormais interdit et l'optin par defaut: soit une case à cocher pour votre consentement éclairé)\n",
    "\n",
    " > S'informer sur toutes les recommandations de la [CNIL](https://www.cnil.fr/fr/comprendre-vos-obligations)\n",
    "\n",
    "- **les traitements** qui vont être fait sur ces données:\n",
    "croiser ces données avec d'autres implique de déclarer le mode de valorisation que vous aller en faire. Résolution d'adresse, extraction de relation\n",
    "\n",
    "Il existe depuis janvier 2017 (loi pour une République Numérique), une exception à des fins de recherche, elle ne couvre que les travaux de recherche publique à vocation non-commerciale: il faut pour cela être affilié à un organisme de recherche publique et les conditions d'exercices sont encore flou.\n",
    "\n",
    "C'est un point légal assez complexe que je vous invite à regarder avec la très bonne synthèse sur les enjeux et les questions que cela pose [scinfolex](https://scinfolex.com/2015/07/13/le-statut-juridique-des-donnees-de-la-recherche-entre-droit-des-bases-de-donnees-et-donnees-publiques/)\n",
    "\n",
    "\n",
    "Par ailleurs, à terme et ce n'est pas encore legiféré par décret, ces données devront être transférées à un tiers de confiance (la BNF est présentie pour ce rôle dans le cadre des Archives du web français).\n",
    "\n",
    "Pour etre tranquille, donc il vaut mieux exercer ces talents sur de données en **Open Data**.\n",
    "\n",
    "Ici nous militons activement pour l'Open Science: à savoir l'accès à tous aux savoirs communs pour partage réutiliation et diffusion: cela passe aussi par une législation claire des modalités d'extraction et de manipulation des données du web pour faire science ensemble et de manière transparente.\n",
    "\n",
    "Ensuite dans la pratique, beaucoup de professionnels ne s'embarassent pas de ces précautions légales qui peuvent être durement punies par la loi:\n",
    "A titre indicatif: on peut condamner la personne jusqu'à 3 ans d'emprisonnement et de 45 000 euros d'amende.\n",
    "Mais tout dépend de comment on considère le forfait:\n",
    "- parasitisme économique\n",
    "- vol de données\n",
    "- intrusion dans un système informatique\n",
    "\n",
    "Maintenant vous êtes prévenus !\n",
    "\n",
    "\n",
    "\n",
    "Nous allons d'abord installer dans le système, les modules complémentaires dont nous avons besoin. \n",
    "Dans le terminal"
   ]
  },
  {
   "cell_type": "code",
   "execution_count": null,
   "metadata": {
    "collapsed": false,
    "deletable": true,
    "editable": true
   },
   "outputs": [],
   "source": [
    "# !/usr/bin/bash\n",
    "\n",
    "! pip install requests lxml BeautifulSoup4"
   ]
  },
  {
   "cell_type": "markdown",
   "metadata": {
    "deletable": true,
    "editable": true
   },
   "source": [
    "## Télécharger une page web statique\n",
    "\n",
    "### URL => PAGE HTML\n",
    "\n",
    "La première étape est de se connecter à la page web et de télécharger le code source de la page.\n",
    "On va donc à partir d'une url, télécharger une page html. \n",
    "\n",
    "Plusieurs modules pour faire des requêtes avec python existent: \n",
    "le plus simple étant le module [**requests**](http://docs.python-requests.org/en/master/)\n",
    "\n",
    "Ce module télécharge la page demandée  à partir d'une url. Il donne aussi des informations contextuelles sur la requête: le code renvoyé par le serveur, ce qui peut être bien pratique en cas d'erreur.\n",
    "\n",
    "Nous allons écrire une fonction download() qui prend une page web en argument et retourne True et la page **html** si tout c'est bien passé et False, et le code d'erreur HTPP si cela ne s'est pas bien passé.\n"
   ]
  },
  {
   "cell_type": "code",
   "execution_count": null,
   "metadata": {
    "collapsed": true,
    "deletable": true,
    "editable": true
   },
   "outputs": [],
   "source": [
    "import requests\n",
    "def download(url=\"http://www.marmiton.org/recettes/recette_veloute-chou-fleur-coco-sesame_346982.aspx\"):\n",
    "    response = requests.get(url)\n",
    "    if response.status_code == 200:\n",
    "        return (True, response.text)\n",
    "    else:\n",
    "        return (False, response.status_code)"
   ]
  },
  {
   "cell_type": "code",
   "execution_count": null,
   "metadata": {
    "collapsed": false,
    "deletable": true,
    "editable": true
   },
   "outputs": [],
   "source": [
    "#on instancie la fonction avce une url\n",
    "url = \"http://www.marmiton.org/recettes/recette_veloute-chou-fleur-coco-sesame_346982.aspx\"\n",
    "response, page_html = download(url)\n",
    "\n",
    "print(response)"
   ]
  },
  {
   "cell_type": "markdown",
   "metadata": {
    "deletable": true,
    "editable": true
   },
   "source": [
    "## Identifier les informations pertinentes\n",
    "### Page HTML => DOM Inspector\n",
    "\n",
    "Nous avons récupéré la page HTML désirée, il s'agit pour le moment de HTML soit un arbre DOM (du texte et des balises HTML). Pour extraire les informations qui nous intéressent: \n",
    "il nous faut détecter les informations qui nous intéresse : dans quelles balises et à quel niveau du document\n",
    "On utilise le DOM Inspector en général (l'exorateur de code de votre navigateur): \n",
    "Ouvrez votre navigateur: tapez F12 et inspecter la page web lister les informations que vous souhaitez extraire.\n",
    "\n",
    "## Parser la page html\n",
    "\n",
    "### Page HTML => DOM \n",
    "\n",
    "On a récupéré la page web, il faut parcourir le code HTML avec un parser. On va utiliser **BeautifulSoup** un module qui donne des méthodes simples pour accéder aux éléments html qui nous intéressent et qui repose sur un parser standard **lxml**. Nous les avons déjà installé nous allons donc mettre le code source de la page HTML dans un parser. Nous allons créer une fonction parse qui prend la page html et parser le code pour pouvoir le manipuler ensuite grace aux méthodes du module BeautifulSoup et extraure les informations dont on a besoin.\n"
   ]
  },
  {
   "cell_type": "code",
   "execution_count": null,
   "metadata": {
    "collapsed": false,
    "deletable": true,
    "editable": true
   },
   "outputs": [],
   "source": [
    "from bs4 import BeautifulSoup\n",
    "def parse(page_html):\n",
    "    '''on transforme une page html en une *soupe* avce des tags quon peut rechercher '''\n",
    "    soup = BeautifulSoup(page_html, \"lxml\")\n",
    "    return soup"
   ]
  },
  {
   "cell_type": "code",
   "execution_count": null,
   "metadata": {
    "collapsed": false,
    "deletable": true,
    "editable": true
   },
   "outputs": [],
   "source": [
    "#on instancie la fonction en se servant des fonctions déjà écrites\n",
    "\n",
    "url = \"http://www.marmiton.org/recettes/recette_veloute-chou-fleur-coco-sesame_346982.aspx\"\n",
    "response, page_html = download(url)\n",
    "print(response)\n",
    "soup = parse(page_html)\n"
   ]
  },
  {
   "cell_type": "markdown",
   "metadata": {
    "deletable": true,
    "editable": true
   },
   "source": [
    "## Extraire les informations du HTML\n",
    "\n",
    "### DOM  Tags=> elements textuels\n",
    "\n",
    "A cette étape, il est utile de connaitre le HTML. \n",
    "Une fois qu'on a identifié les balises qui contiennent les éléments textuels qu'on veut extraire, on va les chercher et les stocker à l'aide des méthodes de BeautifulSoup find(), findAll(), get().\n",
    "\n",
    "Ici on crée une fonction qui permet d'extraire:\n",
    "- le titre de la page\n",
    "- la liste des ingrédients, \n",
    "- le temps de préparation \n",
    "- le temps de cuission \n",
    "- les instructins de la recette \n",
    "en fonction du type de tag et de la classe de la balise."
   ]
  },
  {
   "cell_type": "code",
   "execution_count": null,
   "metadata": {
    "collapsed": true,
    "deletable": true,
    "editable": true
   },
   "outputs": [],
   "source": [
    "def extract_recette(soup):\n",
    "    '''cette fonction est spécifique à marmiton'''\n",
    "    titre = soup.find(\"h1\", {\"class\":\"m_title fn\"})\n",
    "    print(\"titre\", titre.text)\n",
    "    #ici on transforme une liste en chaine de caractère séparé par une virgule\n",
    "    ingredients =  \",\".join([n.text for n in soup.findAll(\"a\", {\"class\":\"mrm_al\"})])\n",
    "    print(\"ingredients\", ingredients)\n",
    "    preparation_t = soup.find(\"span\", {\"class\":\"preptime\"}).text\n",
    "    print(\"temps de preparation\", preparation_t)\n",
    "    cuisson_t = soup.find(\"span\", {\"class\":\"cooktime\"}).text\n",
    "    print(\"temps de cuission\", cuisson_t)\n",
    "    instructions = soup.find(\"div\", {\"class\": \"m_content_recette_todo\"}).text.strip()\n",
    "    print(\"instructions\", instructions)\n",
    "    return (titre, ingredients, preparation_t, cuisson_t, instructions)\n"
   ]
  },
  {
   "cell_type": "code",
   "execution_count": null,
   "metadata": {
    "collapsed": false,
    "deletable": true,
    "editable": true
   },
   "outputs": [],
   "source": [
    "#on instancie la fonction en se servant des fonctions déjà écrites\n",
    "\n",
    "url = \"http://www.marmiton.org/recettes/recette_veloute-chou-fleur-coco-sesame_346982.aspx\"\n",
    "response, page_html = download(url)\n",
    "print(response)\n",
    "soup = parse(page_html)\n",
    "recette = extract_recette(soup)\n"
   ]
  },
  {
   "cell_type": "markdown",
   "metadata": {
    "deletable": true,
    "editable": true
   },
   "source": [
    "## Enregistrer et stocker les informations\n",
    "\n",
    "### elements textuels => fichier\n",
    "Une fois ses informatiosn extraite on peut la stocker en écrivant les résultats dans un fichier ou une base de données. Ici pour l'exemple ou va stocker la recette dans un CSV séparé par des tabulations en créant une fonction store_results qui prend les resultats et le nom du fichier.\n"
   ]
  },
  {
   "cell_type": "code",
   "execution_count": null,
   "metadata": {
    "collapsed": false,
    "deletable": true,
    "editable": true
   },
   "outputs": [],
   "source": [
    "def store_results(results, file_name):\n",
    "    #on ouvre un file descriptor et on met l'option 'a' pour append : soit écrire à la suite\n",
    "    with open(file, \"a\") as f:\n",
    "        #transforme la ligne de resultats en chaine de caractère séparée par une tabulation\n",
    "        line = \"\\t\".join(results)\n",
    "        #ecris dans un fichier la ligne et ajoute un retour à la ligne\n",
    "        f.write(+\"\\n\")\n",
    "    return \n",
    "    \n",
    "#on instancie la fonction en se servant des fonctions déjà écrites\n",
    "url = \"http://www.marmiton.org/recettes/recette_veloute-chou-fleur-coco-sesame_346982.aspx\"\n",
    "response, page_html = download(url)\n",
    "if response is True:\n",
    "    soup = parse(page_html)\n",
    "    recette = extract_recette(soup)\n",
    "    store_results(\"./recettes.csv\")\n"
   ]
  },
  {
   "cell_type": "markdown",
   "metadata": {},
   "source": [
    "#### Tout ensemble\n",
    "\n"
   ]
  },
  {
   "cell_type": "code",
   "execution_count": null,
   "metadata": {
    "collapsed": true
   },
   "outputs": [],
   "source": [
    "url = \"\" \n",
    "def extract_data(url):\n",
    "    '''\n",
    "    une fonction qui se connecte, télécharge la page, \n",
    "    parse et extrait les informations\n",
    "    le stockage s'effectue à l'extérieur de cette fonction\n",
    "    '''\n",
    "    #download\n",
    "    response = requests.get(url)\n",
    "    #parse\n",
    "    if response.status_code == 200:\n",
    "        soup = BeautifulSoup(response.text, \"lxml\")\n",
    "        #extract info\n",
    "        title = soup.find(\"title\").text\n",
    "        links = [n.get(\"href\") for n in soup.findAll(\"a\")]\n",
    "        #return info\n",
    "        return (title, links)\n",
    "infos = extract_data(\"www.lemonde.fr\")"
   ]
  },
  {
   "cell_type": "markdown",
   "metadata": {
    "deletable": true,
    "editable": true
   },
   "source": [
    "### Exercice"
   ]
  },
  {
   "cell_type": "markdown",
   "metadata": {
    "collapsed": true,
    "deletable": true,
    "editable": true
   },
   "source": [
    "## Crawl\n",
    "\n",
    "Les moteurs de recherche utilise la technique du crawl pour indexer les pages web. \n",
    "Un robot (spider) se connecte à une page de départ (seed) télécharge le code source HTML, \n",
    "extrait les informations de la page (titre, texte, mots clés) et les liens disponibles sur cette page et relance la machine.\n",
    "L'araignée spider se promène ainsi de lien en lien jusqu'à ce qu'il n'y ait plus de pages à visiter.\n",
    "\n",
    "L'algorithme est simple:\n",
    "\n",
    "pour chaque page:\n",
    "* télécharge les\n",
    "\n",
    "\n",
    "--->    * télécharger la page:\n",
    "|       * extraire les données  ----> stocker dans un index\n",
    "|       * sélectionner les liens:\n",
    "|             * pour chaque lien\n",
    "|                 |\n",
    "|                 |\n",
    "---------------------\n",
    "\t"
   ]
  },
  {
   "cell_type": "code",
   "execution_count": null,
   "metadata": {
    "collapsed": true
   },
   "outputs": [],
   "source": []
  }
 ],
 "metadata": {
  "kernelspec": {
   "display_name": "Python 3",
   "language": "python",
   "name": "python3"
  },
  "language_info": {
   "codemirror_mode": {
    "name": "ipython",
    "version": 3
   },
   "file_extension": ".py",
   "mimetype": "text/x-python",
   "name": "python",
   "nbconvert_exporter": "python",
   "pygments_lexer": "ipython3",
   "version": "3.5.2"
  }
 },
 "nbformat": 4,
 "nbformat_minor": 2
}
