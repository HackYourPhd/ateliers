{
 "cells": [
  {
   "cell_type": "markdown",
   "metadata": {},
   "source": [
    "# Web Mining: principes de bases\n",
    "\n",
    "Le webmining est donc une technique qui repose sur les technologies du web et qui rentre dans la catégorie de  l'extraction et analyse de données (Text and Data Mining).\n",
    "\n",
    "Les principales opérations consistent à:\n",
    "\n",
    "-   se **connecter** à une page web et charger le html (load, connect) dans le cas de page statique c'est une opération  simple, dans le cas de page dynamique c'est une autre paire de manches...\n",
    "-   **parcourir la page** et **extraire** les informations cibles   (celles qui nous intéressent: ce qui implique d'avoir identifiés au préalalble les informations qui nous intéresse dans la page soit les balises )\n",
    "- les **stocker** dans un fichier ou une base de données en les organisant selon ce qui nous arrange pour l'analyse\n",
    "\n",
    "L'objectif final étant de récupérer des informations pour les **analyser**. Ici plein de techniques s'appliquent en fonction de l'analyse qu'on veut en faire.\n",
    "\n"
   ]
  },
  {
   "cell_type": "markdown",
   "metadata": {},
   "source": [
    "Dans cet atelier introductif nous ne couvriront que la partie connection, parcourt et extraction des informations issues de pages web. Les différents ateliers réalisé au cours de l'année vous ont présenter quelques techniques de mises en valeur et d'analyse des données.\n",
    "\n",
    "Mais A titre indicatif:\n",
    "- La première des choses à faire est une **analyse statistique**: on a besoin de vérifier que les données sont complètes et consistantes. La phase classique de mise en cohérence des données\n",
    "  - Une évitable phase de nettoyage  et correction, valiidation est à prévoir: d'expérience, 90% du travail du \"data miner\" est de nettoyer les données, prévoir donc une longue phase qui s'ordonne selon la règle des 80% 20% (temps d'extraction/resultats).\n",
    "\n",
    "- Ensuite en fonction de l'hypothèse de départ, on mobilise des techniques différentes d'analyse:\n",
    "    * text mining ()\n",
    "    * modelisation ()\n",
    "    * graphes ()\n",
    "    * classification\n",
    "    * etc...\n",
    "\n",
    "Pour cette partie nous vous renvoyons aux différents ateliers réalisés en cours d'années\n",
    "\n",
    "\n"
   ]
  },
  {
   "cell_type": "markdown",
   "metadata": {},
   "source": [
    "## Les outils en python"
   ]
  },
  {
   "cell_type": "markdown",
   "metadata": {},
   "source": [
    "* Module Requests: Charger une page web\n",
    "* L'exporateur de code source: identifier les élements html \n",
    "* Module BeautifulSoup: Parcourir une page et extraire les elements \n",
    "* Module CSV: stocker les élements dans un tableau\n",
    "\n"
   ]
  },
  {
   "cell_type": "code",
   "execution_count": null,
   "metadata": {
    "collapsed": true
   },
   "outputs": [],
   "source": []
  }
 ],
 "metadata": {
  "kernelspec": {
   "display_name": "Python 3",
   "language": "python",
   "name": "python3"
  },
  "language_info": {
   "codemirror_mode": {
    "name": "ipython",
    "version": 3
   },
   "file_extension": ".py",
   "mimetype": "text/x-python",
   "name": "python",
   "nbconvert_exporter": "python",
   "pygments_lexer": "ipython3",
   "version": "3.5.2"
  }
 },
 "nbformat": 4,
 "nbformat_minor": 2
}
