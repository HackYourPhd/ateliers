{
 "cells": [
  {
   "cell_type": "markdown",
   "metadata": {},
   "source": [
    "# Atelier 6\n",
    "\n",
    "## Introduction\n",
    "\n",
    "Au cours de cet atelier, nous explorerons le moyen de lire un fichier contenant des données, pour les manipuler et les visualiser.\n",
    "\n",
    "D'une manière plus détaillée, cet atelier permettra d'aborder les notions suivantes :\n",
    "\n",
    "- Lecture & écriture de fichiers\n",
    "- Utilisation de boucles et fonctions pour manipuler et préparer des données\n",
    "- Bases de la visualisation de données\n",
    "\n",
    "## Ressources\n",
    "\n",
    "Les fichiers qui se trouvent au coeur de cet atelier sont des fichiers CSV (Comma Separated Values) qu'on peut trouver dans le dépôt GitHub des Ateliers HyPhD : https://github.com/HackYourPhd/ateliers-open-geek/tree/master/Atelier%236\n",
    "\n",
    "Ces fichiers compilent le résultat d'études détaillées ci-dessous :\n",
    "\n",
    "- ms212.csv : Pulse Rates before and after Exercise - http://www.statsci.org/data/oz/ms212.html\n",
    "- cholestg.csv : Cholesterol Levels after Heart Attack : http://www.statsci.org/data/general/cholest.html\n",
    "- discover.csv : Discours et conceptions sur l'ouverture de la science : ...\n",
    "\n",
    "Ces fichier de données CSV sont des fichiers comportant du texte, formaté (organisé) de telle manière à représenter un \"tableau\". Sur la première ligne, on y retrouve donc les entêtes des colonnes, entre `\"` et séparées par des `,`. Chaque ligne suivante correspond à une entrée de données (un individu, une réponse, une prise de mesure ...), chaque valeur (correspondant aux entêtes) se trouvant entre `\"` et séparées par des `,`.\n",
    "\n",
    "## Mise en pratique\n",
    "\n",
    "### Lecture du fichier\n",
    "\n",
    "Basiquement, pour lire un fichier, on ouvre ce fichier avec la commande `open`, puis on le parcours de haut en bas, ligne par ligne ou caractère par caractère.\n",
    "\n",
    "Par exemple, lançons Python et ouvrons le fichier `ms212.csv` et affichons les 3 premières lignes :"
   ]
  },
  {
   "cell_type": "code",
   "execution_count": 21,
   "metadata": {
    "collapsed": false
   },
   "outputs": [],
   "source": [
    "# TODO REMOVE THIS CELL\n",
    "import csv\n",
    "\n",
    "with open(\"Atelier_6/cholestg.txt\", \"r\") as input_f:\n",
    "    with open('Atelier_6/cholestg.csv', 'w') as output_f:\n",
    "        reader = csv.reader(input_f, delimiter='\\t')\n",
    "        writer = csv.writer(output_f, delimiter=',', quotechar='\"', quoting=csv.QUOTE_ALL)\n",
    "        for row in reader:\n",
    "            writer.writerow(row)"
   ]
  },
  {
   "cell_type": "code",
   "execution_count": 23,
   "metadata": {
    "collapsed": false
   },
   "outputs": [
    {
     "name": "stdout",
     "output_type": "stream",
     "text": [
      "\"Height\",\"Weight\",\"Age\",\"Gender\",\"Smokes\",\"Alcohol\",\"Exercise\",\"Ran\",\"Pulse1\",\"Pulse2\",\"Year\"\n",
      "\n",
      "\"173\",\"57\",\"18\",\"2\",\"2\",\"1\",\"2\",\"2\",\"86\",\"88\",\"93\"\n",
      "\n",
      "\"179\",\"58\",\"19\",\"2\",\"2\",\"1\",\"2\",\"1\",\"82\",\"150\",\"93\"\n",
      "\n"
     ]
    }
   ],
   "source": [
    "# Le bloc \"with open\" ouvre le fichier, puis le ferme automatiquement quand on sort de ce bloc\n",
    "# Le paramètre \"r\" passé à open indique qu'on souhaite \"lire\" (\"r\" pour \"read\") ce fichier, et non le modifier\n",
    "with open(\"Atelier_6/ms212.csv\", \"r\") as datafile:\n",
    "    # On créé un compteur pour compter le nombre de ligne qu'on a parcouru\n",
    "    lines_read = 0\n",
    "    # On parcours le fichier ligne par ligne\n",
    "    for line in datafile:\n",
    "        # On affiche la ligne avec print\n",
    "        print(line)\n",
    "        # On augmente le compteur de 1\n",
    "        lines_read += 1\n",
    "        # Et si ce compteur dépasse 3, on arrête la lecture\n",
    "        if lines_read >= 3:\n",
    "            break"
   ]
  },
  {
   "cell_type": "markdown",
   "metadata": {
    "collapsed": true
   },
   "source": [
    "On observe bien la première ligne, contenant les entêtes, puis les lignes suivantes, contenant les données.\n",
    "Si l'on veut manipuler ces données, il va falloir maintenant décomposer ces lignes, pour les stocker dans des variables, que nous pourrons par la suite manipuler ou plotter.\n",
    "\n",
    "On appelle l'étape de \"décomposition\" d'un fichier en variables manipulables le `parsing`.\n",
    "\n",
    "### Parsing d'un fichier"
   ]
  },
  {
   "cell_type": "code",
   "execution_count": 24,
   "metadata": {
    "collapsed": false
   },
   "outputs": [
    {
     "name": "stdout",
     "output_type": "stream",
     "text": [
      "['\"173\"', '\"179\"', '\"167\"']\n"
     ]
    }
   ],
   "source": [
    "# On prépare des variables dans lesquelles on va stocker les valeurs du fichier :\n",
    "heights = []\n",
    "weights = []\n",
    "\n",
    "# Lecture du fichier\n",
    "with open(\"Atelier_6/ms212.csv\", \"r\") as datafile:\n",
    "    # On parcours le fichier ligne par ligne, en utilisant enumerate pour compter la ligne, en même temps\n",
    "    for line_number, line in enumerate(datafile):\n",
    "        if line_number == 0:\n",
    "            # Si la ligne est la première, on l'ignore et on passe au tour de boucle suivante\n",
    "            # On ne va traiter que les données\n",
    "            continue\n",
    "        # On découpe la ligne en ses différents éléments\n",
    "        values = line.split(\",\")\n",
    "        # On ajoute la première valeur aux tailles\n",
    "        heights.append(values[0])\n",
    "        # On ajoute la deuxième valeur aux poids\n",
    "        weights.append(values[1])\n",
    "        # etc ...\n",
    "\n",
    "# On vérifie qu'on a bien fait le boulot en affichant les 3 premières tailles :\n",
    "print(heights[0:3])"
   ]
  },
  {
   "cell_type": "markdown",
   "metadata": {},
   "source": [
    "Bien ... mais pas top : ça reste des chaînes de caractère et non des nombres, qui en plus contiennent des `\"` qui ne nous servent à rien."
   ]
  },
  {
   "cell_type": "code",
   "execution_count": 29,
   "metadata": {
    "collapsed": false
   },
   "outputs": [
    {
     "name": "stdout",
     "output_type": "stream",
     "text": [
      "[173.0, 179.0, 167.0]\n"
     ]
    }
   ],
   "source": [
    "# On prépare des variables dans lesquelles on va stocker les valeurs du fichier :\n",
    "heights = []\n",
    "weights = []\n",
    "\n",
    "# Lecture du fichier\n",
    "with open(\"Atelier_6/ms212.csv\", \"r\") as datafile:\n",
    "    # On parcours le fichier ligne par ligne, en utilisant enumerate pour compter la ligne, en même temps\n",
    "    for line_number, line in enumerate(datafile):\n",
    "        if line_number == 0:\n",
    "            # Si la ligne est la première, on l'ignore et on passe au tour de boucle suivante\n",
    "            # On ne va traiter que les données\n",
    "            continue\n",
    "        # On découpe la ligne en ses différents éléments\n",
    "        values = line.split(\",\")\n",
    "        # On récupère la première valeur : une taille, et on la convertit en nombre\n",
    "        height = values[0]\n",
    "        # On enlève les guillemets inutiles aux extrémités\n",
    "        height = height.strip('\"')\n",
    "        # On convertit cette taille en nombre\n",
    "        height = float(height)\n",
    "        # Et on l'ajoute aux tailles\n",
    "        heights.append(height)\n",
    "        \n",
    "        # On recommence pour le poids\n",
    "        weight = values[1]\n",
    "        weight = weight.strip('\"')\n",
    "        weight = float(weight)\n",
    "        weights.append(weight)\n",
    "        # etc ...\n",
    "\n",
    "# On vérifie qu'on a bien fait le boulot en affichant les 3 premières tailles :\n",
    "print(heights[0:3])"
   ]
  },
  {
   "cell_type": "markdown",
   "metadata": {},
   "source": [
    "C'est mieux ! Mais ... c'est pénible, non ?\n",
    "Heureusement, pour de nombreuses tâches, simples ou moins simples, des \"bibliothèques\" existent, comprenant des fonctions qui font ce genre de choses à votre place.\n",
    "\n",
    "Pour le cas des fichiers CSV, il y a donc le module standard de Python : `csv`"
   ]
  },
  {
   "cell_type": "code",
   "execution_count": 38,
   "metadata": {
    "collapsed": false
   },
   "outputs": [
    {
     "name": "stdout",
     "output_type": "stream",
     "text": [
      "['Height', 'Weight', 'Age', 'Gender', 'Smokes', 'Alcohol', 'Exercise', 'Ran', 'Pulse1', 'Pulse2', 'Year']\n",
      "['173', '57', '18', '2', '2', '1', '2', '2', '86', '88', '93']\n",
      "['179', '58', '19', '2', '2', '1', '2', '1', '82', '150', '93']\n"
     ]
    }
   ],
   "source": [
    "# On importe ce module pour pouvoir l'utiliser\n",
    "import csv\n",
    "\n",
    "# Lecture du fichier\n",
    "with open(\"Atelier_6/ms212.csv\", \"r\") as datafile:\n",
    "    # On construit un lecteur de CSV, paramétré pour notre fichier\n",
    "    csv_reader = csv.reader(datafile, delimiter=',', quotechar='\"')\n",
    "    for line in csv_reader:\n",
    "        # Puis on le parcours ligne à ligne, comme un fichier\n",
    "        print(line)\n",
    "        if csv_reader.line_num >= 3:\n",
    "            # Le reader contient une variable pour suivre la ligne à laquelle on se trouve ! Pratique ;)\n",
    "            break"
   ]
  },
  {
   "cell_type": "markdown",
   "metadata": {},
   "source": [
    "On constate que, contrairement à plus haut, les lignes sont ici directement des tableaux Python contenant les valeurs.\n",
    "C'est toujours une étape de gagnée !\n",
    "\n",
    "Mais on peut faire mieux !"
   ]
  },
  {
   "cell_type": "code",
   "execution_count": 39,
   "metadata": {
    "collapsed": false
   },
   "outputs": [
    {
     "name": "stdout",
     "output_type": "stream",
     "text": [
      "{'Pulse1': '86', 'Pulse2': '88', 'Alcohol': '1', 'Ran': '2', 'Height': '173', 'Exercise': '2', 'Gender': '2', 'Smokes': '2', 'Year': '93', 'Weight': '57', 'Age': '18'}\n",
      "{'Pulse1': '82', 'Pulse2': '150', 'Alcohol': '1', 'Ran': '1', 'Height': '179', 'Exercise': '2', 'Gender': '2', 'Smokes': '2', 'Year': '93', 'Weight': '58', 'Age': '19'}\n"
     ]
    }
   ],
   "source": [
    "import csv\n",
    "\n",
    "# Lecture du fichier\n",
    "with open(\"Atelier_6/ms212.csv\", \"r\") as datafile:\n",
    "    # On construit un lecteur de CSV, paramétré pour notre fichier\n",
    "    csv_reader = csv.DictReader(datafile, delimiter=',', quotechar='\"')\n",
    "    for line in csv_reader:\n",
    "        # Puis on le parcours ligne à ligne, comme un fichier\n",
    "        print(line)\n",
    "        if csv_reader.line_num >= 3:\n",
    "            # Le reader contient une variable pour suivre la ligne à laquelle on se trouve ! Pratique ;)\n",
    "            break"
   ]
  },
  {
   "cell_type": "markdown",
   "metadata": {},
   "source": [
    "Cette fois, on obtient non plus des tableaux, mais des dictionnaires, contenant les données toute bien `parsée` et facilitant la manipulation !\n",
    "Ce qui nous facilite la vie, par exemple, si l'on souhaite afficher les âges :"
   ]
  },
  {
   "cell_type": "code",
   "execution_count": 41,
   "metadata": {
    "collapsed": false
   },
   "outputs": [
    {
     "name": "stdout",
     "output_type": "stream",
     "text": [
      "18\n",
      "19\n",
      "18\n",
      "18\n",
      "18\n",
      "22\n",
      "20\n",
      "18\n",
      "19\n",
      "23\n",
      "20\n",
      "19\n",
      "22\n",
      "18\n",
      "18\n",
      "22\n",
      "19\n",
      "18\n",
      "21\n",
      "19\n",
      "19\n",
      "34\n",
      "20\n",
      "26\n",
      "19\n",
      "18\n",
      "18\n",
      "21\n",
      "19\n",
      "21\n",
      "20\n",
      "19\n",
      "19\n",
      "23\n",
      "19\n",
      "20\n",
      "18\n",
      "19\n",
      "18\n",
      "18\n",
      "20\n",
      "23\n",
      "21\n",
      "19\n",
      "19\n",
      "18\n",
      "26\n",
      "20\n",
      "19\n",
      "22\n",
      "20\n",
      "20\n",
      "20\n",
      "18\n",
      "20\n",
      "20\n",
      "20\n",
      "18\n",
      "19\n",
      "20\n",
      "18\n",
      "20\n",
      "18\n",
      "20\n",
      "21\n",
      "19\n",
      "20\n",
      "21\n",
      "19\n",
      "22\n",
      "23\n",
      "19\n",
      "20\n",
      "19\n",
      "20\n",
      "20\n",
      "20\n",
      "20\n",
      "18\n",
      "19\n",
      "18\n",
      "41\n",
      "21\n",
      "25\n",
      "28\n",
      "21\n",
      "18\n",
      "45\n",
      "19\n",
      "18\n",
      "19\n",
      "19\n",
      "21\n",
      "21\n",
      "23\n",
      "28\n",
      "20\n",
      "20\n",
      "20\n",
      "19\n",
      "24\n",
      "19\n",
      "20\n",
      "20\n",
      "23\n",
      "19\n",
      "19\n",
      "22\n",
      "18\n",
      "19\n"
     ]
    }
   ],
   "source": [
    "import csv\n",
    "\n",
    "# Lecture du fichier\n",
    "with open(\"Atelier_6/ms212.csv\", \"r\") as datafile:\n",
    "    # On construit un lecteur de CSV, paramétré pour notre fichier\n",
    "    csv_reader = csv.DictReader(datafile, delimiter=',', quotechar='\"')\n",
    "    for line in csv_reader:\n",
    "        # Puis on le parcours ligne à ligne, comme un fichier\n",
    "        print(line['Age'])"
   ]
  },
  {
   "cell_type": "markdown",
   "metadata": {},
   "source": [
    "Il ne nous reste donc plus qu'à stocker ces dictionnaires au fur et à mesure de la lecture pour les manipuler plus tard."
   ]
  },
  {
   "cell_type": "code",
   "execution_count": 42,
   "metadata": {
    "collapsed": true
   },
   "outputs": [],
   "source": [
    "import csv\n",
    "\n",
    "data = []\n",
    "\n",
    "# Lecture du fichier\n",
    "with open(\"Atelier_6/ms212.csv\", \"r\") as datafile:\n",
    "    # On construit un lecteur de CSV, paramétré pour notre fichier\n",
    "    csv_reader = csv.DictReader(datafile, delimiter=',', quotechar='\"')\n",
    "    for line in csv_reader:\n",
    "        # Puis on le parcours ligne à ligne, comme un fichier\n",
    "        data.append(line)"
   ]
  },
  {
   "cell_type": "markdown",
   "metadata": {},
   "source": [
    "On a donc bien maintenant les données dans une variable `data`. Par exemple, l'age de la première ligne :"
   ]
  },
  {
   "cell_type": "code",
   "execution_count": 44,
   "metadata": {
    "collapsed": false
   },
   "outputs": [
    {
     "name": "stdout",
     "output_type": "stream",
     "text": [
      "18\n"
     ]
    }
   ],
   "source": [
    "print(data[0]['Age'])"
   ]
  },
  {
   "cell_type": "code",
   "execution_count": null,
   "metadata": {
    "collapsed": true
   },
   "outputs": [],
   "source": []
  }
 ],
 "metadata": {
  "kernelspec": {
   "display_name": "Python 3",
   "language": "python",
   "name": "python3"
  },
  "language_info": {
   "codemirror_mode": {
    "name": "ipython",
    "version": 3
   },
   "file_extension": ".py",
   "mimetype": "text/x-python",
   "name": "python",
   "nbconvert_exporter": "python",
   "pygments_lexer": "ipython3",
   "version": "3.4.3"
  }
 },
 "nbformat": 4,
 "nbformat_minor": 0
}
