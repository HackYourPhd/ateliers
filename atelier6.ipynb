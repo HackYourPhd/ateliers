{
 "cells": [
  {
   "cell_type": "markdown",
   "metadata": {},
   "source": [
    "# Atelier 6\n",
    "\n",
    "## Introduction\n",
    "\n",
    "Au cours de cet atelier, nous explorerons le moyen de lire un fichier contenant des données, pour les manipuler et les visualiser.\n",
    "\n",
    "D'une manière plus détaillée, cet atelier permettra d'aborder les notions suivantes :\n",
    "\n",
    "- Lecture & écriture de fichiers\n",
    "- Utilisation de boucles et fonctions pour manipuler et préparer des données\n",
    "- Bases de la visualisation de données\n",
    "\n",
    "## Ressources\n",
    "\n",
    "Les fichiers qui se trouvent au coeur de cet atelier sont des fichiers CSV (Comma Separated Values) qu'on peut trouver dans le dépôt GitHub des Ateliers HyPhD : https://github.com/HackYourPhd/ateliers-open-geek/tree/master/Atelier%236\n",
    "\n",
    "Ces fichiers compilent le résultat d'études détaillées ci-dessous :\n",
    "\n",
    "- ms212.csv : Pulse Rates before and after Exercise - http://www.statsci.org/data/oz/ms212.html\n",
    "- cholestg.csv : Cholesterol Levels after Heart Attack : http://www.statsci.org/data/general/cholest.html\n",
    "- discover.csv : Discours et conceptions sur l'ouverture de la science : ...\n",
    "\n",
    "Ces fichier de données CSV sont des fichiers comportant du texte, formaté (organisé) de telle manière à représenter un \"tableau\". Sur la première ligne, on y retrouve donc les entêtes des colonnes, entre `\"` et séparées par des `,`. Chaque ligne suivante correspond à une entrée de données (un individu, une réponse, une prise de mesure ...), chaque valeur (correspondant aux entêtes) se trouvant entre `\"` et séparées par des `,`.\n",
    "\n",
    "## Mise en pratique\n",
    "\n",
    "### Initialisation de l'environnement IPython\n",
    "\n",
    "```\n",
    "# Activer l'environnement Anaconda \n",
    "$ condactivate\n",
    "# Aller dans le dossier où l'on souhaite travailler\n",
    "$ cd ateliers-open-geek/\n",
    "# Lancer IPython dans ce dossier\n",
    "$ ipython notebook --notebook-dir=.\n",
    "```\n",
    "\n",
    "### Lecture du fichier\n",
    "\n",
    "Basiquement, pour lire un fichier, on ouvre ce fichier avec la commande `open`, puis on le parcours de haut en bas, ligne par ligne ou caractère par caractère.\n",
    "\n",
    "Par exemple, lançons Python et ouvrons le fichier `ms212.csv` et affichons les 3 premières lignes :"
   ]
  },
  {
   "cell_type": "code",
   "execution_count": 4,
   "metadata": {
    "collapsed": false
   },
   "outputs": [
    {
     "name": "stdout",
     "output_type": "stream",
     "text": [
      "\"Height\",\"Weight\",\"Age\",\"Gender\",\"Smokes\",\"Alcohol\",\"Exercise\",\"Ran\",\"Pulse1\",\"Pulse2\",\"Year\"\n",
      "\n",
      "\"173\",\"57\",\"18\",\"2\",\"2\",\"1\",\"2\",\"2\",\"86\",\"88\",\"93\"\n",
      "\n",
      "\"179\",\"58\",\"19\",\"2\",\"2\",\"1\",\"2\",\"1\",\"82\",\"150\",\"93\"\n",
      "\n"
     ]
    }
   ],
   "source": [
    "# Le bloc \"with open\" ouvre le fichier, puis le ferme automatiquement quand on sort de ce bloc\n",
    "# Le paramètre \"r\" passé à open indique qu'on souhaite \"lire\" (\"r\" pour \"read\") ce fichier, et non le modifier\n",
    "with open(\"Atelier_6/ms212.csv\", \"r\") as datafile:\n",
    "    # On créé un compteur pour compter le nombre de ligne qu'on a parcouru\n",
    "    lines_read = 0\n",
    "    # On parcours le fichier ligne par ligne\n",
    "    for line in datafile:\n",
    "        # On affiche la ligne avec print\n",
    "        print(line)\n",
    "        # On augmente le compteur de 1\n",
    "        lines_read += 1\n",
    "        # Et si ce compteur dépasse 3, on arrête la lecture\n",
    "        if lines_read >= 3:\n",
    "            break"
   ]
  },
  {
   "cell_type": "markdown",
   "metadata": {
    "collapsed": true
   },
   "source": [
    "On observe bien la première ligne, contenant les entêtes, puis les lignes suivantes, contenant les données.\n",
    "Si l'on veut manipuler ces données, il va falloir maintenant décomposer ces lignes, pour les stocker dans des variables, que nous pourrons par la suite manipuler ou plotter.\n",
    "\n",
    "On appelle l'étape de \"décomposition\" d'un fichier en variables manipulables le `parsing`.\n",
    "\n",
    "### Parsing d'un fichier"
   ]
  },
  {
   "cell_type": "code",
   "execution_count": 5,
   "metadata": {
    "collapsed": false
   },
   "outputs": [
    {
     "name": "stdout",
     "output_type": "stream",
     "text": [
      "['\"173\"', '\"179\"', '\"167\"']\n"
     ]
    }
   ],
   "source": [
    "# On prépare des variables dans lesquelles on va stocker les valeurs du fichier :\n",
    "heights = []\n",
    "weights = []\n",
    "\n",
    "# Lecture du fichier\n",
    "with open(\"Atelier_6/ms212.csv\", \"r\") as datafile:\n",
    "    # On parcours le fichier ligne par ligne, en utilisant enumerate pour compter la ligne, en même temps\n",
    "    for line_number, line in enumerate(datafile):\n",
    "        if line_number == 0:\n",
    "            # Si la ligne est la première, on l'ignore et on passe au tour de boucle suivante\n",
    "            # On ne va traiter que les données\n",
    "            continue\n",
    "        # On découpe la ligne en ses différents éléments\n",
    "        values = line.split(\",\")\n",
    "        # On ajoute la première valeur aux tailles\n",
    "        heights.append(values[0])\n",
    "        # On ajoute la deuxième valeur aux poids\n",
    "        weights.append(values[1])\n",
    "        # etc ...\n",
    "\n",
    "# On vérifie qu'on a bien fait le boulot en affichant les 3 premières tailles :\n",
    "print(heights[0:3])"
   ]
  },
  {
   "cell_type": "markdown",
   "metadata": {},
   "source": [
    "Bien ... mais pas top : ça reste des chaînes de caractère et non des nombres, qui en plus contiennent des `\"` qui ne nous servent à rien."
   ]
  },
  {
   "cell_type": "code",
   "execution_count": 6,
   "metadata": {
    "collapsed": false
   },
   "outputs": [
    {
     "name": "stdout",
     "output_type": "stream",
     "text": [
      "[173.0, 179.0, 167.0]\n"
     ]
    }
   ],
   "source": [
    "# On prépare des variables dans lesquelles on va stocker les valeurs du fichier :\n",
    "heights = []\n",
    "weights = []\n",
    "\n",
    "# Lecture du fichier\n",
    "with open(\"Atelier_6/ms212.csv\", \"r\") as datafile:\n",
    "    # On parcours le fichier ligne par ligne, en utilisant enumerate pour compter la ligne, en même temps\n",
    "    for line_number, line in enumerate(datafile):\n",
    "        if line_number == 0:\n",
    "            # Si la ligne est la première, on l'ignore et on passe au tour de boucle suivante\n",
    "            # On ne va traiter que les données\n",
    "            continue\n",
    "        # On découpe la ligne en ses différents éléments\n",
    "        values = line.split(\",\")\n",
    "        # On récupère la première valeur : une taille, et on la convertit en nombre\n",
    "        height = values[0]\n",
    "        # On enlève les guillemets inutiles aux extrémités\n",
    "        height = height.strip('\"')\n",
    "        # On convertit cette taille en nombre\n",
    "        height = float(height)\n",
    "        # Et on l'ajoute aux tailles\n",
    "        heights.append(height)\n",
    "        \n",
    "        # On recommence pour le poids\n",
    "        weight = values[1]\n",
    "        weight = weight.strip('\"')\n",
    "        weight = float(weight)\n",
    "        weights.append(weight)\n",
    "        # etc ...\n",
    "\n",
    "# On vérifie qu'on a bien fait le boulot en affichant les 3 premières tailles :\n",
    "print(heights[0:3])"
   ]
  },
  {
   "cell_type": "markdown",
   "metadata": {},
   "source": [
    "C'est mieux ! Mais ... c'est pénible, non ?\n",
    "Heureusement, pour de nombreuses tâches, simples ou moins simples, des \"bibliothèques\" existent, comprenant des fonctions qui font ce genre de choses à votre place.\n",
    "\n",
    "### La bibliothèque CSV\n",
    "\n",
    "Pour le cas des fichiers CSV, il y a donc le module standard de Python : `csv`"
   ]
  },
  {
   "cell_type": "code",
   "execution_count": 7,
   "metadata": {
    "collapsed": false
   },
   "outputs": [
    {
     "name": "stdout",
     "output_type": "stream",
     "text": [
      "['Height', 'Weight', 'Age', 'Gender', 'Smokes', 'Alcohol', 'Exercise', 'Ran', 'Pulse1', 'Pulse2', 'Year']\n",
      "['173', '57', '18', '2', '2', '1', '2', '2', '86', '88', '93']\n",
      "['179', '58', '19', '2', '2', '1', '2', '1', '82', '150', '93']\n"
     ]
    }
   ],
   "source": [
    "# On importe ce module pour pouvoir l'utiliser\n",
    "import csv\n",
    "\n",
    "# Lecture du fichier\n",
    "with open(\"Atelier_6/ms212.csv\", \"r\") as datafile:\n",
    "    # On construit un lecteur de CSV, paramétré pour notre fichier\n",
    "    csv_reader = csv.reader(datafile, delimiter=',', quotechar='\"')\n",
    "    for line in csv_reader:\n",
    "        # Puis on le parcours ligne à ligne, comme un fichier\n",
    "        print(line)\n",
    "        if csv_reader.line_num >= 3:\n",
    "            # Le reader contient une variable pour suivre la ligne à laquelle on se trouve ! Pratique ;)\n",
    "            break"
   ]
  },
  {
   "cell_type": "markdown",
   "metadata": {},
   "source": [
    "On constate que, contrairement à plus haut, les lignes sont ici directement des tableaux Python contenant les valeurs.\n",
    "C'est toujours une étape de gagnée !\n",
    "\n",
    "Mais on peut faire mieux !"
   ]
  },
  {
   "cell_type": "code",
   "execution_count": 8,
   "metadata": {
    "collapsed": false
   },
   "outputs": [
    {
     "name": "stdout",
     "output_type": "stream",
     "text": [
      "{'Pulse1': '86', 'Weight': '57', 'Year': '93', 'Height': '173', 'Smokes': '2', 'Exercise': '2', 'Pulse2': '88', 'Age': '18', 'Ran': '2', 'Gender': '2', 'Alcohol': '1'}\n",
      "{'Pulse1': '82', 'Weight': '58', 'Year': '93', 'Height': '179', 'Smokes': '2', 'Exercise': '2', 'Pulse2': '150', 'Age': '19', 'Ran': '1', 'Gender': '2', 'Alcohol': '1'}\n"
     ]
    }
   ],
   "source": [
    "import csv\n",
    "\n",
    "# Lecture du fichier\n",
    "with open(\"Atelier_6/ms212.csv\", \"r\") as datafile:\n",
    "    # On construit un lecteur de CSV, paramétré pour notre fichier\n",
    "    csv_reader = csv.DictReader(datafile, delimiter=',', quotechar='\"')\n",
    "    for line in csv_reader:\n",
    "        # Puis on le parcours ligne à ligne, comme un fichier\n",
    "        print(line)\n",
    "        if csv_reader.line_num >= 3:\n",
    "            # Le reader contient une variable pour suivre la ligne à laquelle on se trouve ! Pratique ;)\n",
    "            break"
   ]
  },
  {
   "cell_type": "markdown",
   "metadata": {},
   "source": [
    "Cette fois, on obtient non plus des tableaux, mais des dictionnaires, contenant les données toute bien `parsée` et facilitant la manipulation !\n",
    "Ce qui nous facilite la vie, par exemple, si l'on souhaite afficher les âges :"
   ]
  },
  {
   "cell_type": "code",
   "execution_count": 9,
   "metadata": {
    "collapsed": false
   },
   "outputs": [
    {
     "name": "stdout",
     "output_type": "stream",
     "text": [
      "18\n",
      "19\n",
      "18\n",
      "18\n"
     ]
    }
   ],
   "source": [
    "import csv\n",
    "\n",
    "# Lecture du fichier\n",
    "with open(\"Atelier_6/ms212.csv\", \"r\") as datafile:\n",
    "    # On construit un lecteur de CSV, paramétré pour notre fichier\n",
    "    csv_reader = csv.DictReader(datafile, delimiter=',', quotechar='\"')\n",
    "    for line in csv_reader:\n",
    "        # Puis on le parcours ligne à ligne, comme un fichier\n",
    "        print(line['Age'])\n",
    "        if csv_reader.line_num >= 5:\n",
    "            break"
   ]
  },
  {
   "cell_type": "markdown",
   "metadata": {},
   "source": [
    "Il ne nous reste donc plus qu'à stocker ces dictionnaires au fur et à mesure de la lecture pour les manipuler plus tard."
   ]
  },
  {
   "cell_type": "code",
   "execution_count": 10,
   "metadata": {
    "collapsed": true
   },
   "outputs": [],
   "source": [
    "import csv\n",
    "\n",
    "data = []\n",
    "\n",
    "# Lecture du fichier\n",
    "with open(\"Atelier_6/ms212.csv\", \"r\") as datafile:\n",
    "    # On construit un lecteur de CSV, paramétré pour notre fichier\n",
    "    csv_reader = csv.DictReader(datafile, delimiter=',', quotechar='\"')\n",
    "    for line in csv_reader:\n",
    "        # Puis on le parcours ligne à ligne, comme un fichier\n",
    "        data.append(line)"
   ]
  },
  {
   "cell_type": "markdown",
   "metadata": {},
   "source": [
    "On a donc bien maintenant les données dans une variable `data`. Par exemple, l'age de la première ligne :"
   ]
  },
  {
   "cell_type": "code",
   "execution_count": 11,
   "metadata": {
    "collapsed": false
   },
   "outputs": [
    {
     "name": "stdout",
     "output_type": "stream",
     "text": [
      "18\n"
     ]
    }
   ],
   "source": [
    "print(data[0]['Age'])"
   ]
  },
  {
   "cell_type": "markdown",
   "metadata": {
    "collapsed": true
   },
   "source": [
    "### Nettoyage des données\n",
    "\n",
    "Si on a désormais un ensemble de données pratiques à manipuler, le type des données est encore toujours une chaîne de caractère, et même parfois un nombre à la place d'un \"booléen\" (une valeur vrai/faux).\n",
    "On va donc repasser sur les différentes données pour mes transformer comme il nous arrange."
   ]
  },
  {
   "cell_type": "code",
   "execution_count": 12,
   "metadata": {
    "collapsed": false
   },
   "outputs": [
    {
     "ename": "ValueError",
     "evalue": "invalid literal for int() with base 10: 'NA'",
     "output_type": "error",
     "traceback": [
      "\u001b[1;31m---------------------------------------------------------------------------\u001b[0m",
      "\u001b[1;31mValueError\u001b[0m                                Traceback (most recent call last)",
      "\u001b[1;32m<ipython-input-12-7578529edffe>\u001b[0m in \u001b[0;36m<module>\u001b[1;34m()\u001b[0m\n\u001b[0;32m      4\u001b[0m     \u001b[0mentry\u001b[0m\u001b[1;33m[\u001b[0m\u001b[1;34m'Weight'\u001b[0m\u001b[1;33m]\u001b[0m \u001b[1;33m=\u001b[0m \u001b[0mfloat\u001b[0m\u001b[1;33m(\u001b[0m\u001b[0mentry\u001b[0m\u001b[1;33m[\u001b[0m\u001b[1;34m'Weight'\u001b[0m\u001b[1;33m]\u001b[0m\u001b[1;33m)\u001b[0m\u001b[1;33m\u001b[0m\u001b[0m\n\u001b[0;32m      5\u001b[0m     \u001b[1;31m# Les valeurs de poul sont des nombres entier\u001b[0m\u001b[1;33m\u001b[0m\u001b[1;33m\u001b[0m\u001b[0m\n\u001b[1;32m----> 6\u001b[1;33m     \u001b[0mentry\u001b[0m\u001b[1;33m[\u001b[0m\u001b[1;34m'Pulse1'\u001b[0m\u001b[1;33m]\u001b[0m \u001b[1;33m=\u001b[0m \u001b[0mint\u001b[0m\u001b[1;33m(\u001b[0m\u001b[0mentry\u001b[0m\u001b[1;33m[\u001b[0m\u001b[1;34m'Pulse1'\u001b[0m\u001b[1;33m]\u001b[0m\u001b[1;33m)\u001b[0m\u001b[1;33m\u001b[0m\u001b[0m\n\u001b[0m\u001b[0;32m      7\u001b[0m     \u001b[0mentry\u001b[0m\u001b[1;33m[\u001b[0m\u001b[1;34m'Pulse2'\u001b[0m\u001b[1;33m]\u001b[0m \u001b[1;33m=\u001b[0m \u001b[0mint\u001b[0m\u001b[1;33m(\u001b[0m\u001b[0mentry\u001b[0m\u001b[1;33m[\u001b[0m\u001b[1;34m'Pulse2'\u001b[0m\u001b[1;33m]\u001b[0m\u001b[1;33m)\u001b[0m\u001b[1;33m\u001b[0m\u001b[0m\n",
      "\u001b[1;31mValueError\u001b[0m: invalid literal for int() with base 10: 'NA'"
     ]
    }
   ],
   "source": [
    "for entry in data:\n",
    "    # La hauteur et le poids sont des nombres décimaux\n",
    "    entry['Height'] = float(entry['Height'])\n",
    "    entry['Weight'] = float(entry['Weight'])\n",
    "    # Les valeurs de poul sont des nombres entier\n",
    "    entry['Pulse1'] = int(entry['Pulse1'])\n",
    "    entry['Pulse2'] = int(entry['Pulse2'])"
   ]
  },
  {
   "cell_type": "markdown",
   "metadata": {},
   "source": [
    "Oups ! Il semblerait que certaines valeurs de pouls ne soient pas renseignées, et contiennent \"NA\" à la place d'un nombre. Il va être nécessaire de les gérer !\n",
    "\n",
    "Pour se simplifier la vie, on va créer une fonction qui fait cette conversion en gèrant le \"NA\". On pourra alors l'utiliser pour Pulse1 et Pulse2."
   ]
  },
  {
   "cell_type": "code",
   "execution_count": 13,
   "metadata": {
    "collapsed": false
   },
   "outputs": [],
   "source": [
    "def update_entry_to_int(entry, key):\n",
    "    \"\"\" This function convert entry[key] to an int, replacing by None the \"NA\" values \"\"\"\n",
    "    value = entry[key]\n",
    "    if value == \"NA\":\n",
    "        value = None\n",
    "    else:\n",
    "        value = int(value)\n",
    "    entry[key] = value"
   ]
  },
  {
   "cell_type": "code",
   "execution_count": 14,
   "metadata": {
    "collapsed": true
   },
   "outputs": [],
   "source": [
    "for entry in data:\n",
    "    # La hauteur et le poids sont des nombres décimaux\n",
    "    entry['Height'] = float(entry['Height'])\n",
    "    entry['Weight'] = float(entry['Weight'])\n",
    "    # Les valeurs de poul sont des nombres entier\n",
    "    update_entry_to_int(entry, 'Pulse1')\n",
    "    update_entry_to_int(entry, 'Pulse2')"
   ]
  },
  {
   "cell_type": "markdown",
   "metadata": {},
   "source": [
    "Procédons également avec une fonction pour convertir les valeurs booléennes sur l'alcool et la cigarette."
   ]
  },
  {
   "cell_type": "code",
   "execution_count": 15,
   "metadata": {
    "collapsed": true
   },
   "outputs": [],
   "source": [
    "def update_entry_to_bool(entry, key):\n",
    "    \"\"\" This function convert entry[key] to a boolean. 1 is converted to True, 2 is converted to False.\"\"\"\n",
    "    value = entry[key]\n",
    "    if value == \"1\":\n",
    "        value = True\n",
    "    elif value == \"2\":\n",
    "        value = False\n",
    "    else:\n",
    "        # Si on a une valeur différente de 1 ou 2, comme un NA par exemple\n",
    "        value = None\n",
    "    entry[key] = value"
   ]
  },
  {
   "cell_type": "code",
   "execution_count": 16,
   "metadata": {
    "collapsed": true
   },
   "outputs": [],
   "source": [
    "for entry in data:\n",
    "    update_entry_to_bool(entry, 'Smokes')\n",
    "    update_entry_to_bool(entry, 'Alcohol')"
   ]
  },
  {
   "cell_type": "markdown",
   "metadata": {},
   "source": [
    "### Enrichissement des données\n",
    "\n",
    "Avec le poids et la taille, on peut calculer l'IMC (BMI) ! Let's go !\n",
    "\n",
    "BMI = Weight / Height^2\n",
    "\n",
    "Avec le poids en kg et la taille en m."
   ]
  },
  {
   "cell_type": "code",
   "execution_count": 17,
   "metadata": {
    "collapsed": false
   },
   "outputs": [],
   "source": [
    "for entry in data:\n",
    "    bmi = entry['Weight'] / ((entry['Height']/100)**2)\n",
    "    entry['BMI'] = bmi"
   ]
  },
  {
   "cell_type": "markdown",
   "metadata": {},
   "source": [
    "On pourrait même définir la classification associée à chaque valeur de BMI, telle que l'a défini la World Health Organization.\n",
    "\n",
    "- Very severely underweight : 0 to 15.0\n",
    "- Severely underweight : 15 to 16\n",
    "- Underweight : 16 to 18.5\n",
    "- Normal (healthy weight) : 18.5 to 25\n",
    "- Overweight : 25 to 30\n",
    "- Obese Class I (Moderately obese) : 30 to 35\n",
    "- Obese Class II (Severely obese) : 35 to 40\n",
    "- Obese Class III (Very severely obese) : 40 to 100\n",
    "\n",
    "### Écriture d'un fichier CSV\n",
    "\n",
    "Cette classification pourrait être mise sous la forme d'un fichier CSV, pour faciliter sa manipulation. Procédons !"
   ]
  },
  {
   "cell_type": "code",
   "execution_count": 18,
   "metadata": {
    "collapsed": true
   },
   "outputs": [],
   "source": [
    "bmi_classification = [\n",
    "    {\n",
    "        \"class_id\": 0,\n",
    "        \"label\": \"Very severely underweight\",\n",
    "        \"min\": 0.0,\n",
    "        \"max\": 15.0\n",
    "    },\n",
    "    {\n",
    "        \"class_id\": 1,\n",
    "        \"label\": \"Severely underweight\",\n",
    "        \"min\": 15.0,\n",
    "        \"max\": 16.0\n",
    "    },\n",
    "    {\n",
    "        \"class_id\": 2,\n",
    "        \"label\": \"Underweight\",\n",
    "        \"min\": 16.0,\n",
    "        \"max\": 18.5\n",
    "    },\n",
    "    {\n",
    "        \"class_id\": 3,\n",
    "        \"label\": \"Normal (healthy weight)\",\n",
    "        \"min\": 18.5,\n",
    "        \"max\": 25.0\n",
    "    },\n",
    "    {\n",
    "        \"class_id\": 4,\n",
    "        \"label\": \"Overweight\",\n",
    "        \"min\": 25.0,\n",
    "        \"max\": 30.0\n",
    "    },\n",
    "    {\n",
    "        \"class_id\": 5,\n",
    "        \"label\": \"Obese Class I (Moderately obese)\",\n",
    "        \"min\": 30.0,\n",
    "        \"max\": 35.0\n",
    "    },\n",
    "    {\n",
    "        \"class_id\": 6,\n",
    "        \"label\": \"Obese Class II (Severely obese)\",\n",
    "        \"min\": 35.0,\n",
    "        \"max\": 40.0\n",
    "    },\n",
    "    {\n",
    "        \"class_id\": 7,\n",
    "        \"label\": \"Obese Class III (Very severely obese)\",\n",
    "        \"min\": 40.0,\n",
    "        \"max\": 100.0\n",
    "    }\n",
    "]"
   ]
  },
  {
   "cell_type": "code",
   "execution_count": 19,
   "metadata": {
    "collapsed": false
   },
   "outputs": [],
   "source": [
    "with open('Atelier_6/bmi_classification.csv', 'w') as bmi_file:\n",
    "    # Utilisons les clés de la première classe comme liste de nos entêtes\n",
    "    headers = bmi_classification[0].keys()\n",
    "    # Préparons un \"writer\" CSV\n",
    "    writer = csv.DictWriter(bmi_file, fieldnames=headers, delimiter=',', quotechar='\"')\n",
    "    writer.writeheader()\n",
    "    for elt in bmi_classification:\n",
    "        writer.writerow(elt)"
   ]
  },
  {
   "cell_type": "markdown",
   "metadata": {},
   "source": [
    "On peut observer le fichier ainsi créé pour regarder ce qu'il est advenu. Pour la suite, on utilisera directement la variable bmi_classification, pour gagner du temps, mais on aurait également pu importer le fichier CSV créé pour recalculer cette variable.\n",
    "\n",
    "Utilisons donc ces valeurs pour rajouter aux données cette classification."
   ]
  },
  {
   "cell_type": "code",
   "execution_count": 20,
   "metadata": {
    "collapsed": true
   },
   "outputs": [],
   "source": [
    "def get_bmi_classification(value):\n",
    "    \"\"\" This method return a tupple giving the class_id and the label associated to given BMI value \"\"\"\n",
    "    for elt in bmi_classification:\n",
    "        if elt['min'] <= value < elt['max']:\n",
    "            return elt['class_id'], elt['label']\n",
    "    else:\n",
    "        # Si aucune classe ne correspond\n",
    "        return None, None"
   ]
  },
  {
   "cell_type": "code",
   "execution_count": 21,
   "metadata": {
    "collapsed": true
   },
   "outputs": [],
   "source": [
    "for entry in data:\n",
    "    class_id, label = get_bmi_classification(entry['BMI'])\n",
    "    entry['BMI_class'] = class_id"
   ]
  },
  {
   "cell_type": "markdown",
   "metadata": {},
   "source": [
    "### Faire des graphiques\n",
    "\n",
    "Maintenant qu'on a plein de données sous la main, mettons les en graphiques !\n",
    "Pour cela, nous allons utiliser MatPlotLib, qui est intégré à IPython."
   ]
  },
  {
   "cell_type": "code",
   "execution_count": 22,
   "metadata": {
    "collapsed": false
   },
   "outputs": [],
   "source": [
    "# Pour initialiser l'environnement matplotlib dans IPython Notebook :\n",
    "%matplotlib inline"
   ]
  },
  {
   "cell_type": "code",
   "execution_count": 23,
   "metadata": {
    "collapsed": true
   },
   "outputs": [],
   "source": [
    "# Pour ensuite importer matplotlib :\n",
    "import matplotlib.pyplot as plt"
   ]
  },
  {
   "cell_type": "code",
   "execution_count": 31,
   "metadata": {
    "collapsed": false
   },
   "outputs": [
    {
     "data": {
      "text/plain": [
       "<matplotlib.text.Text at 0x7ffa5a319320>"
      ]
     },
     "execution_count": 31,
     "metadata": {},
     "output_type": "execute_result"
    },
    {
     "data": {
      "image/png": "[encoded data removed]",
      "text/plain": [
       "<matplotlib.figure.Figure at 0x7ffa5a63acf8>"
      ]
     },
     "metadata": {},
     "output_type": "display_data"
    }
   ],
   "source": [
    "# Créons maintenant les objets que l'on veut afficher, par exemple exprimer le poids en fonction de la taille des individus\n",
    "x = [entry['Weight'] for entry in data]\n",
    "y = [entry['Height'] for entry in data]\n",
    "# Puis créons le graphique !\n",
    "plt.plot(x, y, '.')\n",
    "plt.title('Weight vs Height')"
   ]
  },
  {
   "cell_type": "markdown",
   "metadata": {},
   "source": [
    "Mieux encore, ajoutons une troisième dimension, on colorant les points selon la classe de BMI !"
   ]
  },
  {
   "cell_type": "code",
   "execution_count": 38,
   "metadata": {
    "collapsed": false
   },
   "outputs": [
    {
     "data": {
      "image/png": "[encoded data removed]",
      "text/plain": [
       "<matplotlib.figure.Figure at 0x7ffa5a0bf438>"
      ]
     },
     "metadata": {},
     "output_type": "display_data"
    }
   ],
   "source": [
    "fig = plt.figure()\n",
    "for bmi_class in range(0, 8):\n",
    "    label = None\n",
    "    x = []\n",
    "    y = []\n",
    "    # Pour chaque classe de BMI\n",
    "    for entry in data:\n",
    "        # On parcours toutes les données\n",
    "        if not entry['BMI_class'] == bmi_class:\n",
    "            # Si cette donnée ne correspond pas à la classe en cours, on l'ignore\n",
    "            continue\n",
    "        # Si elle correspond, on l'ajoute dans les tableaux  X & y correspondant à notre classe de BMI\n",
    "        x.append(entry['Weight'])\n",
    "        y.append(entry['Height'])\n",
    "    # Puis on affiche cette classe s'il y a eu des données !\n",
    "    if len(x) > 0:\n",
    "        plt.plot(x, y, '.', label=bmi_class)\n",
    "\n",
    "plt.title('Weight vs Height by BMI class');\n",
    "plt.legend()\n",
    "plt.show()"
   ]
  },
  {
   "cell_type": "code",
   "execution_count": null,
   "metadata": {
    "collapsed": true
   },
   "outputs": [],
   "source": []
  },
  {
   "cell_type": "code",
   "execution_count": null,
   "metadata": {
    "collapsed": true
   },
   "outputs": [],
   "source": []
  }
 ],
 "metadata": {
  "kernelspec": {
   "display_name": "Python 3",
   "language": "python",
   "name": "python3"
  },
  "language_info": {
   "codemirror_mode": {
    "name": "ipython",
    "version": 3
   },
   "file_extension": ".py",
   "mimetype": "text/x-python",
   "name": "python",
   "nbconvert_exporter": "python",
   "pygments_lexer": "ipython3",
   "version": "3.4.3"
  }
 },
 "nbformat": 4,
 "nbformat_minor": 0
}
