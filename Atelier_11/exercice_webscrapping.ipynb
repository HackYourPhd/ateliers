{
 "cells": [
  {
   "cell_type": "markdown",
   "metadata": {},
   "source": [
    "# Exemple de web scrapping avec python\n",
    "## Récupérer les images du webcomics xkcd"
   ]
  },
  {
   "cell_type": "markdown",
   "metadata": {},
   "source": [
    "### 0. identifier les composants d'une page statique\n",
    "`https://xkcd.com/773/`\n",
    "#### 0.1 ouvrir la page dans un browser correct (firefox, par exemple)\n",
    "#### 0.2 afficher le code source de la page\n",
    "Sur firefox, clic droit et sélectionner \"Code source de la page\"\n",
    "#### 0.3 utiliser l'inspecteur\n",
    "sur firefox : Outils > Développement web > Inspecteur\n",
    "#### 0.4 quelles sont vos remarque sur l'organisation de la page ?\n",
    "#### 0.5 identifier les informations qui vont vous permettre de trouver l'image"
   ]
  },
  {
   "cell_type": "markdown",
   "metadata": {},
   "source": [
    "### 1. utiser le module `requests`\n",
    "Ce module nous permet de récupérer les informations d'une page web sous forme d'objet python  \n",
    "Documentation : http://requests-fr.readthedocs.io/en/latest/"
   ]
  },
  {
   "cell_type": "markdown",
   "metadata": {},
   "source": [
    "#### 1.0 import\n",
    "Comme toujours, on commencer par importer le module dont on a besoin"
   ]
  },
  {
   "cell_type": "code",
   "execution_count": 21,
   "metadata": {
    "collapsed": false
   },
   "outputs": [],
   "source": [
    "import requests"
   ]
  },
  {
   "cell_type": "markdown",
   "metadata": {},
   "source": [
    "#### 1.1 se renseigner sur le module\n",
    "Pour avoir de l'aide dans un environnement python interactif  \n",
    "```python\n",
    "requests?\n",
    "```"
   ]
  },
  {
   "cell_type": "code",
   "execution_count": 22,
   "metadata": {
    "collapsed": true
   },
   "outputs": [],
   "source": [
    "requests?"
   ]
  },
  {
   "cell_type": "markdown",
   "metadata": {},
   "source": [
    "#### 1.2 recuperer une page avec un URL\n",
    "Un URL (Uniform Ressource Locator) est une chaîne de caractères.  \n",
    "Il suffit de faire comme dans l'exemple de la documentation.  \n",
    "Vous pouvez tout aussi bien utiliser la petite fonction `download` que Constance vous a présenté."
   ]
  },
  {
   "cell_type": "code",
   "execution_count": 23,
   "metadata": {
    "collapsed": true
   },
   "outputs": [],
   "source": [
    "url = 'https://xkcd.com/773'\n",
    "page = requests.get(url)"
   ]
  },
  {
   "cell_type": "code",
   "execution_count": null,
   "metadata": {
    "collapsed": true
   },
   "outputs": [],
   "source": [
    "page."
   ]
  },
  {
   "cell_type": "markdown",
   "metadata": {},
   "source": [
    "#### 1.3 se renseigner sur l'objet récupéré\n",
    "Puis, pour savoir un peu ce qu'on peut faire avec cet objet, dans un environnement python interactif :    \n",
    "```python\n",
    "page.\n",
    "```"
   ]
  },
  {
   "cell_type": "code",
   "execution_count": 24,
   "metadata": {
    "collapsed": false
   },
   "outputs": [
    {
     "data": {
      "text/plain": [
       "'ISO-8859-1'"
      ]
     },
     "execution_count": 24,
     "metadata": {},
     "output_type": "execute_result"
    }
   ],
   "source": [
    "page.encoding"
   ]
  },
  {
   "cell_type": "code",
   "execution_count": 25,
   "metadata": {
    "collapsed": false
   },
   "outputs": [
    {
     "data": {
      "text/plain": [
       "{'Content-Length': '2943', 'Content-Type': 'text/html', 'Connection': 'keep-alive', 'Vary': 'Accept-Encoding', 'X-Served-By': 'cache-cdg8729-CDG', 'Content-Encoding': 'gzip', 'Expires': 'Tue, 07 Feb 2017 18:15:10 GMT', 'X-Cache-Hits': '0', 'Server': 'nginx', 'Cache-Control': 'max-age=300', 'Date': 'Tue, 07 Feb 2017 18:10:10 GMT', 'Accept-Ranges': 'bytes', 'X-Timer': 'S1486491010.144463,VS0,VE93', 'Last-Modified': 'Mon, 06 Feb 2017 15:54:19 GMT', 'X-Cache': 'MISS', 'Via': '1.1 varnish', 'Age': '0'}"
      ]
     },
     "execution_count": 25,
     "metadata": {},
     "output_type": "execute_result"
    }
   ],
   "source": [
    "page.headers"
   ]
  },
  {
   "cell_type": "markdown",
   "metadata": {},
   "source": [
    "### 2. utiliser le module `Beautiful Soup`\n",
    "Documentation : https://www.crummy.com/software/BeautifulSoup/bs4/doc/  \n",
    "Voir aussi : https://sametmax.com/parser-du-html-avec-beautifulsoup/"
   ]
  },
  {
   "cell_type": "markdown",
   "metadata": {},
   "source": [
    "#### 2.0 Import et informations"
   ]
  },
  {
   "cell_type": "code",
   "execution_count": 26,
   "metadata": {
    "collapsed": true
   },
   "outputs": [],
   "source": [
    "from bs4 import BeautifulSoup"
   ]
  },
  {
   "cell_type": "code",
   "execution_count": 27,
   "metadata": {
    "collapsed": true
   },
   "outputs": [],
   "source": [
    "BeautifulSoup?"
   ]
  },
  {
   "cell_type": "markdown",
   "metadata": {},
   "source": [
    "#### 2.1 Parser le contenu d'une page web\n",
    "Comme on ne sait pas forcément quel parseur utiliser, on va profiter des avertissements de python :"
   ]
  },
  {
   "cell_type": "code",
   "execution_count": 28,
   "metadata": {
    "collapsed": false
   },
   "outputs": [
    {
     "name": "stderr",
     "output_type": "stream",
     "text": [
      "/Users/og/anaconda/lib/python3.5/site-packages/bs4/__init__.py:181: UserWarning: No parser was explicitly specified, so I'm using the best available HTML parser for this system (\"lxml\"). This usually isn't a problem, but if you run this code on another system, or in a different virtual environment, it may use a different parser and behave differently.\n",
      "\n",
      "The code that caused this warning is on line 184 of the file /Users/og/anaconda/lib/python3.5/runpy.py. To get rid of this warning, change code that looks like this:\n",
      "\n",
      " BeautifulSoup([your markup])\n",
      "\n",
      "to this:\n",
      "\n",
      " BeautifulSoup([your markup], \"lxml\")\n",
      "\n",
      "  markup_type=markup_type))\n"
     ]
    }
   ],
   "source": [
    "soupe = BeautifulSoup(page.content)"
   ]
  },
  {
   "cell_type": "markdown",
   "metadata": {},
   "source": [
    "Et voilà !"
   ]
  },
  {
   "cell_type": "code",
   "execution_count": 29,
   "metadata": {
    "collapsed": true
   },
   "outputs": [],
   "source": [
    "soupe = BeautifulSoup(page.content, 'lxml')"
   ]
  },
  {
   "cell_type": "markdown",
   "metadata": {},
   "source": [
    "#### 2.2 S'informer sur notre objet"
   ]
  },
  {
   "cell_type": "code",
   "execution_count": 33,
   "metadata": {
    "collapsed": false
   },
   "outputs": [
    {
     "ename": "SyntaxError",
     "evalue": "invalid syntax (<ipython-input-33-2e36a0e25eea>, line 1)",
     "output_type": "error",
     "traceback": [
      "\u001b[0;36m  File \u001b[0;32m\"<ipython-input-33-2e36a0e25eea>\"\u001b[0;36m, line \u001b[0;32m1\u001b[0m\n\u001b[0;31m    soupe.\u001b[0m\n\u001b[0m          ^\u001b[0m\n\u001b[0;31mSyntaxError\u001b[0m\u001b[0;31m:\u001b[0m invalid syntax\n"
     ]
    }
   ],
   "source": [
    "soupe."
   ]
  },
  {
   "cell_type": "code",
   "execution_count": 34,
   "metadata": {
    "collapsed": false
   },
   "outputs": [
    {
     "name": "stdout",
     "output_type": "stream",
     "text": [
      "<title>xkcd: University Website</title>\n"
     ]
    }
   ],
   "source": [
    "titre = soupe.find(\"title\")\n",
    "print(titre)"
   ]
  },
  {
   "cell_type": "code",
   "execution_count": 35,
   "metadata": {
    "collapsed": false
   },
   "outputs": [
    {
     "ename": "SyntaxError",
     "evalue": "invalid syntax (<ipython-input-35-daf33e6582f0>, line 1)",
     "output_type": "error",
     "traceback": [
      "\u001b[0;36m  File \u001b[0;32m\"<ipython-input-35-daf33e6582f0>\"\u001b[0;36m, line \u001b[0;32m1\u001b[0m\n\u001b[0;31m    titre.\u001b[0m\n\u001b[0m          ^\u001b[0m\n\u001b[0;31mSyntaxError\u001b[0m\u001b[0;31m:\u001b[0m invalid syntax\n"
     ]
    }
   ],
   "source": [
    "titre."
   ]
  },
  {
   "cell_type": "code",
   "execution_count": 36,
   "metadata": {
    "collapsed": false
   },
   "outputs": [
    {
     "data": {
      "text/plain": [
       "'xkcd: University Website'"
      ]
     },
     "execution_count": 36,
     "metadata": {},
     "output_type": "execute_result"
    }
   ],
   "source": [
    "titre.get_text()"
   ]
  },
  {
   "cell_type": "code",
   "execution_count": 37,
   "metadata": {
    "collapsed": false
   },
   "outputs": [
    {
     "name": "stdout",
     "output_type": "stream",
     "text": [
      "<!DOCTYPE html>\n",
      "<html>\n",
      " <head>\n",
      "  <script>\n",
      "   (function(i,s,o,g,r,a,m){i['GoogleAnalyticsObject']=r;i[r]=i[r]||function(){\n",
      "  (i[r].q=i[r].q||[]).push(arguments)},i[r].l=1*new Date();a=s.createElement(o),\n",
      "  m=s.getElementsByTagName(o)[0];a.async=1;a.src=g;m.parentNode.insertBefore(a,m)\n",
      "  })(window,document,'script','https://www.google-analytics.com/analytics.js','ga');\n",
      "\n",
      "  ga('create', 'UA-25700708-7', 'auto');\n",
      "  ga('send', 'pageview');\n",
      "  </script>\n",
      "  <link href=\"/s/b0dcca.css\" rel=\"stylesheet\" title=\"Default\" type=\"text/css\"/>\n",
      "  <title>\n",
      "   xkcd: University Website\n",
      "  </title>\n",
      "  <meta content=\"IE=edge\" http-equiv=\"X-UA-Compatible\"/>\n",
      "  <link href=\"/s/919f27.ico\" rel=\"shortcut icon\" type=\"image/x-icon\"/>\n",
      "  <link href=\"/s/919f27.ico\" rel=\"icon\" type=\"image/x-icon\"/>\n",
      "  <link href=\"/atom.xml\" rel=\"alternate\" title=\"Atom 1.0\" type=\"application/atom+xml\"/>\n",
      "  <link href=\"/rss.xml\" rel=\"alternate\" title=\"RSS 2.0\" type=\"application/rss+xml\"/>\n",
      "  <script async=\"\" src=\"/s/b66ed7.js\" type=\"text/javascript\">\n",
      "  </script>\n",
      "  <script async=\"\" src=\"/s/1b9456.js\" type=\"text/javascript\">\n",
      "  </script>\n",
      " </head>\n",
      " <body>\n",
      "  <div id=\"topContainer\">\n",
      "   <div id=\"topLeft\">\n",
      "    <ul>\n",
      "     <li>\n",
      "      <a href=\"/archive\">\n",
      "       Archive\n",
      "      </a>\n",
      "     </li>\n",
      "     <li>\n",
      "      <a href=\"http://what-if.xkcd.com\">\n",
      "       What If?\n",
      "      </a>\n",
      "     </li>\n",
      "     <li>\n",
      "      <a href=\"http://blag.xkcd.com\">\n",
      "       Blag\n",
      "      </a>\n",
      "     </li>\n",
      "     <li>\n",
      "      <a href=\"http://store.xkcd.com/\">\n",
      "       Store\n",
      "      </a>\n",
      "     </li>\n",
      "     <li>\n",
      "      <a href=\"/about\" rel=\"author\">\n",
      "       About\n",
      "      </a>\n",
      "     </li>\n",
      "    </ul>\n",
      "   </div>\n",
      "   <div id=\"topRight\">\n",
      "    <div id=\"masthead\">\n",
      "     <span>\n",
      "      <a href=\"/\">\n",
      "       <img alt=\"xkcd.com logo\" height=\"83\" src=\"/s/0b7742.png\" width=\"185\"/>\n",
      "      </a>\n",
      "     </span>\n",
      "     <span id=\"slogan\">\n",
      "      A webcomic of romance,\n",
      "      <br/>\n",
      "      sarcasm, math, and language.\n",
      "     </span>\n",
      "    </div>\n",
      "    <div id=\"news\">\n",
      "     There are\n",
      "     <a href=\"https://store.xkcd.com/collections/featured\">\n",
      "      four new shirts\n",
      "     </a>\n",
      "     in\n",
      "     <a href=\"https://store.xkcd.com/\">\n",
      "      the xkcd store\n",
      "     </a>\n",
      "     ,\n",
      "     <br/>\n",
      "     along with\n",
      "     <a href=\"https://store.xkcd.com/collections/posters\">\n",
      "      posters\n",
      "     </a>\n",
      "     and\n",
      "     <a href=\"https://store.xkcd.com/collections/everything\">\n",
      "      lots of other stuff\n",
      "     </a>\n",
      "     !\n",
      "    </div>\n",
      "   </div>\n",
      "   <div class=\"bg box\" id=\"bgLeft\">\n",
      "   </div>\n",
      "   <div class=\"bg box\" id=\"bgRight\">\n",
      "   </div>\n",
      "  </div>\n",
      "  <div class=\"box\" id=\"middleContainer\">\n",
      "   <div id=\"ctitle\">\n",
      "    University Website\n",
      "   </div>\n",
      "   <ul class=\"comicNav\">\n",
      "    <li>\n",
      "     <a href=\"/1/\">\n",
      "      |&lt;\n",
      "     </a>\n",
      "    </li>\n",
      "    <li>\n",
      "     <a accesskey=\"p\" href=\"/772/\" rel=\"prev\">\n",
      "      &lt; Prev\n",
      "     </a>\n",
      "    </li>\n",
      "    <li>\n",
      "     <a href=\"//c.xkcd.com/random/comic/\">\n",
      "      Random\n",
      "     </a>\n",
      "    </li>\n",
      "    <li>\n",
      "     <a accesskey=\"n\" href=\"/774/\" rel=\"next\">\n",
      "      Next &gt;\n",
      "     </a>\n",
      "    </li>\n",
      "    <li>\n",
      "     <a href=\"/\">\n",
      "      &gt;|\n",
      "     </a>\n",
      "    </li>\n",
      "   </ul>\n",
      "   <div id=\"comic\">\n",
      "    <img alt=\"University Website\" src=\"//imgs.xkcd.com/comics/university_website.png\" title=\"People go to the website because they can't wait for the next alumni magazine, right? What do you mean, you want a campus map? One of our students made one as a CS class project back in '01!  You can click to zoom and everything!\"/>\n",
      "   </div>\n",
      "   <ul class=\"comicNav\">\n",
      "    <li>\n",
      "     <a href=\"/1/\">\n",
      "      |&lt;\n",
      "     </a>\n",
      "    </li>\n",
      "    <li>\n",
      "     <a accesskey=\"p\" href=\"/772/\" rel=\"prev\">\n",
      "      &lt; Prev\n",
      "     </a>\n",
      "    </li>\n",
      "    <li>\n",
      "     <a href=\"//c.xkcd.com/random/comic/\">\n",
      "      Random\n",
      "     </a>\n",
      "    </li>\n",
      "    <li>\n",
      "     <a accesskey=\"n\" href=\"/774/\" rel=\"next\">\n",
      "      Next &gt;\n",
      "     </a>\n",
      "    </li>\n",
      "    <li>\n",
      "     <a href=\"/\">\n",
      "      &gt;|\n",
      "     </a>\n",
      "    </li>\n",
      "   </ul>\n",
      "   <br/>\n",
      "   Permanent link to this comic: https://xkcd.com/773/\n",
      "   <br/>\n",
      "   Image URL (for hotlinking/embedding): https://imgs.xkcd.com/comics/university_website.png\n",
      "   <div id=\"transcript\" style=\"display: none\">\n",
      "    [[A venn diagram. The left circle is labeled \"things on the front page of a university website\" and contains \"campus photo slideshow,\" \"alumni in the news,\" \"promotions for campus events,\" \"press releases,\" \"statement of the school's philosophy,\" \"letter from the president,\" and \"virtual tour.\" The right circle is labeled \"things people go to the site looking for\" and contains \"list of faculty phone numbers and emails,\" \"campus address,\" \"application forms,\" \"academic calendar,\" \"campus police phone number,\" \"department\n",
      "course lists,\" \"parking information,\" and \"usable campus map.\" The only item in the overlapping section is \"full name of school.\"]]\n",
      "{{Title text: People go to the website because they can't wait for the next alumni magazine, right? What do you mean, you want a campus map? One of our students made one as a CS class project back in '01!  You can click to zoom and everything!}}\n",
      "   </div>\n",
      "  </div>\n",
      "  <div class=\"box\" id=\"bottom\">\n",
      "   <img alt=\"Selected Comics\" height=\"100\" src=\"//imgs.xkcd.com/s/a899e84.jpg\" usemap=\"#comicmap\" width=\"520\"/>\n",
      "   <map id=\"comicmap\" name=\"comicmap\">\n",
      "    <area alt=\"Grownups\" coords=\"0,0,100,100\" href=\"/150/\" shape=\"rect\">\n",
      "    </area>\n",
      "    <area alt=\"Circuit Diagram\" coords=\"104,0,204,100\" href=\"/730/\" shape=\"rect\">\n",
      "    </area>\n",
      "    <area alt=\"Angular Momentum\" coords=\"208,0,308,100\" href=\"/162/\" shape=\"rect\">\n",
      "    </area>\n",
      "    <area alt=\"Self-Description\" coords=\"312,0,412,100\" href=\"/688/\" shape=\"rect\">\n",
      "    </area>\n",
      "    <area alt=\"Alternative Energy Revolution\" coords=\"416,0,520,100\" href=\"/556/\" shape=\"rect\">\n",
      "    </area>\n",
      "   </map>\n",
      "   <div>\n",
      "    <!--\n",
      "Search comic titles and transcripts:\n",
      "<script type=\"text/javascript\" src=\"//www.google.com/jsapi\"></script>\n",
      "<script type=\"text/javascript\">google.load('search', '1');google.setOnLoadCallback(function() {google.search.CustomSearchControl.attachAutoCompletion('012652707207066138651:zudjtuwe28q',document.getElementById('q'),'cse-search-box');});</script>\n",
      "<form action=\"//www.google.com/cse\" id=\"cse-search-box\">\n",
      "<div>\n",
      "<input type=\"hidden\" name=\"cx\" value=\"012652707207066138651:zudjtuwe28q\"/>\n",
      "<input type=\"hidden\" name=\"ie\" value=\"UTF-8\"/>\n",
      "<input type=\"text\" name=\"q\" id=\"q\" size=\"31\"/>\n",
      "<input type=\"submit\" name=\"sa\" value=\"Search\"/>\n",
      "</div>\n",
      "</form>\n",
      "<script type=\"text/javascript\" src=\"//www.google.com/cse/brand?form=cse-search-box&amp;lang=en\"></script>\n",
      "-->\n",
      "    <a href=\"/rss.xml\">\n",
      "     RSS Feed\n",
      "    </a>\n",
      "    -\n",
      "    <a href=\"/atom.xml\">\n",
      "     Atom Feed\n",
      "    </a>\n",
      "   </div>\n",
      "   <br/>\n",
      "   <div id=\"comicLinks\">\n",
      "    Comics I enjoy:\n",
      "    <br/>\n",
      "    <a href=\"http://threewordphrase.com/\">\n",
      "     Three Word Phrase\n",
      "    </a>\n",
      "    ,\n",
      "    <a href=\"http://www.smbc-comics.com/\">\n",
      "     SMBC\n",
      "    </a>\n",
      "    ,\n",
      "    <a href=\"http://www.qwantz.com\">\n",
      "     Dinosaur Comics\n",
      "    </a>\n",
      "    ,\n",
      "    <a href=\"http://oglaf.com/\">\n",
      "     Oglaf\n",
      "    </a>\n",
      "    (nsfw),\n",
      "    <a href=\"http://www.asofterworld.com\">\n",
      "     A Softer World\n",
      "    </a>\n",
      "    ,\n",
      "    <a href=\"http://buttersafe.com/\">\n",
      "     Buttersafe\n",
      "    </a>\n",
      "    ,\n",
      "    <a href=\"http://pbfcomics.com/\">\n",
      "     Perry Bible Fellowship\n",
      "    </a>\n",
      "    ,\n",
      "    <a href=\"http://questionablecontent.net/\">\n",
      "     Questionable Content\n",
      "    </a>\n",
      "    ,\n",
      "    <a href=\"http://www.buttercupfestival.com/\">\n",
      "     Buttercup Festival\n",
      "    </a>\n",
      "    ,\n",
      "    <a href=\"http://www.mspaintadventures.com/?s=6&amp;p=001901\">\n",
      "     Homestuck\n",
      "    </a>\n",
      "    ,\n",
      "    <a href=\"http://www.jspowerhour.com/\">\n",
      "     Junior Scientist Power Hour\n",
      "    </a>\n",
      "   </div>\n",
      "   <br/>\n",
      "   <center>\n",
      "    <div id=\"footnote\" style=\"width:70%\">\n",
      "     xkcd.com is best viewed with Netscape Navigator 4.0 or below on a Pentium 3±1 emulated in Javascript on an Apple IIGS at a screen resolution of 1024x1. Please enable your ad blockers, disable high-heat drying, and remove your device from Airplane Mode and set it to Boat Mode. For security reasons, please leave caps lock on while browsing.\n",
      "    </div>\n",
      "   </center>\n",
      "   <div id=\"licenseText\">\n",
      "    <p>\n",
      "     This work is licensed under a\n",
      "     <a href=\"http://creativecommons.org/licenses/by-nc/2.5/\">\n",
      "      Creative Commons Attribution-NonCommercial 2.5 License\n",
      "     </a>\n",
      "     .\n",
      "    </p>\n",
      "    <p>\n",
      "     This means you're free to copy and share these comics (but not to sell them).\n",
      "     <a href=\"/license.html\" rel=\"license\">\n",
      "      More details\n",
      "     </a>\n",
      "     .\n",
      "    </p>\n",
      "   </div>\n",
      "  </div>\n",
      " </body>\n",
      " <!-- Layout by Ian Clasbey, davean, and chromakode -->\n",
      "</html>\n",
      "\n"
     ]
    }
   ],
   "source": [
    "print(soupe.prettify())"
   ]
  },
  {
   "cell_type": "markdown",
   "metadata": {},
   "source": [
    "### 3. Identifier ce qui nous intéresse dans tout ça"
   ]
  },
  {
   "cell_type": "markdown",
   "metadata": {},
   "source": [
    "#### 3.0 comment pourrait-on logiquement récupérer l'image ?\n",
    "Allons-y simplement : il y a une balise HTML bien connu : **`img`**"
   ]
  },
  {
   "cell_type": "code",
   "execution_count": 38,
   "metadata": {
    "collapsed": false
   },
   "outputs": [],
   "source": [
    "images = soupe.find('img')"
   ]
  },
  {
   "cell_type": "code",
   "execution_count": 39,
   "metadata": {
    "collapsed": false
   },
   "outputs": [
    {
     "data": {
      "text/plain": [
       "<img alt=\"xkcd.com logo\" height=\"83\" src=\"/s/0b7742.png\" width=\"185\"/>"
      ]
     },
     "execution_count": 39,
     "metadata": {},
     "output_type": "execute_result"
    }
   ],
   "source": [
    "images"
   ]
  },
  {
   "cell_type": "markdown",
   "metadata": {},
   "source": [
    "Ah, on n'a que la première image.  \n",
    "Donc astuce :"
   ]
  },
  {
   "cell_type": "code",
   "execution_count": 40,
   "metadata": {
    "collapsed": true
   },
   "outputs": [],
   "source": [
    "images = soupe.find_all('img')"
   ]
  },
  {
   "cell_type": "code",
   "execution_count": 41,
   "metadata": {
    "collapsed": false
   },
   "outputs": [
    {
     "data": {
      "text/plain": [
       "[<img alt=\"xkcd.com logo\" height=\"83\" src=\"/s/0b7742.png\" width=\"185\"/>,\n",
       " <img alt=\"University Website\" src=\"//imgs.xkcd.com/comics/university_website.png\" title=\"People go to the website because they can't wait for the next alumni magazine, right? What do you mean, you want a campus map? One of our students made one as a CS class project back in '01!  You can click to zoom and everything!\"/>,\n",
       " <img alt=\"Selected Comics\" height=\"100\" src=\"//imgs.xkcd.com/s/a899e84.jpg\" usemap=\"#comicmap\" width=\"520\"/>]"
      ]
     },
     "execution_count": 41,
     "metadata": {},
     "output_type": "execute_result"
    }
   ],
   "source": [
    "images"
   ]
  },
  {
   "cell_type": "markdown",
   "metadata": {},
   "source": [
    "On pourrait travailler à partir de ça, mais on va faire mieux, en utilisant nos connaissance acquises il y a un instant."
   ]
  },
  {
   "cell_type": "markdown",
   "metadata": {},
   "source": [
    "#### 3.1 travailler à partir de la structure de la page web"
   ]
  },
  {
   "cell_type": "code",
   "execution_count": 42,
   "metadata": {
    "collapsed": false
   },
   "outputs": [
    {
     "name": "stdout",
     "output_type": "stream",
     "text": [
      "<div id=\"topContainer\">\n",
      "<div id=\"topLeft\">\n",
      "<ul>\n",
      "<li><a href=\"/archive\">Archive</a></li>\n",
      "<li><a href=\"http://what-if.xkcd.com\">What If?</a></li>\n",
      "<li><a href=\"http://blag.xkcd.com\">Blag</a></li>\n",
      "<li><a href=\"http://store.xkcd.com/\">Store</a></li>\n",
      "<li><a href=\"/about\" rel=\"author\">About</a></li>\n",
      "</ul>\n",
      "</div>\n",
      "<div id=\"topRight\">\n",
      "<div id=\"masthead\">\n",
      "<span><a href=\"/\"><img alt=\"xkcd.com logo\" height=\"83\" src=\"/s/0b7742.png\" width=\"185\"/></a></span>\n",
      "<span id=\"slogan\">A webcomic of romance,<br/> sarcasm, math, and language.</span>\n",
      "</div>\n",
      "<div id=\"news\">\n",
      "There are <a href=\"https://store.xkcd.com/collections/featured\">four new shirts</a> in <a href=\"https://store.xkcd.com/\">the xkcd store</a>,<br/>\n",
      "along with <a href=\"https://store.xkcd.com/collections/posters\">posters</a> and <a href=\"https://store.xkcd.com/collections/everything\">lots of other stuff</a>!\n",
      "\n",
      "</div>\n",
      "</div>\n",
      "<div class=\"bg box\" id=\"bgLeft\"></div>\n",
      "<div class=\"bg box\" id=\"bgRight\"></div>\n",
      "</div>\n"
     ]
    }
   ],
   "source": [
    "paragraphes = soupe.find('div')\n",
    "print(paragraphes)"
   ]
  },
  {
   "cell_type": "markdown",
   "metadata": {},
   "source": [
    "#### 3.2 creuser l'information\n",
    "On peut utiliser non seulement les balises mais aussi plus que ça :"
   ]
  },
  {
   "cell_type": "code",
   "execution_count": 59,
   "metadata": {
    "collapsed": false
   },
   "outputs": [
    {
     "name": "stdout",
     "output_type": "stream",
     "text": [
      "<div id=\"comic\">\n",
      "<img alt=\"University Website\" src=\"//imgs.xkcd.com/comics/university_website.png\" title=\"People go to the website because they can't wait for the next alumni magazine, right? What do you mean, you want a campus map? One of our students made one as a CS class project back in '01!  You can click to zoom and everything!\"/>\n",
      "</div>\n"
     ]
    }
   ],
   "source": [
    "comic = soupe.find('div', id='comic')\n",
    "print(comic)"
   ]
  },
  {
   "cell_type": "markdown",
   "metadata": {},
   "source": [
    "Il faut encore aller un cran plus loin"
   ]
  },
  {
   "cell_type": "code",
   "execution_count": 44,
   "metadata": {
    "collapsed": false
   },
   "outputs": [],
   "source": [
    "image = comic.find('img')"
   ]
  },
  {
   "cell_type": "code",
   "execution_count": 45,
   "metadata": {
    "collapsed": false
   },
   "outputs": [
    {
     "data": {
      "text/plain": [
       "<img alt=\"University Website\" src=\"//imgs.xkcd.com/comics/university_website.png\" title=\"People go to the website because they can't wait for the next alumni magazine, right? What do you mean, you want a campus map? One of our students made one as a CS class project back in '01!  You can click to zoom and everything!\"/>"
      ]
     },
     "execution_count": 45,
     "metadata": {},
     "output_type": "execute_result"
    }
   ],
   "source": [
    "image"
   ]
  },
  {
   "cell_type": "code",
   "execution_count": 46,
   "metadata": {
    "collapsed": false
   },
   "outputs": [
    {
     "name": "stdout",
     "output_type": "stream",
     "text": [
      "//imgs.xkcd.com/comics/university_website.png\n"
     ]
    }
   ],
   "source": [
    "print(image.get('src'))"
   ]
  },
  {
   "cell_type": "markdown",
   "metadata": {},
   "source": [
    "#### 3.3 préparer la récupération du fichier"
   ]
  },
  {
   "cell_type": "markdown",
   "metadata": {},
   "source": [
    "Pour pouvoir récupérer l'information qui nous intéresse, ici un fichier image, comme tout à l'heure, il faut pouvoir la localiser sur internet.  \n",
    "On a bien quelque chose qui ressemble a un URL, mais pas encore tout à fait.  \n",
    "Comme les URL sont des chaînes de caractère, on a depuis l'**atelier OpenGeek \\#03 \"textmining avec python\"** tous les outils en main pour s'en sortir"
   ]
  },
  {
   "cell_type": "code",
   "execution_count": 47,
   "metadata": {
    "collapsed": false
   },
   "outputs": [],
   "source": [
    "adresse_pre = image.get('src')"
   ]
  },
  {
   "cell_type": "code",
   "execution_count": 48,
   "metadata": {
    "collapsed": false
   },
   "outputs": [
    {
     "name": "stdout",
     "output_type": "stream",
     "text": [
      "https://imgs.xkcd.com/comics/university_website.png\n"
     ]
    }
   ],
   "source": [
    "adresse = 'https://' + adresse_pre[2:]\n",
    "print(adresse)"
   ]
  },
  {
   "cell_type": "code",
   "execution_count": 49,
   "metadata": {
    "collapsed": false
   },
   "outputs": [],
   "source": [
    "nom_image = adresse.split('/')[-1]"
   ]
  },
  {
   "cell_type": "markdown",
   "metadata": {},
   "source": [
    "Maintenant il va s'agir d'enregistrer cette image  \n",
    "Nous allons pouvoir mettre à profit les enseignements de l'**atelier OpenGeek \\#01 \"Ordinateur, programme, fichier, terminal... Kesako ?\"** avec le module `os` pour la gestion du systeme de fichier."
   ]
  },
  {
   "cell_type": "code",
   "execution_count": 60,
   "metadata": {
    "collapsed": true
   },
   "outputs": [],
   "source": [
    "import os"
   ]
  },
  {
   "cell_type": "code",
   "execution_count": 61,
   "metadata": {
    "collapsed": false
   },
   "outputs": [
    {
     "name": "stdout",
     "output_type": "stream",
     "text": [
      "/Users/og/Documents/opengeek/webmining\n"
     ]
    }
   ],
   "source": [
    "print(os.getcwd())"
   ]
  },
  {
   "cell_type": "code",
   "execution_count": 62,
   "metadata": {
    "collapsed": false
   },
   "outputs": [
    {
     "name": "stdout",
     "output_type": "stream",
     "text": [
      "/Users/og/Documents/xkcd\n"
     ]
    }
   ],
   "source": [
    "path = os.path.join( '/Users/og/Documents', 'xkcd')\n",
    "print(path)"
   ]
  },
  {
   "cell_type": "code",
   "execution_count": 63,
   "metadata": {
    "collapsed": false
   },
   "outputs": [],
   "source": [
    "if not os.path.exists(path):\n",
    "    os.mkdir(path)"
   ]
  },
  {
   "cell_type": "code",
   "execution_count": 64,
   "metadata": {
    "collapsed": false
   },
   "outputs": [
    {
     "name": "stdout",
     "output_type": "stream",
     "text": [
      "/Users/og/Documents/xkcd/0773-university_website.png\n"
     ]
    }
   ],
   "source": [
    "fichier = os.path.join(path, '773'.zfill(4) + '-' + nom_image)\n",
    "print(fichier)"
   ]
  },
  {
   "cell_type": "code",
   "execution_count": 65,
   "metadata": {
    "collapsed": false
   },
   "outputs": [
    {
     "data": {
      "text/plain": [
       "'/Users/og/Documents/xkcd/0773-university_website.png'"
      ]
     },
     "execution_count": 65,
     "metadata": {},
     "output_type": "execute_result"
    }
   ],
   "source": [
    "fichier"
   ]
  },
  {
   "cell_type": "code",
   "execution_count": 66,
   "metadata": {
    "collapsed": true
   },
   "outputs": [],
   "source": [
    "import urllib.request"
   ]
  },
  {
   "cell_type": "code",
   "execution_count": 67,
   "metadata": {
    "collapsed": false
   },
   "outputs": [
    {
     "data": {
      "text/plain": [
       "('/Users/og/Documents/xkcd/0773-university_website.png',\n",
       " <http.client.HTTPMessage at 0x109cd1470>)"
      ]
     },
     "execution_count": 67,
     "metadata": {},
     "output_type": "execute_result"
    }
   ],
   "source": [
    "urllib.request.urlretrieve(adresse, fichier)"
   ]
  },
  {
   "cell_type": "markdown",
   "metadata": {},
   "source": [
    "Vérifiez que vous avez bien sauvegardé l'image là où vous le souhaitiez."
   ]
  },
  {
   "cell_type": "markdown",
   "metadata": {
    "collapsed": false
   },
   "source": [
    "### 4. Nagivation entre différentes pages"
   ]
  },
  {
   "cell_type": "markdown",
   "metadata": {},
   "source": [
    "#### 4.0 Essayer de récupérer une information relative à l'URL de la page du comics suivant"
   ]
  },
  {
   "cell_type": "markdown",
   "metadata": {
    "collapsed": false
   },
   "source": [
    "### 5. Récupération de plusieurs pages"
   ]
  },
  {
   "cell_type": "markdown",
   "metadata": {
    "collapsed": true
   },
   "source": [
    "#### 5.0 Utiliser une boucle pour automatiser tout ça"
   ]
  }
 ],
 "metadata": {
  "anaconda-cloud": {},
  "kernelspec": {
   "display_name": "Python [default]",
   "language": "python",
   "name": "python3"
  },
  "language_info": {
   "codemirror_mode": {
    "name": "ipython",
    "version": 3
   },
   "file_extension": ".py",
   "mimetype": "text/x-python",
   "name": "python",
   "nbconvert_exporter": "python",
   "pygments_lexer": "ipython3",
   "version": "3.5.2"
  }
 },
 "nbformat": 4,
 "nbformat_minor": 1
}
