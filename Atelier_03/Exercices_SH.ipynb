{
 "cells": [
  {
   "cell_type": "code",
   "execution_count": null,
   "metadata": {
    "collapsed": true
   },
   "outputs": [],
   "source": [
    "#Exercice 0\n",
    "\n",
    "* Exercice 0: Le traditionnel hello world\n",
    "\n",
    "* Exercice 1: Afficher les lettres de l'alphabet\n",
    "\n",
    "* Exerice 2: Afficher les lettres de l'alphabet à l'envers\n",
    "\n",
    "* Exercice 3: Afficher les 4 dernières lettres de l'alphabet dans l'ordre inversé\n",
    "\n",
    "* Exercice 4: "
   ]
  }
 ],
 "metadata": {
  "kernelspec": {
   "display_name": "Python 3",
   "language": "python",
   "name": "python3"
  },
  "language_info": {
   "codemirror_mode": {
    "name": "ipython",
    "version": 3
   },
   "file_extension": ".py",
   "mimetype": "text/x-python",
   "name": "python",
   "nbconvert_exporter": "python",
   "pygments_lexer": "ipython3",
   "version": "3.5.2"
  }
 },
 "nbformat": 4,
 "nbformat_minor": 0
}
