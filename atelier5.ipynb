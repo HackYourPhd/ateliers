{
 "metadata": {
  "name": "",
  "signature": "sha256:fe98b3eabd93c26ceeeac610451bcaada887ee475e987d172c511157654c2a5c"
 },
 "nbformat": 3,
 "nbformat_minor": 0,
 "worksheets": [
  {
   "cells": [
    {
     "cell_type": "markdown",
     "metadata": {},
     "source": [
      "#Introduction\n",
      "\n",
      "    1. Rappel de l'atelier 2\n",
      "\n",
      "Voir https://github.com/HackYourPhd/ateliers-open-geek/blob/master/Atelier%232_Notes.md\n",
      "\n",
      "    2. Diff\u00e9rence entre language interpr\u00e9t\u00e9 et compil\u00e9\n",
      "\n",
      "Voir http://www.journaldunet.com/developpeur/tutoriel/theo/060601-theo-difference-langages-compiles-interpretes.shtml\n",
      "\n",
      "    3. La gestion de la m\u00e9moire en Python\n",
      "Fa\u00e7on dont fonctionne la m\u00e9moire en python, pas comme les autres langages : d\u00e9j\u00e0, Python s'occupe de la m\u00e9moire tout seul.\n",
      "\n",
      "Ensuite, la m\u00e9moire est s\u00e9par\u00e9e en deux :\n",
      "    - Espace de nom\n",
      "    - M\u00e9moire Python\n",
      "\n",
      "Quand on fait `a=5`, cela cr\u00e9e le nom `a` dans l'espace de nom et on stoque la valeur 5 en m\u00e9moire.\n",
      "\n",
      "Si l'on fait `b=a`, cela cr\u00e9e un nouveau nom `b` dans l'espace de nom mais la valeur 5 reste la m\u00eame.\n",
      "\n",
      "Quand on definit une **variable**, on assigne un nom et une valeur:\n",
      "\n",
      "    variable = nom associ\u00e9 \u00e0 une valeur\n",
      "\n",
      "Pour plus de d\u00e9tail: http://fr.wikibooks.org/wiki/Programmation_Python/Variable\n",
      "\n",
      "#Cr\u00e9ation d'un programme Python\n",
      "\n",
      "Cr\u00e9er un fichier Python: hello.py\n",
      "\u00c9crire dedans:\n",
      "\n",
      "```\n",
      "print \"hello world!\"\n",
      "```\n",
      "\n",
      "Pour le lancer faire dans un shell (ligne de commande):\n",
      "\n",
      "    python hello.py\n",
      "    \n",
      "Le format d'un programme Python est g\u00e9n\u00e9ralement:\n",
      "\n",
      "    # -*- coding: utf-8 -*- #\n",
      "    \"\"\"\n",
      "    Description du programme: blablabla\n",
      "    Auteur: John Doe\n",
      "    Date: 21/01/2015\n",
      "    \"\"\"\n",
      "    print \"Hello!\"\n",
      "    \n",
      "On peut aussi y d\u00e9finir des fonctions comme par exemple:"
     ]
    },
    {
     "cell_type": "code",
     "collapsed": false,
     "input": [
      "def CalcAge(annee_naissance):\n",
      "    return 2015-annee_naissance"
     ],
     "language": "python",
     "metadata": {},
     "outputs": [],
     "prompt_number": 1
    },
    {
     "cell_type": "markdown",
     "metadata": {},
     "source": [
      "**Attention:** il faut 4 espaces (\" \") \u00e0 la deuxi\u00e8me ligne et *pas* une tabulation (sauf si on a un bon \u00e9diteur de texte).\n",
      "\n",
      "\n",
      "Remarquez que nous avons ajout\u00e9 en d\u00e9but de script:\n",
      "\n",
      "`# -*- coding: utf-8 -*-`\n",
      "\n",
      "Cela indique au programme qui interpr\u00eate le code quel format de caract\u00e8re on a utilis\u00e9 et ainsi \u00e9viter les soucis avec les encodage de texte.\n",
      "\n",
      "Voir la pep8 : guide des bonnes pratiques pour bien \u00e9crire le code.\n",
      "\n",
      "https://www.python.org/dev/peps/pep-0008/\n",
      "\n",
      "L'id\u00e9al est d'utiliser un bon \u00e9diteur de code. On conseille par exemple d'utiliser [Spyder](https://code.google.com/p/spyderlib/) qui permet d'avoir \u00e0 la fois un interpr\u00e9teur et une interface d'\u00e9dition de script.\n",
      "\n",
      "Configuration de spyder pour ex\u00e9cuter le programme : aller dans l'onglet 'ex\u00e9cution' puis 'configurer l'ex\u00e9cution' et choisir d'ouvrir dans une nouvelle console Python.\n",
      "\n",
      "Chaque fois, cela ouvrira une nouvelle console propre et ex\u00e9cute le programme dedans. Il faut proc\u00e9der ainsi quand on veut v\u00e9rifier qu'un programme marche (sinon, source de probl\u00e8mes avec la m\u00e9moire notamment).\n",
      "\n",
      "Testons notre fonction:"
     ]
    },
    {
     "cell_type": "code",
     "collapsed": false,
     "input": [
      "def CalcAge(annee_naissance):\n",
      "    return 2015-annee_naissance\n",
      "print \"Vous avez\", CalcAge(1977), \"ans.\""
     ],
     "language": "python",
     "metadata": {},
     "outputs": [
      {
       "output_type": "stream",
       "stream": "stdout",
       "text": [
        " Vous avez 38 ans.\n"
       ]
      }
     ],
     "prompt_number": 3
    },
    {
     "cell_type": "code",
     "collapsed": false,
     "input": [
      "print \"Vous avez\", CalcAge(20055), \"ans.\""
     ],
     "language": "python",
     "metadata": {},
     "outputs": [
      {
       "output_type": "stream",
       "stream": "stdout",
       "text": [
        "Vous avez -18040 ans.\n"
       ]
      }
     ],
     "prompt_number": 4
    },
    {
     "cell_type": "markdown",
     "metadata": {},
     "source": [
      "# Les tests\n",
      "Le r\u00e9sultat pr\u00e9c\u00e9dent est d\u00e9bile => il faudrait v\u00e9rifier les entr\u00e9es.\n",
      "Le test est la plus simple des structures de contr\u00f4le\n",
      "\n",
      "```python\n",
      "if annee_naissance > 2015:\n",
      "    print \"tu bluffes\"\n",
      "else:\n",
      "    return 2015-annee_naissance\n",
      "```"
     ]
    },
    {
     "cell_type": "markdown",
     "metadata": {},
     "source": [
      "On voit \u00e9merger une caracteristique de Pyhton : on delimite les blocs d'instruction par l'indentation (les 4 caract\u00e8res espace).\n",
      "\n",
      "Cela saute aux yeuw, mais certains d\u00e9testent \u00e7a.\n",
      "\n",
      "Toute ligne qui se termine par un `:` introduit un bloc.\n",
      "La ligne avec les `:` s'appelle une ent\u00eate de bloc, et en dessous avec l'indentation plus grande, c'est le `corps du bloc`\n",
      "\n",
      "Dans le cas du test ci-dessus: si la condition est vraie, on execute le premier bloc, si elle est fausse, on ex\u00e9cute second bloc.\n",
      "\n",
      "Notez qu'une bonne pratique est de s\u00e9parer les entrees sorties des traitements. Ici, ce n'est pas tout a fait \u00e7a car il y a une sortie \"tu bluffes\""
     ]
    },
    {
     "cell_type": "code",
     "collapsed": false,
     "input": [
      "def CalcAge(annee_naissance):\n",
      "    if annee_naissance > 2015:\n",
      "        print \"tu bluffes\"\n",
      "    else:\n",
      "        return 2015-annee_naissance\n",
      "    \n",
      "mon_annee = 2048\n",
      "age = CalcAge(mon_annee)\n",
      "\n",
      "print \"Vous avez\", age, \"ans.\""
     ],
     "language": "python",
     "metadata": {},
     "outputs": [
      {
       "output_type": "stream",
       "stream": "stdout",
       "text": [
        "tu bluffes\n",
        "Vous avez None ans.\n"
       ]
      }
     ],
     "prompt_number": 7
    },
    {
     "cell_type": "markdown",
     "metadata": {},
     "source": [
      "C'est quoi ce `None` ?  \n",
      "\n",
      "C'est un truc qui dit qu'il n'y a pas de valeur. En Python une fonction renvoit toujours une valeur.\n",
      "\n",
      "Quand il y a une erreur, il y a une erreur, on va voir comment en d\u00e9clancher une sans rentrer dans les d\u00e9tails."
     ]
    },
    {
     "cell_type": "code",
     "collapsed": false,
     "input": [
      "CalcAge(\"Test\")"
     ],
     "language": "python",
     "metadata": {},
     "outputs": [
      {
       "ename": "TypeError",
       "evalue": "unsupported operand type(s) for -: 'int' and 'str'",
       "output_type": "pyerr",
       "traceback": [
        "\u001b[0;31m---------------------------------------------------------------------------\u001b[0m\n\u001b[0;31mTypeError\u001b[0m                                 Traceback (most recent call last)",
        "\u001b[0;32m<ipython-input-5-609e626bb253>\u001b[0m in \u001b[0;36m<module>\u001b[0;34m()\u001b[0m\n\u001b[0;32m----> 1\u001b[0;31m \u001b[0mCalcAge\u001b[0m\u001b[0;34m(\u001b[0m\u001b[0;34m\"Test\"\u001b[0m\u001b[0;34m)\u001b[0m\u001b[0;34m\u001b[0m\u001b[0m\n\u001b[0m",
        "\u001b[0;32m<ipython-input-3-4eb31cc7b070>\u001b[0m in \u001b[0;36mCalcAge\u001b[0;34m(annee_naissance)\u001b[0m\n\u001b[1;32m      1\u001b[0m \u001b[0;32mdef\u001b[0m \u001b[0mCalcAge\u001b[0m\u001b[0;34m(\u001b[0m\u001b[0mannee_naissance\u001b[0m\u001b[0;34m)\u001b[0m\u001b[0;34m:\u001b[0m\u001b[0;34m\u001b[0m\u001b[0m\n\u001b[0;32m----> 2\u001b[0;31m     \u001b[0;32mreturn\u001b[0m \u001b[0;36m2015\u001b[0m\u001b[0;34m-\u001b[0m\u001b[0mannee_naissance\u001b[0m\u001b[0;34m\u001b[0m\u001b[0m\n\u001b[0m\u001b[1;32m      3\u001b[0m \u001b[0;32mprint\u001b[0m \u001b[0;34m\"Vous avez\"\u001b[0m\u001b[0;34m,\u001b[0m \u001b[0mCalcAge\u001b[0m\u001b[0;34m(\u001b[0m\u001b[0;36m1977\u001b[0m\u001b[0;34m)\u001b[0m\u001b[0;34m,\u001b[0m \u001b[0;34m\"ans.\"\u001b[0m\u001b[0;34m\u001b[0m\u001b[0m\n",
        "\u001b[0;31mTypeError\u001b[0m: unsupported operand type(s) for -: 'int' and 'str'"
       ]
      }
     ],
     "prompt_number": 5
    },
    {
     "cell_type": "markdown",
     "metadata": {},
     "source": [
      "TypeError: c'est une *exception* indiquant que nous avons entr\u00e9 une variable de type incorrect. La fonction veut un nombre et on lui a donn\u00e9 une cha\u00eene de caract\u00e8re.\n",
      "\n",
      "ValueError, c'est une autre *exception*. C'est cette fois un type d'exception, qui dit que l'erreur est une valeur problematique\n",
      "\n",
      "Remarquez la pile d'execution au niveau des erreurs: cela montre la chaine d'execution jusqu'\u00e0 l'errur: ici, c'est une fonction (CalcAge) qui appelle une autre fonction (la soustraction) qui produit l'erreur.\n",
      "\n",
      "Il est possible de cr\u00e9er c'est propre **exceptions**:"
     ]
    },
    {
     "cell_type": "code",
     "collapsed": false,
     "input": [
      "def CalcAge(annee_naissance):\n",
      "    if annee_naissance > 2015:\n",
      "        msg=\"Ann\u00e9e de naissance invalide : {0}\".format(annee_naissance)\n",
      "        raise ValueError(msg)\n",
      "    else:\n",
      "        return 2015-annee_naissance\n",
      "    return None\n",
      "    \n",
      "mon_annee = 2048\n",
      "#l\u00e0 c'est le traitement !\n",
      "age = CalcAge(mon_annee)\n",
      "\n",
      "print \"Vous avez\", age, \"ans.\""
     ],
     "language": "python",
     "metadata": {},
     "outputs": [
      {
       "ename": "ValueError",
       "evalue": "Ann\u00e9e de naissance invalide : 2048",
       "output_type": "pyerr",
       "traceback": [
        "\u001b[0;31m---------------------------------------------------------------------------\u001b[0m\n\u001b[0;31mValueError\u001b[0m                                Traceback (most recent call last)",
        "\u001b[0;32m<ipython-input-9-0bacac4e734e>\u001b[0m in \u001b[0;36m<module>\u001b[0;34m()\u001b[0m\n\u001b[1;32m      9\u001b[0m \u001b[0mmon_annee\u001b[0m \u001b[0;34m=\u001b[0m \u001b[0;36m2048\u001b[0m\u001b[0;34m\u001b[0m\u001b[0m\n\u001b[1;32m     10\u001b[0m \u001b[0;31m#l\u00e0 c'est le traitement !\u001b[0m\u001b[0;34m\u001b[0m\u001b[0;34m\u001b[0m\u001b[0m\n\u001b[0;32m---> 11\u001b[0;31m \u001b[0mage\u001b[0m \u001b[0;34m=\u001b[0m \u001b[0mCalcAge\u001b[0m\u001b[0;34m(\u001b[0m\u001b[0mmon_annee\u001b[0m\u001b[0;34m)\u001b[0m\u001b[0;34m\u001b[0m\u001b[0m\n\u001b[0m\u001b[1;32m     12\u001b[0m \u001b[0;34m\u001b[0m\u001b[0m\n\u001b[1;32m     13\u001b[0m \u001b[0;32mprint\u001b[0m \u001b[0;34m\"Vous avez\"\u001b[0m\u001b[0;34m,\u001b[0m \u001b[0mage\u001b[0m\u001b[0;34m,\u001b[0m \u001b[0;34m\"ans.\"\u001b[0m\u001b[0;34m\u001b[0m\u001b[0m\n",
        "\u001b[0;32m<ipython-input-9-0bacac4e734e>\u001b[0m in \u001b[0;36mCalcAge\u001b[0;34m(annee_naissance)\u001b[0m\n\u001b[1;32m      2\u001b[0m     \u001b[0;32mif\u001b[0m \u001b[0mannee_naissance\u001b[0m \u001b[0;34m>\u001b[0m \u001b[0;36m2015\u001b[0m\u001b[0;34m:\u001b[0m\u001b[0;34m\u001b[0m\u001b[0m\n\u001b[1;32m      3\u001b[0m         \u001b[0mmsg\u001b[0m\u001b[0;34m=\u001b[0m\u001b[0;34m\"Ann\u00e9e de naissance invalide : {0}\"\u001b[0m\u001b[0;34m.\u001b[0m\u001b[0mformat\u001b[0m\u001b[0;34m(\u001b[0m\u001b[0mannee_naissance\u001b[0m\u001b[0;34m)\u001b[0m\u001b[0;34m\u001b[0m\u001b[0m\n\u001b[0;32m----> 4\u001b[0;31m         \u001b[0;32mraise\u001b[0m \u001b[0mValueError\u001b[0m\u001b[0;34m(\u001b[0m\u001b[0mmsg\u001b[0m\u001b[0;34m)\u001b[0m\u001b[0;34m\u001b[0m\u001b[0m\n\u001b[0m\u001b[1;32m      5\u001b[0m     \u001b[0;32melse\u001b[0m\u001b[0;34m:\u001b[0m\u001b[0;34m\u001b[0m\u001b[0m\n\u001b[1;32m      6\u001b[0m         \u001b[0;32mreturn\u001b[0m \u001b[0;36m2015\u001b[0m\u001b[0;34m-\u001b[0m\u001b[0mannee_naissance\u001b[0m\u001b[0;34m\u001b[0m\u001b[0m\n",
        "\u001b[0;31mValueError\u001b[0m: Ann\u00e9e de naissance invalide : 2048"
       ]
      }
     ],
     "prompt_number": 9
    },
    {
     "cell_type": "markdown",
     "metadata": {},
     "source": [
      "On peut aussi interagir avec l'utilisateur avec la fonction `raw_input`:"
     ]
    },
    {
     "cell_type": "code",
     "collapsed": false,
     "input": [
      "mon_annee = raw_input(\"Votre ann\u00e9e de naissance ?\")\n",
      "age = CalcAge(mon_annee)\n",
      "print \"Vous avez\", age, \"ans.\""
     ],
     "language": "python",
     "metadata": {},
     "outputs": [
      {
       "ename": "KeyboardInterrupt",
       "evalue": "",
       "output_type": "pyerr",
       "traceback": [
        "\u001b[0;31m---------------------------------------------------------------------------\u001b[0m\n\u001b[0;31mKeyboardInterrupt\u001b[0m                         Traceback (most recent call last)",
        "\u001b[0;32m<ipython-input-6-19449f339ef6>\u001b[0m in \u001b[0;36m<module>\u001b[0;34m()\u001b[0m\n\u001b[0;32m----> 1\u001b[0;31m \u001b[0mmon_annee\u001b[0m \u001b[0;34m=\u001b[0m \u001b[0mraw_input\u001b[0m\u001b[0;34m(\u001b[0m\u001b[0;34m\"Votre ann\u00e9e de naissance ?\"\u001b[0m\u001b[0;34m)\u001b[0m\u001b[0;34m\u001b[0m\u001b[0m\n\u001b[0m\u001b[1;32m      2\u001b[0m \u001b[0mage\u001b[0m \u001b[0;34m=\u001b[0m \u001b[0mCalcAge\u001b[0m\u001b[0;34m(\u001b[0m\u001b[0mmon_annee\u001b[0m\u001b[0;34m)\u001b[0m\u001b[0;34m\u001b[0m\u001b[0m\n\u001b[1;32m      3\u001b[0m \u001b[0;32mprint\u001b[0m \u001b[0;34m\"Vous avez\"\u001b[0m\u001b[0;34m,\u001b[0m \u001b[0mage\u001b[0m\u001b[0;34m,\u001b[0m \u001b[0;34m\"ans.\"\u001b[0m\u001b[0;34m\u001b[0m\u001b[0m\n",
        "\u001b[0;32m/Users/kwisatz/anaconda/lib/python2.7/site-packages/IPython/kernel/zmq/ipkernel.pyc\u001b[0m in \u001b[0;36m<lambda>\u001b[0;34m(prompt)\u001b[0m\n\u001b[1;32m    361\u001b[0m         \u001b[0;31m# raw_input in the user namespace.\u001b[0m\u001b[0;34m\u001b[0m\u001b[0;34m\u001b[0m\u001b[0m\n\u001b[1;32m    362\u001b[0m         \u001b[0;32mif\u001b[0m \u001b[0mcontent\u001b[0m\u001b[0;34m.\u001b[0m\u001b[0mget\u001b[0m\u001b[0;34m(\u001b[0m\u001b[0;34m'allow_stdin'\u001b[0m\u001b[0;34m,\u001b[0m \u001b[0mFalse\u001b[0m\u001b[0;34m)\u001b[0m\u001b[0;34m:\u001b[0m\u001b[0;34m\u001b[0m\u001b[0m\n\u001b[0;32m--> 363\u001b[0;31m             \u001b[0mraw_input\u001b[0m \u001b[0;34m=\u001b[0m \u001b[0;32mlambda\u001b[0m \u001b[0mprompt\u001b[0m\u001b[0;34m=\u001b[0m\u001b[0;34m''\u001b[0m\u001b[0;34m:\u001b[0m \u001b[0mself\u001b[0m\u001b[0;34m.\u001b[0m\u001b[0m_raw_input\u001b[0m\u001b[0;34m(\u001b[0m\u001b[0mprompt\u001b[0m\u001b[0;34m,\u001b[0m \u001b[0mident\u001b[0m\u001b[0;34m,\u001b[0m \u001b[0mparent\u001b[0m\u001b[0;34m)\u001b[0m\u001b[0;34m\u001b[0m\u001b[0m\n\u001b[0m\u001b[1;32m    364\u001b[0m             \u001b[0minput\u001b[0m \u001b[0;34m=\u001b[0m \u001b[0;32mlambda\u001b[0m \u001b[0mprompt\u001b[0m\u001b[0;34m=\u001b[0m\u001b[0;34m''\u001b[0m\u001b[0;34m:\u001b[0m \u001b[0meval\u001b[0m\u001b[0;34m(\u001b[0m\u001b[0mraw_input\u001b[0m\u001b[0;34m(\u001b[0m\u001b[0mprompt\u001b[0m\u001b[0;34m)\u001b[0m\u001b[0;34m)\u001b[0m\u001b[0;34m\u001b[0m\u001b[0m\n\u001b[1;32m    365\u001b[0m         \u001b[0;32melse\u001b[0m\u001b[0;34m:\u001b[0m\u001b[0;34m\u001b[0m\u001b[0m\n",
        "\u001b[0;32m/Users/kwisatz/anaconda/lib/python2.7/site-packages/IPython/kernel/zmq/ipkernel.pyc\u001b[0m in \u001b[0;36m_raw_input\u001b[0;34m(self, prompt, ident, parent)\u001b[0m\n\u001b[1;32m    763\u001b[0m             \u001b[0;32mexcept\u001b[0m \u001b[0mKeyboardInterrupt\u001b[0m\u001b[0;34m:\u001b[0m\u001b[0;34m\u001b[0m\u001b[0m\n\u001b[1;32m    764\u001b[0m                 \u001b[0;31m# re-raise KeyboardInterrupt, to truncate traceback\u001b[0m\u001b[0;34m\u001b[0m\u001b[0;34m\u001b[0m\u001b[0m\n\u001b[0;32m--> 765\u001b[0;31m                 \u001b[0;32mraise\u001b[0m \u001b[0mKeyboardInterrupt\u001b[0m\u001b[0;34m\u001b[0m\u001b[0m\n\u001b[0m\u001b[1;32m    766\u001b[0m             \u001b[0;32melse\u001b[0m\u001b[0;34m:\u001b[0m\u001b[0;34m\u001b[0m\u001b[0m\n\u001b[1;32m    767\u001b[0m                 \u001b[0;32mbreak\u001b[0m\u001b[0;34m\u001b[0m\u001b[0m\n",
        "\u001b[0;31mKeyboardInterrupt\u001b[0m: "
       ]
      }
     ],
     "prompt_number": 6
    },
    {
     "cell_type": "markdown",
     "metadata": {},
     "source": [
      "Le probl\u00e8me est que `raw_input` renvoie une chaine de caractere, pas un nombre!\n",
      "\n",
      "En Pyhton 2, quand on fait des comparaisons entre des pommes et des poires, m\u00eame si cela n'a aucun sens, cela va tout de m\u00eame decreter qu'un est plus grand que l'autre par principe.\n",
      "\n",
      "Ici, quand on compare, pas de probl\u00e8me. Mais par contre, on sort une reponse qui est toujours la m\u00eame, mais pas d\u00e9finie.\n",
      "\n",
      "Attention, ne jamais utilisez `input` car on n'est jamais s\u00f9r de ce qu'on r\u00e9cup\u00e8re, et surtout c'est une potentielle faille de s\u00e9curit\u00e9 si quelqu'un rentre du code Python!\n",
      "\n",
      "Du coup, on utilise: `raw_input` et m\u00eame `int(raw_input(\"\"))` pour forcer le renvoie d'un nombre entier. C'est non seulement plus s\u00f9r mais si on n'a pas rentr\u00e9 un truc valide, alors on voit une erreur directement."
     ]
    },
    {
     "cell_type": "markdown",
     "metadata": {},
     "source": [
      "# Les boucles"
     ]
    },
    {
     "cell_type": "markdown",
     "metadata": {},
     "source": [
      "Si l'on veut g\u00e9n\u00e9rer les tables de multiplication automatiquement, il nous faut faire des boucles:"
     ]
    },
    {
     "cell_type": "code",
     "collapsed": false,
     "input": [
      "table = 5\n",
      "\n",
      "for i in range(1,10):\n",
      "    print \"{0} x {1} = {2}\".format(table, i, table * i)"
     ],
     "language": "python",
     "metadata": {},
     "outputs": [
      {
       "output_type": "stream",
       "stream": "stdout",
       "text": [
        "5 x 1 = 5\n",
        "5 x 2 = 10\n",
        "5 x 3 = 15\n",
        "5 x 4 = 20\n",
        "5 x 5 = 25\n",
        "5 x 6 = 30\n",
        "5 x 7 = 35\n",
        "5 x 8 = 40\n",
        "5 x 9 = 45\n"
       ]
      }
     ],
     "prompt_number": 18
    },
    {
     "cell_type": "markdown",
     "metadata": {},
     "source": [
      "Mais comme on voudrait s\u00e9parer les entr\u00e9es, les dorties et les traitements, on va cr\u00e9er une liste = notre premi\u00e9re structure de donn\u00e9e."
     ]
    },
    {
     "cell_type": "code",
     "collapsed": false,
     "input": [
      "table = 5\n",
      "l=[]\n",
      "for i in range(1,10):\n",
      "    l.append(table * i)\n",
      "    \n",
      "print l\n",
      "\n",
      "for i, r in enumerate(l):\n",
      "    print \"{0} x {1} = {2}\".format(table, i, r)\n",
      "    "
     ],
     "language": "python",
     "metadata": {},
     "outputs": [
      {
       "output_type": "stream",
       "stream": "stdout",
       "text": [
        "[5, 10, 15, 20, 25, 30, 35, 40, 45]\n",
        "5 x 0 = 5\n",
        "5 x 1 = 10\n",
        "5 x 2 = 15\n",
        "5 x 3 = 20\n",
        "5 x 4 = 25\n",
        "5 x 5 = 30\n",
        "5 x 6 = 35\n",
        "5 x 7 = 40\n",
        "5 x 8 = 45\n"
       ]
      }
     ],
     "prompt_number": 25
    },
    {
     "cell_type": "markdown",
     "metadata": {},
     "source": [
      "Ah... cela s'arrete a 8! Du coup, on proprifie tout \u00e7a!"
     ]
    },
    {
     "cell_type": "code",
     "collapsed": false,
     "input": [
      "table = 5\n",
      "l=[]\n",
      "for i in range(1,11):\n",
      "    l.append(table * i)\n",
      "    \n",
      "print l\n",
      "\n",
      "for i, r in enumerate(l,1):\n",
      "    print \"{0} x {1} = {2}\".format(table, i, r)"
     ],
     "language": "python",
     "metadata": {},
     "outputs": [
      {
       "output_type": "stream",
       "stream": "stdout",
       "text": [
        "[5, 10, 15, 20, 25, 30, 35, 40, 45, 50]\n",
        "5 x 1 = 5\n",
        "5 x 2 = 10\n",
        "5 x 3 = 15\n",
        "5 x 4 = 20\n",
        "5 x 5 = 25\n",
        "5 x 6 = 30\n",
        "5 x 7 = 35\n",
        "5 x 8 = 40\n",
        "5 x 9 = 45\n",
        "5 x 10 = 50\n"
       ]
      }
     ],
     "prompt_number": 26
    },
    {
     "cell_type": "markdown",
     "metadata": {},
     "source": [
      "L\u00e0 il y a eu plein de chose ajout\u00e9es.\n",
      "\n",
      "`l` c'est la liste des valeurs de ma table.\n",
      "\n",
      "L\u00e0 structure de donn\u00e9es **liste** permet de ranger des donn\u00e9es les unes derri\u00e8re les autres, dans l'ordre et d'aller les chercher en disant le quanti\u00e8me \u00e9lement, attention on part de 0.\n",
      "\n",
      "La methode append de l'objet liste permet d'ajouter des \u00e9l\u00e9ments \u00e0 notre liste."
     ]
    },
    {
     "cell_type": "code",
     "collapsed": false,
     "input": [
      "print range(1,11) #fabrique la liste des entiers de 1 \u00e0 11, 11 exclu"
     ],
     "language": "python",
     "metadata": {},
     "outputs": [
      {
       "output_type": "stream",
       "stream": "stdout",
       "text": [
        "[1, 2, 3, 4, 5, 6, 7, 8, 9, 10]\n"
       ]
      }
     ],
     "prompt_number": 27
    },
    {
     "cell_type": "markdown",
     "metadata": {},
     "source": [
      "description de la premi\u00e8re boucle : l prend les valeurs et on fait le calcul\n",
      "\n",
      "`enumerate` = petite astuce filou!\n",
      "\n",
      "fa\u00e7on plus simple mais moins Python serait de refaire un:\n",
      "\n",
      "```python\n",
      "for i in range(1,11):\n",
      "print \"{0} x {1} = {2}\".format(table, i, l[i])\n",
      "```\n",
      "Mouais, mais \u00e7a marche pas, il faut un i-1\n",
      "\n",
      "Allez, on va faire une fonction moyenne qui prend en argument liste de nombre et sort!\n",
      "\n",
      "Info utile : pour liste `l`, `len(l)`retourne la longueur de la liste"
     ]
    },
    {
     "cell_type": "code",
     "collapsed": false,
     "input": [
      "liste=[1,2,3,4,5,6,7]\n",
      "def m(l): return float(sum(l))/len(l)\n",
      "        \n",
      "print \"Moyenne de \",l,\" : \",m(liste)"
     ],
     "language": "python",
     "metadata": {},
     "outputs": [
      {
       "output_type": "stream",
       "stream": "stdout",
       "text": [
        "Moyenne de  [1, 2, 3]  :  4.0\n"
       ]
      }
     ],
     "prompt_number": 60
    },
    {
     "cell_type": "code",
     "collapsed": false,
     "input": [
      "liste=[1,2,3,4,5,6,7]\n",
      "def m(l):\n",
      "    try:\n",
      "        compteur=0\n",
      "        total=0\n",
      "        while True:\n",
      "            compteur+=1\n",
      "            total=total + l[compteur]\n",
      "    except IndexError:\n",
      "        return float(total)/compteur\n",
      "    \n",
      "\n",
      "m(liste)"
     ],
     "language": "python",
     "metadata": {},
     "outputs": [
      {
       "metadata": {},
       "output_type": "pyout",
       "prompt_number": 62,
       "text": [
        "3.857142857142857"
       ]
      }
     ],
     "prompt_number": 62
    },
    {
     "cell_type": "markdown",
     "metadata": {},
     "source": [
      "Dans la fa\u00e7n de faire, on commence par cr\u00e9er le squelette:"
     ]
    },
    {
     "cell_type": "code",
     "collapsed": false,
     "input": [
      "def moyenne(l):\n",
      "    return 0\n",
      "\n",
      "liste=[1,2,3]\n",
      "m=moyenne(liste)\n",
      "print \"Moyenne de \",l,\" : \",m"
     ],
     "language": "python",
     "metadata": {},
     "outputs": [
      {
       "output_type": "stream",
       "stream": "stdout",
       "text": [
        " Moyenne de  [1, 2, 3]  :  0\n"
       ]
      }
     ],
     "prompt_number": 55
    },
    {
     "cell_type": "markdown",
     "metadata": {},
     "source": [
      "Puis, une fois le squelette pos\u00e9, on peut ensuite modifier le code pour faire la fonction comme il faut.\n",
      "\n",
      "Sinon, on peut faire des trucs et ensuite inclure le tout dans une fonction."
     ]
    },
    {
     "cell_type": "code",
     "collapsed": false,
     "input": [
      "def moyenne(l):\n",
      "    total = 0\n",
      "    for i in l:\n",
      "        total = total + i\n",
      "    moy = float(total) / len(l)\n",
      "    return moy\n",
      "\n",
      "liste=[1,2,3]\n",
      "m = moyenne(liste)\n",
      "print \"Moyenne de \",l ,\" : \", m"
     ],
     "language": "python",
     "metadata": {},
     "outputs": [
      {
       "output_type": "stream",
       "stream": "stdout",
       "text": [
        "Moyenne de  [1, 2, 3]  :  2.0\n"
       ]
      }
     ],
     "prompt_number": 65
    },
    {
     "cell_type": "markdown",
     "metadata": {},
     "source": [
      "Notez que dans Spyder on peut voir ce qu'il y a dans l'explorateur de variables.\n",
      "\n",
      "Ici, pourtant, `moy` et `total` n'y sont pas... Pourquoi?\n",
      "\n",
      "Quand on rentre dans une fonction on a un espace local de nom pour la fonction => sch\u00e9ma avec espace de nom et espace local.\n",
      "\n",
      "\u00c0 le nom `moy`, avec la valeur de retour (`return`), n'existe que dans la fonction. Quand la fonction se termine, l'espace de nom local de la fonction est detruit.\n",
      "\n",
      "Du coup, quand on change la valeur de variable ds la fonction, \u00e7a ne se voit pas dans l'explorateur de variables de Spyder.\n",
      "\n",
      "En Python on ne manipule que des pointeurs qui pointent vers des objets.\n",
      "La valeur de retour de la fonction c'est ce qui va pointer vers le truc en memoire. Le nom qui permet d'acceder a la donnee disparait. Si la donn\u00e9e reste accessible par ailleurs, alors on peut la retrouver, sinon elle est perdue.\n",
      "\n",
      "# Les tuples (n-uplets)"
     ]
    },
    {
     "cell_type": "code",
     "collapsed": false,
     "input": [
      "t=5,6\n",
      "print t, '\\n', type(t), '\\n', len(t)"
     ],
     "language": "python",
     "metadata": {},
     "outputs": [
      {
       "output_type": "stream",
       "stream": "stdout",
       "text": [
        "(5, 6) \n",
        "<type 'tuple'> \n",
        "2\n"
       ]
      }
     ],
     "prompt_number": 9
    },
    {
     "cell_type": "markdown",
     "metadata": {},
     "source": [
      "`t` est un tupple. Cela sert surtout pour renvoyer plusieurs valeurs et c'est tr\u00e8s utile pour ne pas \u00e9crire des indices partout.\n",
      "\n",
      "Si on veut que notre fonction nous renvoie deux trucs, par exemple la moyenne et la variance, alors on utilise ces tuples."
     ]
    },
    {
     "cell_type": "code",
     "collapsed": false,
     "input": [
      "def moyenne_et_variance(l):\n",
      "    total = 0\n",
      "    for i in l:\n",
      "        total = total + i\n",
      "    moy = float(total) / len(l)\n",
      "    var = 0\n",
      "    for i in l:\n",
      "        var = var + (i-moy)**2\n",
      "    return moy, var\n",
      "\n",
      "liste=[1,2,3,4,5]\n",
      "m, v = moyenne_et_variance(liste)\n",
      "print \"Pour \", liste ,\" la moyenne est \", m, \" et la variance est \", v"
     ],
     "language": "python",
     "metadata": {},
     "outputs": [
      {
       "output_type": "stream",
       "stream": "stdout",
       "text": [
        "Pour  [1, 2, 3, 4, 5]  la moyenne est  3.0  et la variance est  10.0\n"
       ]
      }
     ],
     "prompt_number": 13
    },
    {
     "cell_type": "markdown",
     "metadata": {},
     "source": [
      "On peut aussi faire:"
     ]
    },
    {
     "cell_type": "code",
     "collapsed": false,
     "input": [
      "def moyenne_et_variance(l):\n",
      "    total = 0\n",
      "    for i in l:\n",
      "        total = total + i\n",
      "    moy = float(total) / len(l)\n",
      "    var = 0\n",
      "    for i in l:\n",
      "        var = var + (i-moy)**2\n",
      "    r=(moy,var)\n",
      "    return r\n",
      "\n",
      "liste=[1,2,3,4,5]\n",
      "m, v = moyenne_et_variance(liste)\n",
      "print \"Pour \", liste ,\" la moyenne est \", m, \" et la variance est \", v"
     ],
     "language": "python",
     "metadata": {},
     "outputs": [
      {
       "output_type": "stream",
       "stream": "stdout",
       "text": [
        "Pour  [1, 2, 3, 4, 5]  la moyenne est  3.0  et la variance est  10.0\n"
       ]
      }
     ],
     "prompt_number": 14
    },
    {
     "cell_type": "markdown",
     "metadata": {},
     "source": [
      "Notez que pour toutes les s\u00e9quences (liste), on peut les parcourir avec `for` et en attraper un element avec des crochets et l'indice correspondant.\n",
      "\n",
      "On peut modifier les s\u00e9quence, mais on ne peut pas modifier les tupples. Par exemple, une chaine de caract\u00e8re est un tuple en Python. Du coup, les chaines sont internalisees (compare les references).\n",
      "\n",
      "# Les sets (ensembles)\n",
      "Python donne aussi acc\u00e8s aux ensembles, le type de variable `set`."
     ]
    },
    {
     "cell_type": "code",
     "collapsed": false,
     "input": [
      "s={1,2}\n",
      "print s,'\\n', type(s),'\\n', s[1]"
     ],
     "language": "python",
     "metadata": {},
     "outputs": [
      {
       "output_type": "stream",
       "stream": "stdout",
       "text": [
        "set([1, 2]) \n",
        "<type 'set'> \n"
       ]
      },
      {
       "ename": "TypeError",
       "evalue": "'set' object does not support indexing",
       "output_type": "pyerr",
       "traceback": [
        "\u001b[0;31m---------------------------------------------------------------------------\u001b[0m\n\u001b[0;31mTypeError\u001b[0m                                 Traceback (most recent call last)",
        "\u001b[0;32m<ipython-input-17-5010758e1a4a>\u001b[0m in \u001b[0;36m<module>\u001b[0;34m()\u001b[0m\n\u001b[1;32m      1\u001b[0m \u001b[0ms\u001b[0m\u001b[0;34m=\u001b[0m\u001b[0;34m{\u001b[0m\u001b[0;36m1\u001b[0m\u001b[0;34m,\u001b[0m\u001b[0;36m2\u001b[0m\u001b[0;34m}\u001b[0m\u001b[0;34m\u001b[0m\u001b[0m\n\u001b[0;32m----> 2\u001b[0;31m \u001b[0;32mprint\u001b[0m \u001b[0ms\u001b[0m\u001b[0;34m,\u001b[0m\u001b[0;34m'\\n'\u001b[0m\u001b[0;34m,\u001b[0m \u001b[0mtype\u001b[0m\u001b[0;34m(\u001b[0m\u001b[0ms\u001b[0m\u001b[0;34m)\u001b[0m\u001b[0;34m,\u001b[0m\u001b[0;34m'\\n'\u001b[0m\u001b[0;34m,\u001b[0m \u001b[0ms\u001b[0m\u001b[0;34m[\u001b[0m\u001b[0;36m1\u001b[0m\u001b[0;34m]\u001b[0m\u001b[0;34m\u001b[0m\u001b[0m\n\u001b[0m",
        "\u001b[0;31mTypeError\u001b[0m: 'set' object does not support indexing"
       ]
      }
     ],
     "prompt_number": 17
    },
    {
     "cell_type": "markdown",
     "metadata": {},
     "source": [
      "On remarque que les ensembles sont non index\u00e9s. Par contre il existe les op\u00e9ration mathematiques classique pour les ensemble : union, intersection, appartenance etc."
     ]
    },
    {
     "cell_type": "code",
     "collapsed": false,
     "input": [
      "a={1,2,3}\n",
      "b={2,3,4}\n",
      "print \"a union b =\", a.union(b)\n",
      "print \"a intersection b =\", a.intersection(b)\n",
      "print \"1 is in a:\", 1 in a\n",
      "print \"1 is in b:\", 1 in b"
     ],
     "language": "python",
     "metadata": {},
     "outputs": [
      {
       "output_type": "stream",
       "stream": "stdout",
       "text": [
        "a union b = set([1, 2, 3, 4])\n",
        "a intersection b = set([2, 3])\n",
        "1 is in a: True\n",
        "1 is in b: False\n"
       ]
      }
     ],
     "prompt_number": 22
    },
    {
     "cell_type": "markdown",
     "metadata": {},
     "source": [
      "La prochaine fois nous verrons les dictionaires. On pourra aussi regarder un probl\u00e8me qui vous concerne et voir ce qu'on peut faire en Python."
     ]
    },
    {
     "cell_type": "code",
     "collapsed": false,
     "input": [],
     "language": "python",
     "metadata": {},
     "outputs": []
    }
   ],
   "metadata": {}
  }
 ]
}
